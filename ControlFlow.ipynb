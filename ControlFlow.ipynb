{
  "nbformat": 4,
  "nbformat_minor": 0,
  "metadata": {
    "colab": {
      "provenance": [],
      "authorship_tag": "ABX9TyPlfviBC+uhjcx0UVeraAPl",
      "include_colab_link": true
    },
    "kernelspec": {
      "name": "python3",
      "display_name": "Python 3"
    },
    "language_info": {
      "name": "python"
    }
  },
  "cells": [
    {
      "cell_type": "markdown",
      "metadata": {
        "id": "view-in-github",
        "colab_type": "text"
      },
      "source": [
        "<a href=\"https://colab.research.google.com/github/subhrapattnaik/Assignment/blob/main/ControlFlow.ipynb\" target=\"_parent\"><img src=\"https://colab.research.google.com/assets/colab-badge.svg\" alt=\"Open In Colab\"/></a>"
      ]
    },
    {
      "cell_type": "markdown",
      "source": [
        "Basic If-Else Statements:\n"
      ],
      "metadata": {
        "id": "cd1yM8UI0EYQ"
      }
    },
    {
      "cell_type": "markdown",
      "source": [
        "1. Write a Python program to check if a given number is positive or negative.\n"
      ],
      "metadata": {
        "id": "p3yeuGra0GMc"
      }
    },
    {
      "cell_type": "code",
      "execution_count": null,
      "metadata": {
        "id": "LoLDjwBIz8p0",
        "colab": {
          "base_uri": "https://localhost:8080/"
        },
        "outputId": "04729a8c-6e2e-4cc6-b87b-c314cb068cd6"
      },
      "outputs": [
        {
          "output_type": "stream",
          "name": "stdout",
          "text": [
            "Enter a number : 56\n",
            "Number 56 is positive\n"
          ]
        }
      ],
      "source": [
        "num =int(input(\"Enter a number : \"))\n",
        "\n",
        "if num > 0:\n",
        "  print(f\"Number {num} is positive\")\n",
        "else:\n",
        "  print (f\"Number {num} is Negative\")\n",
        "\n"
      ]
    },
    {
      "cell_type": "markdown",
      "source": [
        "2. Create a program that determines if a person is eligible to vote based on their age.\n"
      ],
      "metadata": {
        "id": "-j_GotxQ07ot"
      }
    },
    {
      "cell_type": "code",
      "source": [
        "age = int(input(\"Enter your age : \"))\n",
        "if age > 18:\n",
        "  print(\" Elligible to vote\")\n",
        "else:\n",
        "  print (\"Not elligible to vote\")\n"
      ],
      "metadata": {
        "colab": {
          "base_uri": "https://localhost:8080/"
        },
        "id": "755_w2yF0PqR",
        "outputId": "1981903b-7e3c-4b2e-a5b5-7e181292b900"
      },
      "execution_count": null,
      "outputs": [
        {
          "output_type": "stream",
          "name": "stdout",
          "text": [
            "Enter your age : 6\n",
            "Not elligible to vote\n"
          ]
        }
      ]
    },
    {
      "cell_type": "markdown",
      "source": [
        "3. Develop a program to find the maximum of two numbers using if-else statements.\n"
      ],
      "metadata": {
        "id": "ETy0fsz8T5gI"
      }
    },
    {
      "cell_type": "code",
      "source": [
        "7\n",
        "num1 = int(input(\"Enter the first number: \"))\n",
        "num2 = int(input(\"Enter the second number: \"))\n",
        "\n",
        "\n",
        "if(num1 > num2):\n",
        "  print(num1, \"is greater\")\n",
        "elif(num1 < num2):\n",
        "    print(num2, \"is greater\")\n",
        "else:\n",
        "    print(\"Both are equal\")"
      ],
      "metadata": {
        "colab": {
          "base_uri": "https://localhost:8080/"
        },
        "id": "XL90j1dRT6K1",
        "outputId": "1e004741-0cdf-4fa9-8b04-ef34188877eb"
      },
      "execution_count": null,
      "outputs": [
        {
          "output_type": "stream",
          "name": "stdout",
          "text": [
            "Enter the first number: 56\n",
            "Enter the second number: 89\n",
            "89 is greater\n"
          ]
        }
      ]
    },
    {
      "cell_type": "markdown",
      "source": [
        "4. Write a Python script to classify a given year as a leap year or not.\n"
      ],
      "metadata": {
        "id": "J_-Qa82ZUMGa"
      }
    },
    {
      "cell_type": "code",
      "source": [
        "year = int(input(\"Enter the Year: \"))\n",
        "\n",
        "if (year%400 == 0) or (year%4==0 and year%100!=0):\n",
        "    print(\"Leap Year\")\n",
        "else:\n",
        "    print(\"Not a Leap Year\")"
      ],
      "metadata": {
        "colab": {
          "base_uri": "https://localhost:8080/"
        },
        "id": "tG5MrBfAUQ25",
        "outputId": "3a32eeb1-1320-4a34-b67e-5e86fc2ed304"
      },
      "execution_count": null,
      "outputs": [
        {
          "output_type": "stream",
          "name": "stdout",
          "text": [
            "Enter the Year: 2023\n",
            "Not a Leap Year\n"
          ]
        }
      ]
    },
    {
      "cell_type": "markdown",
      "source": [
        "5. Create a program that checks whether a character is a vowel or a consonant.\n"
      ],
      "metadata": {
        "id": "E8toM4h-Ui24"
      }
    },
    {
      "cell_type": "code",
      "source": [
        "character = input(\"Enter a character: \")\n",
        "\n",
        "# Creating a list of vowels\n",
        "vowels = ['a', 'e', 'i', 'o', 'u', 'A', 'E', 'I', 'O', 'U']\n",
        "\n",
        "# Check if the character is a vowel or not\n",
        "if character in vowels:\n",
        "    print(f\"The character '{character}' is a vowel!\")\n",
        "else:\n",
        "    print(f\"The character '{character}' is a consonant!\")"
      ],
      "metadata": {
        "colab": {
          "base_uri": "https://localhost:8080/"
        },
        "id": "J8aqZiviUo8U",
        "outputId": "5eaa7651-4ca6-4b4c-d3c9-b96794ca0f91"
      },
      "execution_count": null,
      "outputs": [
        {
          "output_type": "stream",
          "name": "stdout",
          "text": [
            "Enter a character: y\n",
            "The character 'y' is a consonant!\n"
          ]
        }
      ]
    },
    {
      "cell_type": "markdown",
      "source": [
        "6. Implement a program to determine whether a given number is even or odd.\n"
      ],
      "metadata": {
        "id": "QJNKDIPRU42f"
      }
    },
    {
      "cell_type": "code",
      "source": [
        "num =int(input(\"Enter a number : \"))\n",
        "\n",
        "if (num % 2) == 0:\n",
        "  print(\"even\")\n",
        "else:\n",
        "  print(\"odd\")\n"
      ],
      "metadata": {
        "colab": {
          "base_uri": "https://localhost:8080/"
        },
        "id": "Fro0KMvjU-7-",
        "outputId": "65e9a759-6478-4917-e83f-b25c7a49ae07"
      },
      "execution_count": null,
      "outputs": [
        {
          "output_type": "stream",
          "name": "stdout",
          "text": [
            "Enter a number : 5\n",
            "odd\n"
          ]
        }
      ]
    },
    {
      "cell_type": "markdown",
      "source": [
        "7. Write a Python function to calculate the absolute value of a number without using the `abs()` function.\n"
      ],
      "metadata": {
        "id": "A8LdkI4fV8nd"
      }
    },
    {
      "cell_type": "code",
      "source": [
        "def absolute_value(num):\n",
        "    if num >= 0:\n",
        "        return num\n",
        "    else:\n",
        "        return -num\n",
        "\n",
        "# Test the function with positive, negative, and zero values\n",
        "print(absolute_value(10))\n",
        "print(absolute_value(-20))\n",
        "print(absolute_value(0))"
      ],
      "metadata": {
        "colab": {
          "base_uri": "https://localhost:8080/"
        },
        "id": "vyqZ3HBmWBbY",
        "outputId": "729eb71a-7136-4462-c18a-5efad602ad51"
      },
      "execution_count": null,
      "outputs": [
        {
          "output_type": "stream",
          "name": "stdout",
          "text": [
            "10\n",
            "20\n",
            "0\n"
          ]
        }
      ]
    },
    {
      "cell_type": "markdown",
      "source": [
        "8. Develop a program that determines the largest of three given numbers using if-else statements.\n"
      ],
      "metadata": {
        "id": "NIzs96tcWUU8"
      }
    },
    {
      "cell_type": "code",
      "source": [
        "a =int(input(\"Enter 1st number : \"))\n",
        "b =int(input(\"Enter 2nd number : \"))\n",
        "c =int(input(\"Enter 3rd number: \"))\n",
        "\n",
        "\n",
        "largest = 0\n",
        "\n",
        "if a > b and a > c:\n",
        "    largest = a\n",
        "if b > a and b > c:\n",
        "    largest = b\n",
        "if c > a and c > b:\n",
        "    largest = c\n",
        "\n",
        "print(largest, \"is the largest of three numbers.\")"
      ],
      "metadata": {
        "colab": {
          "base_uri": "https://localhost:8080/"
        },
        "id": "GGxH58GoWYLQ",
        "outputId": "cf44c5ac-1cf5-4a86-9724-121df779bafb"
      },
      "execution_count": null,
      "outputs": [
        {
          "output_type": "stream",
          "name": "stdout",
          "text": [
            "Enter 1st number : 5\n",
            "Enter 2nd number : 6\n",
            "Enter 3rd number: 7\n",
            "7 is the largest of three numbers.\n"
          ]
        }
      ]
    },
    {
      "cell_type": "markdown",
      "source": [
        "9. Create a program that checks if a given string is a palindrome.\n"
      ],
      "metadata": {
        "id": "O1vyJskgW5QN"
      }
    },
    {
      "cell_type": "code",
      "source": [
        "def isPalindrome(s):\n",
        "    return s == s[::-1]\n",
        "\n",
        "\n",
        "\n",
        "str = input(\"Enter a String : \")\n",
        "ans = isPalindrome(str)\n",
        "\n",
        "if ans:\n",
        "    print(\"Yes\")\n",
        "else:\n",
        "    print(\"No\")"
      ],
      "metadata": {
        "colab": {
          "base_uri": "https://localhost:8080/"
        },
        "id": "cu889h4RW9J6",
        "outputId": "59e2438e-1a3f-4df5-931e-e09903da525b"
      },
      "execution_count": null,
      "outputs": [
        {
          "output_type": "stream",
          "name": "stdout",
          "text": [
            "Enter a String : madam\n",
            "Yes\n"
          ]
        }
      ]
    },
    {
      "cell_type": "markdown",
      "source": [
        "10. Write a Python program to calculate the grade based on a student's score.\n"
      ],
      "metadata": {
        "id": "aOgxyYsnXXAX"
      }
    },
    {
      "cell_type": "code",
      "source": [
        "print(\"Enter Marks Obtained in 5 Subjects: \")\n",
        "markOne = int(input())\n",
        "markTwo = int(input())\n",
        "markThree = int(input())\n",
        "markFour = int(input())\n",
        "markFive = int(input())\n",
        "\n",
        "tot = markOne+markTwo+markThree+markFour+markFive\n",
        "avg = tot/5\n",
        "\n",
        "if avg>=91 and avg<=100:\n",
        "    print(\"Your Grade is A1\")\n",
        "elif avg>=81 and avg<91:\n",
        "    print(\"Your Grade is A2\")\n",
        "elif avg>=71 and avg<81:\n",
        "    print(\"Your Grade is B1\")\n",
        "elif avg>=61 and avg<71:\n",
        "    print(\"Your Grade is B2\")\n",
        "elif avg>=51 and avg<61:\n",
        "    print(\"Your Grade is C1\")\n",
        "elif avg>=41 and avg<51:\n",
        "    print(\"Your Grade is C2\")\n",
        "elif avg>=33 and avg<41:\n",
        "    print(\"Your Grade is D\")\n",
        "elif avg>=21 and avg<33:\n",
        "    print(\"Your Grade is E1\")\n",
        "elif avg>=0 and avg<21:\n",
        "    print(\"Your Grade is E2\")\n",
        "else:\n",
        "    print(\"Invalid Input!\")"
      ],
      "metadata": {
        "colab": {
          "base_uri": "https://localhost:8080/"
        },
        "id": "NCM4fA0HXac7",
        "outputId": "6540e5be-8381-419f-d3b0-45a9326f9d15"
      },
      "execution_count": null,
      "outputs": [
        {
          "output_type": "stream",
          "name": "stdout",
          "text": [
            "Enter Marks Obtained in 5 Subjects: \n",
            "56\n",
            "67\n",
            "89\n",
            "90\n",
            "99\n",
            "Your Grade is B1\n"
          ]
        }
      ]
    },
    {
      "cell_type": "markdown",
      "source": [
        "Nested If-Else Statements:\n"
      ],
      "metadata": {
        "id": "5XsgMX1LX6Eg"
      }
    },
    {
      "cell_type": "markdown",
      "source": [
        "11. Write a program to find the largest among three numbers using nested if-else statements.\n"
      ],
      "metadata": {
        "id": "JQDMo-84YAnI"
      }
    },
    {
      "cell_type": "code",
      "source": [
        "a = 22\n",
        "b = 33\n",
        "c = 11\n",
        "\n",
        "largest = 0\n",
        "\n",
        "if a > b and a > c :\n",
        "    largest = a\n",
        "elif b > c :\n",
        "    largest = b\n",
        "else :\n",
        "    largest = c\n",
        "\n",
        "print(largest, \"is the largest of three numbers.\")"
      ],
      "metadata": {
        "colab": {
          "base_uri": "https://localhost:8080/"
        },
        "id": "j4is1BunYEoE",
        "outputId": "c1176fd9-a23e-4ced-f3ca-d0f2e2de60ab"
      },
      "execution_count": null,
      "outputs": [
        {
          "output_type": "stream",
          "name": "stdout",
          "text": [
            "33 is the largest of three numbers.\n"
          ]
        }
      ]
    },
    {
      "cell_type": "markdown",
      "source": [
        "12. Implement a program to determine if a triangle is equilateral, isosceles, or scalene.\n"
      ],
      "metadata": {
        "id": "ogsidjriY5ac"
      }
    },
    {
      "cell_type": "code",
      "source": [
        "print(\"Input lengths of the triangle sides: \")\n",
        "x = int(input(\"x: \"))\n",
        "y = int(input(\"y: \"))\n",
        "z = int(input(\"z: \"))\n",
        "\n",
        "if x == y == z:\n",
        "\tprint(\"Equilateral triangle\")\n",
        "elif x==y or y==z or z==x:\n",
        "\tprint(\"isosceles triangle\")\n",
        "else:\n",
        "\tprint(\"Scalene triangle\")"
      ],
      "metadata": {
        "colab": {
          "base_uri": "https://localhost:8080/"
        },
        "id": "15M6u1AIY6MZ",
        "outputId": "f1862e4d-1843-49b6-e080-ea9d5496fa2e"
      },
      "execution_count": null,
      "outputs": [
        {
          "output_type": "stream",
          "name": "stdout",
          "text": [
            "Input lengths of the triangle sides: \n",
            "x: 5\n",
            "y: 6\n",
            "z: 5\n",
            "isosceles triangle\n"
          ]
        }
      ]
    },
    {
      "cell_type": "markdown",
      "source": [
        "13. Develop a program that checks if a year is a leap year and also if it is a century year.\n"
      ],
      "metadata": {
        "id": "bwGBYp6wZI73"
      }
    },
    {
      "cell_type": "code",
      "source": [
        "# Python Program to Check Leap Year\n",
        "\n",
        "year=int(input(\"Enter year to be checked:\"))\n",
        "if(year%4==0 or year%400==0):\n",
        "    print(\"The year is a  leap year!\")\n",
        "elif(year%100 == 0):\n",
        "    print(\"The year is a century year\")"
      ],
      "metadata": {
        "colab": {
          "base_uri": "https://localhost:8080/"
        },
        "id": "VYnG4MM4ZPUD",
        "outputId": "cf57ad62-6322-4b0f-9163-5d517f2de231"
      },
      "execution_count": null,
      "outputs": [
        {
          "output_type": "stream",
          "name": "stdout",
          "text": [
            "Enter year to be checked:2020\n",
            "The year is a  leap year!\n"
          ]
        }
      ]
    },
    {
      "cell_type": "markdown",
      "source": [
        "14. Write a Python script to determine if a number is positive, negative, or zero.\n"
      ],
      "metadata": {
        "id": "S-GGUsYycld_"
      }
    },
    {
      "cell_type": "code",
      "source": [
        "\n",
        "    def NumberCheck(a):\n",
        "        # Checking if the number is positive\n",
        "        if a > 0:\n",
        "            print(\"Number given by you is Positive\")\n",
        "        # Checking if the number is negative\n",
        "        elif a < 0:\n",
        "            print(\"Number given by you is Negative\")\n",
        "        # Else the number is zero\n",
        "        else:\n",
        "            print(\"Number given by you is zero\")\n",
        "    # Taking number from user\n",
        "    a = float(input(\"Enter a number as input value: \"))\n",
        "    # Printing result\n",
        "    NumberCheck(a)"
      ],
      "metadata": {
        "colab": {
          "base_uri": "https://localhost:8080/"
        },
        "id": "mmJODyJWdwDR",
        "outputId": "6654115f-f7c3-4bdc-c555-2721ac6e4348"
      },
      "execution_count": null,
      "outputs": [
        {
          "output_type": "stream",
          "name": "stdout",
          "text": [
            "Enter a number as input value: 56\n",
            "Number given by you is Positive\n"
          ]
        }
      ]
    },
    {
      "cell_type": "markdown",
      "source": [
        "15. Create a program to check if a person is a teenager (between 13 and 19 years old).\n"
      ],
      "metadata": {
        "id": "rBJuMF28d9v7"
      }
    },
    {
      "cell_type": "code",
      "source": [
        "age = int(input(\"Enter your age : \"))\n",
        "if age >13 and age <18:\n",
        "  print(\"Person is a teenager\")\n",
        "elif age >18 :\n",
        "  print(\"adult\")\n",
        "else:\n",
        "  print(\"child\")"
      ],
      "metadata": {
        "colab": {
          "base_uri": "https://localhost:8080/"
        },
        "id": "U00L5KE0eCeW",
        "outputId": "d89e9f46-f9d2-42b9-c134-dde1b5ec5be4"
      },
      "execution_count": null,
      "outputs": [
        {
          "output_type": "stream",
          "name": "stdout",
          "text": [
            "Enter your age : 5\n",
            "child\n"
          ]
        }
      ]
    },
    {
      "cell_type": "markdown",
      "source": [
        "16. Develop a program that determines the type of angle based on its measure (acute, obtuse, or right).\n"
      ],
      "metadata": {
        "id": "a0Mqsdu1rOZe"
      }
    },
    {
      "cell_type": "code",
      "source": [
        "angle = int(input(\"Enter your angle : \"))\n",
        "if angle < 90:\n",
        "  print(\"Acute Angle\")\n",
        "elif angle > 90 :\n",
        "  print(\"Obtuse Angle\")\n",
        "elif angle == 90:\n",
        "  print(\"Right Angle\")"
      ],
      "metadata": {
        "colab": {
          "base_uri": "https://localhost:8080/"
        },
        "id": "rSKoeSDDrTIO",
        "outputId": "c24d8648-8398-42a3-c3d3-f64a6070c895"
      },
      "execution_count": null,
      "outputs": [
        {
          "output_type": "stream",
          "name": "stdout",
          "text": [
            "Enter your angle : 90\n",
            "Right Angle\n"
          ]
        }
      ]
    },
    {
      "cell_type": "markdown",
      "source": [
        "17. Write a Python program to calculate the roots of a quadratic equation.\n"
      ],
      "metadata": {
        "id": "IsAICERzr3Mb"
      }
    },
    {
      "cell_type": "code",
      "source": [
        "\"\"\"\n",
        "ax2 + bx + c = 0\n",
        "where,\n",
        "a, b, and c are coefficient and real numbers and also a ≠ 0.\n",
        "If a is equal to 0 that equation is not valid quadratic equation.\n",
        "\"\"\"\n",
        "\n",
        "# import complex math module\n",
        "import cmath\n",
        "\n",
        "a = 1\n",
        "b = 4\n",
        "c = 2\n",
        "\n",
        "# calculating  the discriminant\n",
        "dis = (b**2) - (4 * a*c)\n",
        "\n",
        "# find two results\n",
        "ans1 = (-b-cmath.sqrt(dis))/(2 * a)\n",
        "ans2 = (-b + cmath.sqrt(dis))/(2 * a)\n",
        "\n",
        "# printing the results\n",
        "print('The roots are')\n",
        "print(ans1)\n",
        "print(ans2)\n"
      ],
      "metadata": {
        "colab": {
          "base_uri": "https://localhost:8080/"
        },
        "id": "Rdcudr7Dr6zb",
        "outputId": "8fa4755b-85b7-4d01-d99f-0bc8e0cad8e7"
      },
      "execution_count": null,
      "outputs": [
        {
          "output_type": "stream",
          "name": "stdout",
          "text": [
            "The roots are\n",
            "(-3.414213562373095+0j)\n",
            "(-0.5857864376269049+0j)\n"
          ]
        }
      ]
    },
    {
      "cell_type": "markdown",
      "source": [
        "18. Implement a program to determine the day of the week based on a user-provided number (1 for Monday, 2 for Tuesday, etc.).\n"
      ],
      "metadata": {
        "id": "Lssgi-rKwO4g"
      }
    },
    {
      "cell_type": "code",
      "source": [
        "print(\"1.Sunday,2.Monday,3.Tuesday,4.wednesday,5.Thursday,6.Friday,7.Saturday\")\n",
        "num = int(input(\"Enter the day of the week in number : \"))\n",
        "\n",
        "if(num == 1):\n",
        "    print('Monday')\n",
        "elif(num ==2):\n",
        "    print('Tuesday')\n",
        "elif(num == 3):\n",
        "    print('Wednesday')\n",
        "elif(num == 4):\n",
        "    print('Thursday')\n",
        "elif(num == 5):\n",
        "    print('Friday')\n",
        "elif(num == 6):\n",
        "    print('Sunday')\n",
        "elif(num == 7):\n",
        "    print('Saturday')\n",
        "elif(num < 1):\n",
        "    print('Put a number between 1 and 7')\n",
        "else:\n",
        "    print('Put a number between 1 and 7')"
      ],
      "metadata": {
        "colab": {
          "base_uri": "https://localhost:8080/"
        },
        "id": "UDgdb6ydwbEE",
        "outputId": "d28059a4-f37c-45b7-d71e-bc0343d4016a"
      },
      "execution_count": null,
      "outputs": [
        {
          "output_type": "stream",
          "name": "stdout",
          "text": [
            "1.Sunday,2.Monday,3.Tuesday,4.wednesday,5.Thursday,6.Friday,7.Saturday\n",
            "Enter the day of the week in number : 6\n",
            "Sunday\n"
          ]
        }
      ]
    },
    {
      "cell_type": "markdown",
      "source": [
        "19. Create a program that determines if a year is a leap year and also if it is evenly divisible by 400.\n"
      ],
      "metadata": {
        "id": "PsaH9IRcyPKZ"
      }
    },
    {
      "cell_type": "code",
      "source": [
        "#repeat"
      ],
      "metadata": {
        "id": "4pJDn_jDye4c"
      },
      "execution_count": null,
      "outputs": []
    },
    {
      "cell_type": "markdown",
      "source": [
        "20. Develop a program that checks if a given number is prime or not using nested if-else statements.\n",
        "\n"
      ],
      "metadata": {
        "id": "wcBe9eQiyjpT"
      }
    },
    {
      "cell_type": "code",
      "source": [
        "num = 12\n",
        "# If given number is greater than 1\n",
        "if num > 1:\n",
        "    # Iterate from 2 to n / 2\n",
        "    for i in range(2, int(num/2)+1):\n",
        "        # If num is divisible by any number between\n",
        "        # 2 and n / 2, it is not prime\n",
        "        if (num % i) == 0:\n",
        "            print(num, \"is not a prime number\")\n",
        "            break\n",
        "    else:\n",
        "        print(num, \"is a prime number\")\n",
        "else:\n",
        "    print(num, \"is not a prime number\")"
      ],
      "metadata": {
        "colab": {
          "base_uri": "https://localhost:8080/"
        },
        "id": "DgXUUOl3BW2t",
        "outputId": "9a83b9fa-9ad0-4760-9026-f0805ffe05dc"
      },
      "execution_count": null,
      "outputs": [
        {
          "output_type": "stream",
          "name": "stdout",
          "text": [
            "12 is not a prime number\n"
          ]
        }
      ]
    },
    {
      "cell_type": "markdown",
      "source": [
        "Elif Statements:\n"
      ],
      "metadata": {
        "id": "zxR38F9tBrb4"
      }
    },
    {
      "cell_type": "markdown",
      "source": [
        "21. Write a Python program to assign grades based on different ranges of scores using elif statements.\n"
      ],
      "metadata": {
        "id": "oumLihaxBwun"
      }
    },
    {
      "cell_type": "code",
      "source": [
        "#Repeat"
      ],
      "metadata": {
        "id": "QKivIq8LCAhn"
      },
      "execution_count": null,
      "outputs": []
    },
    {
      "cell_type": "markdown",
      "source": [
        "22. Implement a program to determine the type of a triangle based on its angles.\n"
      ],
      "metadata": {
        "id": "9mwvoY2CCT-Q"
      }
    },
    {
      "cell_type": "code",
      "source": [
        "#Repeat"
      ],
      "metadata": {
        "id": "VlS8wizhCjeM"
      },
      "execution_count": null,
      "outputs": []
    },
    {
      "cell_type": "markdown",
      "source": [],
      "metadata": {
        "id": "kB8p9krACl1Y"
      }
    },
    {
      "cell_type": "markdown",
      "source": [
        "23.Develop a program to categorize a given person's BMI into underweight, normal, overweight, or obese using elif statements.\n"
      ],
      "metadata": {
        "id": "Kq2XzMVxC_Mr"
      }
    },
    {
      "cell_type": "code",
      "source": [
        "    # asking for input from the users\n",
        "    the_height = float(input(\"Enter the height in cm: \"))\n",
        "    the_weight = float(input(\"Enter the weight in kg: \"))\n",
        "    # defining a function for BMI\n",
        "    the_BMI = the_weight / (the_height/100)**2\n",
        "    # printing the BMI\n",
        "    print(\"Your Body Mass Index is\", the_BMI)\n",
        "    # using the if-elif-else conditions\n",
        "    if the_BMI <= 18.5:\n",
        "        print(\"Oops! You are underweight.\")\n",
        "    elif the_BMI <= 24.9:\n",
        "        print(\"Awesome! You are healthy.\")\n",
        "    elif the_BMI <= 29.9:\n",
        "        print(\"Eee! You are over weight.\")\n",
        "    else:\n",
        "        print(\"Seesh! You are obese.\")"
      ],
      "metadata": {
        "colab": {
          "base_uri": "https://localhost:8080/"
        },
        "id": "Um2XN_PcDBuQ",
        "outputId": "0ed67dcc-0702-414c-8878-aea32b605b9e"
      },
      "execution_count": null,
      "outputs": [
        {
          "output_type": "stream",
          "name": "stdout",
          "text": [
            "Enter the height in cm: 143\n",
            "Enter the weight in kg: 51\n",
            "Your Body Mass Index is 24.940094870164803\n",
            "Eee! You are over weight.\n"
          ]
        }
      ]
    },
    {
      "cell_type": "markdown",
      "source": [
        "24. Create a program that determines whether a given number is positive, negative, or zero using elif statements.\n"
      ],
      "metadata": {
        "id": "NvORnfQpDfeZ"
      }
    },
    {
      "cell_type": "code",
      "source": [
        "def check(n):\n",
        "\n",
        "\n",
        "    if n > 0:\n",
        "        print(\"Positive\")\n",
        "\n",
        "\n",
        "    elif n < 0:\n",
        "        print(\"Negative\")\n",
        "\n",
        "\n",
        "\n",
        "    else:\n",
        "        print(\"Equal to zero\")\n",
        "\n",
        "# Driver Code\n",
        "check(5)\n",
        "check(0)\n",
        "check(-5)"
      ],
      "metadata": {
        "colab": {
          "base_uri": "https://localhost:8080/"
        },
        "id": "M1USIMa4Dkwp",
        "outputId": "90b8de4f-4ae3-4868-fae7-cb8adf093e74"
      },
      "execution_count": null,
      "outputs": [
        {
          "output_type": "stream",
          "name": "stdout",
          "text": [
            "Positive\n",
            "Equal to zero\n",
            "Negative\n"
          ]
        }
      ]
    },
    {
      "cell_type": "markdown",
      "source": [
        "25. Write a Python script to determine the type of a character (uppercase, lowercase, or special) using elif statements.\n"
      ],
      "metadata": {
        "id": "Bf-iiKEQEL1F"
      }
    },
    {
      "cell_type": "code",
      "source": [
        "# Python Program to check character is Lowercase or Uppercase\n",
        "ch = input(\"Please Enter Your Own Character : \")\n",
        "\n",
        "if(ch.isupper()):\n",
        "    print(\"The Given Character \", ch, \"is an Uppercase Alphabet\")\n",
        "elif(ch.islower()):\n",
        "    print(\"The Given Character \", ch, \"is a Lowercase Alphabet\")\n",
        "elif(ch.isnumeric()):\n",
        "    print(\"The Given Character \", ch, \"is a Number\")\n",
        "else:\n",
        "    print(\"The Given Character \", ch, \"is a special character\")"
      ],
      "metadata": {
        "colab": {
          "base_uri": "https://localhost:8080/"
        },
        "id": "0dLiVP1xEc9V",
        "outputId": "f70ef487-249c-42fe-faf5-8119617ed95f"
      },
      "execution_count": null,
      "outputs": [
        {
          "output_type": "stream",
          "name": "stdout",
          "text": [
            "Please Enter Your Own Character : %\n",
            "The Given Character  % is a special character\n"
          ]
        }
      ]
    },
    {
      "cell_type": "markdown",
      "source": [
        "26. Implement a program to calculate the discounted price based on different purchase amounts using elif statements.\n"
      ],
      "metadata": {
        "id": "R8iwGF7kGe1i"
      }
    },
    {
      "cell_type": "code",
      "source": [
        "amount = int(input(\"Enter the amount you purchased for :\"))\n",
        "\n",
        "if amount >= 5000 :\n",
        "  print (\"You will get 20% discount\")\n",
        "  discounted_amount=amount -((amount*20)/100)\n",
        "  print (discounted_amount)\n",
        "elif amount >=3000 and amount <5000:\n",
        "  print(\" You will get 15% discount\")\n",
        "  discounted_amount=amount -((amount*15)/100)\n",
        "  print (discounted_amount)\n",
        "elif amount >=1500 and amount <3000:\n",
        "  print(\"You will get 10% discount\")\n",
        "  discounted_amount=amount -((amount*10)/100)\n",
        "  print (discounted_amount)\n",
        "else :\n",
        "  print(\"No discount!! Buy more to avail discount\")"
      ],
      "metadata": {
        "colab": {
          "base_uri": "https://localhost:8080/"
        },
        "id": "tRXycN8jG9di",
        "outputId": "63cddce6-955b-4155-8544-e7c1bec65821"
      },
      "execution_count": null,
      "outputs": [
        {
          "output_type": "stream",
          "name": "stdout",
          "text": [
            "Enter the amount you purchased for :1500\n",
            "You will get 10% discount\n",
            "1350.0\n"
          ]
        }
      ]
    },
    {
      "cell_type": "markdown",
      "source": [
        "27. Develop a program to calculate the electricity bill based on different consumption slabs using elif statements.\n"
      ],
      "metadata": {
        "id": "XQ0OATYaJL4t"
      }
    },
    {
      "cell_type": "code",
      "source": [
        "#program for calculating electricity bill in Python\n",
        "units=int(input(\"please enter the number of units you consumed in a month\"))\n",
        "if(units<=100):\n",
        "    payAmount=units*1.5\n",
        "    fixedcharge=25.00\n",
        "elif(units<=200):\n",
        "    payAmount=(100*1.5)+(units-100)*2.5\n",
        "    fixedcharge=50.00\n",
        "elif(units<=300):\n",
        "    payAmount=(100*1.5)+(200-100)*2.5+(units-200)*4\n",
        "    fixedcharge=75.00\n",
        "elif(units<=350):\n",
        "    payAmount=(100*1.5)+(200-100)*2.5+(300-200)*4+(units-300)*5\n",
        "    fixedcharge=100.00\n",
        "else:\n",
        "    payAmount=0\n",
        "    fixedcharge=1500.00\n",
        "\n",
        "Total=payAmount+fixedcharge;\n",
        "print(\"\\nElecticity bill=%.2f\" %Total)"
      ],
      "metadata": {
        "colab": {
          "base_uri": "https://localhost:8080/"
        },
        "id": "S8eP2eXBJSIe",
        "outputId": "d632815e-5900-4c92-f55a-be7b547807a1"
      },
      "execution_count": null,
      "outputs": [
        {
          "output_type": "stream",
          "name": "stdout",
          "text": [
            "please enter the number of units you consumed in a month1700\n",
            "\n",
            "Electicity bill=1500.00\n"
          ]
        }
      ]
    },
    {
      "cell_type": "markdown",
      "source": [
        "28. Create a program to determine the type of quadrilateral based on its angles and sides using elif statements.\n"
      ],
      "metadata": {
        "id": "JT1WyCmtOiN_"
      }
    },
    {
      "cell_type": "code",
      "source": [
        "#square,rectangle,rhombous,parrellogram,trapeseum\n",
        "sides=[]\n",
        "angles=[]\n",
        "for i in range(i,4):\n",
        "  side[i]=int(input(\"Enter the side of the quadrilateral: \"))\n",
        "  sides.append(side[i])\n",
        "print(sides)\n",
        "\n",
        "\n",
        "for a in range(i,4):\n",
        "  angle[i]=int(input(\"Enter the angle of the quadrilateral\"))\n",
        "  angles.append(angle[i])\n",
        "print(angles)\n",
        "\n",
        "\n",
        "sides=[10,10,10,10]\n",
        "sides=[10,20,10,20]\n",
        "\n",
        "angles=[90,90,90,90]\n",
        "angles=[60,120,60,120]\n",
        "\n",
        "\n",
        "if sides[]"
      ],
      "metadata": {
        "id": "phICnMxyOtI9"
      },
      "execution_count": null,
      "outputs": []
    }
  ]
}