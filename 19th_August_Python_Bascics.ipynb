{
  "nbformat": 4,
  "nbformat_minor": 0,
  "metadata": {
    "colab": {
      "provenance": [],
      "authorship_tag": "ABX9TyPEDNZNYZ5sJrdCn2CoeOc1",
      "include_colab_link": true
    },
    "kernelspec": {
      "name": "python3",
      "display_name": "Python 3"
    },
    "language_info": {
      "name": "python"
    }
  },
  "cells": [
    {
      "cell_type": "markdown",
      "metadata": {
        "id": "view-in-github",
        "colab_type": "text"
      },
      "source": [
        "<a href=\"https://colab.research.google.com/github/subhrapattnaik/Assignment/blob/main/19th_August_Python_Bascics.ipynb\" target=\"_parent\"><img src=\"https://colab.research.google.com/assets/colab-badge.svg\" alt=\"Open In Colab\"/></a>"
      ]
    },
    {
      "cell_type": "markdown",
      "source": [
        "1.Declare two variables, `x` and `y`, and assign them integer values.\n",
        "Swap the values of these variables without using any temporary\n",
        "variable."
      ],
      "metadata": {
        "id": "TKNJ9s1zojNw"
      }
    },
    {
      "cell_type": "code",
      "source": [
        "x,y = 10,45\n",
        "x,y"
      ],
      "metadata": {
        "colab": {
          "base_uri": "https://localhost:8080/"
        },
        "id": "Ro6_YT9TolUo",
        "outputId": "111fe54f-abc7-4bf8-97d0-a0245be8c229"
      },
      "execution_count": 12,
      "outputs": [
        {
          "output_type": "execute_result",
          "data": {
            "text/plain": [
              "(10, 45)"
            ]
          },
          "metadata": {},
          "execution_count": 12
        }
      ]
    },
    {
      "cell_type": "code",
      "source": [
        "x= x+y\n",
        "y= x-y\n",
        "x= x-y\n",
        "x,y"
      ],
      "metadata": {
        "colab": {
          "base_uri": "https://localhost:8080/"
        },
        "id": "YF1k_1mNow5T",
        "outputId": "f46c8896-a3e2-4acb-b15b-17e1798df146"
      },
      "execution_count": 14,
      "outputs": [
        {
          "output_type": "execute_result",
          "data": {
            "text/plain": [
              "(10, 45)"
            ]
          },
          "metadata": {},
          "execution_count": 14
        }
      ]
    },
    {
      "cell_type": "markdown",
      "source": [
        "2.Create a program that calculates the area of a rectangle. Take the\n",
        "length and width as inputs from the user and store them in variables.\n",
        "Calculate and display the area."
      ],
      "metadata": {
        "id": "Sbi5tUkmrMhB"
      }
    },
    {
      "cell_type": "code",
      "source": [
        "length =int(input(\"Enter length of the rectangle  \"))\n",
        "width=int(input(\"Enter width of the rectangle  \"))\n",
        "area=length * width\n",
        "print(\"Area of the rectangle \",area)"
      ],
      "metadata": {
        "colab": {
          "base_uri": "https://localhost:8080/"
        },
        "id": "h1sSn85nq1Ur",
        "outputId": "b75bcc66-9c01-4317-8b81-c9a8d96cf84a"
      },
      "execution_count": 22,
      "outputs": [
        {
          "output_type": "stream",
          "name": "stdout",
          "text": [
            "Enter length of the rectangle  4\n",
            "Enter width of the rectangle  4\n",
            "Area of the rectangle  16\n"
          ]
        }
      ]
    },
    {
      "cell_type": "markdown",
      "source": [
        "3. Write a Python program that converts temperature from Celsius to\n",
        "Fahrenheit. Take the temperature in Celsius as input, store it in a\n",
        "variable, convert it to Fahrenheit, and display the result."
      ],
      "metadata": {
        "id": "EbEdhJslsplM"
      }
    },
    {
      "cell_type": "markdown",
      "source": [],
      "metadata": {
        "id": "769qJkagsjmZ"
      }
    },
    {
      "cell_type": "code",
      "source": [
        "tempinCelcius= int(input(\"Enter the temperature in celcius : \"))\n",
        "tempinFarenheit = (tempinCelcius * 9/5) + 32\n",
        "print(\"Temperature in Fareheit : \",tempinFarenheit)"
      ],
      "metadata": {
        "colab": {
          "base_uri": "https://localhost:8080/"
        },
        "id": "FmQ1lCCBr4T0",
        "outputId": "74d032ee-2084-4123-b88a-729089fd00d5"
      },
      "execution_count": 23,
      "outputs": [
        {
          "output_type": "stream",
          "name": "stdout",
          "text": [
            "Enter the temperature in celcius : 0\n",
            "Temperature in Fareheit :  32.0\n"
          ]
        }
      ]
    },
    {
      "cell_type": "markdown",
      "source": [
        "TOPIC: String Based Questions\n",
        "\\\n",
        "1. Write a Python program that takes a string as input and prints the\n",
        "length of the string."
      ],
      "metadata": {
        "id": "tkMUx4OOtWSJ"
      }
    },
    {
      "cell_type": "code",
      "source": [
        "s = input(\"what is your name : \")\n",
        "print(\"length of the entered string is :\", len(s))"
      ],
      "metadata": {
        "colab": {
          "base_uri": "https://localhost:8080/"
        },
        "id": "3eSbuU8yuzJq",
        "outputId": "57ec569d-af7c-4553-b122-8be560a45179"
      },
      "execution_count": 25,
      "outputs": [
        {
          "output_type": "stream",
          "name": "stdout",
          "text": [
            "what is your name : subhra\n",
            "length of the entered string is : 6\n"
          ]
        }
      ]
    },
    {
      "cell_type": "markdown",
      "source": [
        "2. Create a program that takes a sentence from the user and counts the\n",
        "number of vowels (a, e, i, o, u) in the string."
      ],
      "metadata": {
        "id": "048NXDwGvO1b"
      }
    },
    {
      "cell_type": "code",
      "source": [
        "sentence = input(\"Enter a Sentence : \")\n",
        "count = 0\n",
        "\n",
        "count = count + sentence.count('a') + sentence.count('e') + sentence.count('o') + sentence.count('i') +sentence.count('u')\n",
        "\n",
        "print(\"The number of vowels in the entered sentence are : \",count)\n"
      ],
      "metadata": {
        "colab": {
          "base_uri": "https://localhost:8080/"
        },
        "id": "4CGmF6ugvYOa",
        "outputId": "4b53d706-bbfc-449a-8455-f2ed45655d83"
      },
      "execution_count": 29,
      "outputs": [
        {
          "output_type": "stream",
          "name": "stdout",
          "text": [
            "Enter a Sentence : i love coding\n",
            "The number of vowels in the entered sentence are :  5\n"
          ]
        }
      ]
    },
    {
      "cell_type": "markdown",
      "source": [
        "3. Given a string, reverse the order of characters using string slicing and\n",
        "print the reversed string."
      ],
      "metadata": {
        "id": "kAvzxVvpwbu8"
      }
    },
    {
      "cell_type": "code",
      "source": [
        "s1 = \" Hello How are you \"\n",
        "s1[::-1]"
      ],
      "metadata": {
        "colab": {
          "base_uri": "https://localhost:8080/",
          "height": 36
        },
        "id": "ED7ziyf0whDV",
        "outputId": "aba28c2d-cb5e-48ab-ce70-a99de53e8aa6"
      },
      "execution_count": 30,
      "outputs": [
        {
          "output_type": "execute_result",
          "data": {
            "text/plain": [
              "' uoy era woH olleH '"
            ],
            "application/vnd.google.colaboratory.intrinsic+json": {
              "type": "string"
            }
          },
          "metadata": {},
          "execution_count": 30
        }
      ]
    },
    {
      "cell_type": "markdown",
      "source": [
        "4. Write a program that takes a string as input and checks if it is a\n",
        "palindrome (reads the same forwards and backwards)."
      ],
      "metadata": {
        "id": "H7_j7xrawuX_"
      }
    },
    {
      "cell_type": "code",
      "source": [
        "s2 = input(\"Enter a string \")\n",
        "#example \"madam\" ,\"12321\"\n",
        "s3 = s2[::-1]\n",
        "\n",
        "if s3 == s2:\n",
        "  print(\"The entered string is a pallindrome\")\n",
        "else:\n",
        "  print(\"The entered string is not a pallindrome\")"
      ],
      "metadata": {
        "colab": {
          "base_uri": "https://localhost:8080/"
        },
        "id": "bCwmtTUzwyA5",
        "outputId": "5197ea7c-0cba-4002-8455-c5966a64f9a9"
      },
      "execution_count": 37,
      "outputs": [
        {
          "output_type": "stream",
          "name": "stdout",
          "text": [
            "Enter a string madam\n",
            "The entered string is a pallindrome\n"
          ]
        }
      ]
    },
    {
      "cell_type": "markdown",
      "source": [
        "5. Create a program that takes a string as input and removes all the\n",
        "spaces from it. Print the modified string without spaces."
      ],
      "metadata": {
        "id": "IvouT3CsxtOD"
      }
    },
    {
      "cell_type": "code",
      "source": [
        "s3 =input(\"Enter a string: \")\n",
        "s4= s3.replace(\" \",\"\")\n",
        "print(\"The entered string without spaces : \",s4)"
      ],
      "metadata": {
        "colab": {
          "base_uri": "https://localhost:8080/"
        },
        "id": "ogaJ3ksDxusn",
        "outputId": "28e02a30-1125-4e5f-8d9a-2cfe9451f901"
      },
      "execution_count": 36,
      "outputs": [
        {
          "output_type": "stream",
          "name": "stdout",
          "text": [
            "Enter a string: i love my country\n",
            "The entered string without spaces :  ilovemycountry\n"
          ]
        }
      ]
    }
  ]
}