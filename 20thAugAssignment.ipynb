{
  "nbformat": 4,
  "nbformat_minor": 0,
  "metadata": {
    "colab": {
      "provenance": [],
      "authorship_tag": "ABX9TyNCVU2FpHStrSyjCAd0jO2z",
      "include_colab_link": true
    },
    "kernelspec": {
      "name": "python3",
      "display_name": "Python 3"
    },
    "language_info": {
      "name": "python"
    }
  },
  "cells": [
    {
      "cell_type": "markdown",
      "metadata": {
        "id": "view-in-github",
        "colab_type": "text"
      },
      "source": [
        "<a href=\"https://colab.research.google.com/github/subhrapattnaik/Assignment/blob/main/20thAugAssignment.ipynb\" target=\"_parent\"><img src=\"https://colab.research.google.com/assets/colab-badge.svg\" alt=\"Open In Colab\"/></a>"
      ]
    },
    {
      "cell_type": "markdown",
      "source": [
        "TOPIC: String Based Assignment Problem"
      ],
      "metadata": {
        "id": "3i7yRe9DzCtF"
      }
    },
    {
      "cell_type": "markdown",
      "source": [
        "1. Write a program to reverse a string."
      ],
      "metadata": {
        "id": "LrkrML2zzI4D"
      }
    },
    {
      "cell_type": "code",
      "source": [
        "s1= \"subhra\"\n",
        "s1[::-1]"
      ],
      "metadata": {
        "colab": {
          "base_uri": "https://localhost:8080/",
          "height": 36
        },
        "id": "te9T8_zpzFzZ",
        "outputId": "b0b9910f-5097-4666-b4d5-a86c6f3bbda8"
      },
      "execution_count": null,
      "outputs": [
        {
          "output_type": "execute_result",
          "data": {
            "text/plain": [
              "'arhbus'"
            ],
            "application/vnd.google.colaboratory.intrinsic+json": {
              "type": "string"
            }
          },
          "metadata": {},
          "execution_count": 6
        }
      ]
    },
    {
      "cell_type": "markdown",
      "source": [
        "2. Check if a string is a palindrome."
      ],
      "metadata": {
        "id": "FArmY52uz7MD"
      }
    },
    {
      "cell_type": "code",
      "source": [
        "def isPalindrome(string):\n",
        "  if (string == string[::-1]) :\n",
        "    print(\"The string is a palindrome\")\n",
        "  else:\n",
        "    print(\"The entered string is not a palindrome\")\n",
        "\n",
        "\n",
        "str = input(\"Enter a String \")\n",
        "isPalindrome(str)\n"
      ],
      "metadata": {
        "colab": {
          "base_uri": "https://localhost:8080/"
        },
        "id": "0RmAWjst0B3g",
        "outputId": "ea5bc6fa-f2d3-4f8a-cf87-532c08b97c02"
      },
      "execution_count": null,
      "outputs": [
        {
          "output_type": "stream",
          "name": "stdout",
          "text": [
            "Enter a String hello\n",
            "The entered string is not a palindrome\n"
          ]
        }
      ]
    },
    {
      "cell_type": "markdown",
      "source": [
        "3. Convert a string to uppercase."
      ],
      "metadata": {
        "id": "7cQTndRg05Iy"
      }
    },
    {
      "cell_type": "code",
      "source": [
        "s2= input(\"Enter a String : \")\n",
        "s2.upper()"
      ],
      "metadata": {
        "colab": {
          "base_uri": "https://localhost:8080/",
          "height": 54
        },
        "id": "qPjTb0T209aU",
        "outputId": "e7b27f29-c768-4cdc-9129-618ac970cc5e"
      },
      "execution_count": null,
      "outputs": [
        {
          "name": "stdout",
          "output_type": "stream",
          "text": [
            "Enter a String : hello\n"
          ]
        },
        {
          "output_type": "execute_result",
          "data": {
            "text/plain": [
              "'HELLO'"
            ],
            "application/vnd.google.colaboratory.intrinsic+json": {
              "type": "string"
            }
          },
          "metadata": {},
          "execution_count": 8
        }
      ]
    },
    {
      "cell_type": "markdown",
      "source": [
        "5.Convert a string to lowercase."
      ],
      "metadata": {
        "id": "gjPtNk6E2Lfa"
      }
    },
    {
      "cell_type": "code",
      "source": [
        "s3= input(\"Enter a String : \")\n",
        "s3.upper()"
      ],
      "metadata": {
        "colab": {
          "base_uri": "https://localhost:8080/",
          "height": 54
        },
        "id": "ysXj9Gvv2UDn",
        "outputId": "d651a1a3-6d49-44a8-d36c-7e6ed75336d9"
      },
      "execution_count": null,
      "outputs": [
        {
          "name": "stdout",
          "output_type": "stream",
          "text": [
            "Enter a String : gelll\n"
          ]
        },
        {
          "output_type": "execute_result",
          "data": {
            "text/plain": [
              "'GELLL'"
            ],
            "application/vnd.google.colaboratory.intrinsic+json": {
              "type": "string"
            }
          },
          "metadata": {},
          "execution_count": 9
        }
      ]
    },
    {
      "cell_type": "markdown",
      "source": [
        "5. Count the number of vowels in a string."
      ],
      "metadata": {
        "id": "ozzVPpjw2evY"
      }
    },
    {
      "cell_type": "code",
      "source": [
        "s4 = input(\"Enter a String : \")\n",
        "s4=s4.lower()\n",
        "\n",
        "vowels=0\n",
        "len(s4)\n",
        "for i in range(len(s4)):\n",
        "\n",
        "  if (s4[i] == 'a' or s4[i] == 'e' or s4[i] == 'i' or s4[i] == 'o' or s4[i] == 'u'):\n",
        "\n",
        "    vowels = vowels+1\n",
        "print(\"Number of vowels in the entered string are : \", vowels)"
      ],
      "metadata": {
        "colab": {
          "base_uri": "https://localhost:8080/"
        },
        "id": "pP7bHTMY2iMO",
        "outputId": "8752274b-f254-4085-d35d-a93f7d2dc9ef"
      },
      "execution_count": null,
      "outputs": [
        {
          "output_type": "stream",
          "name": "stdout",
          "text": [
            "Enter a String : dddd\n",
            "Number of vowels in the entered string are :  0\n"
          ]
        }
      ]
    },
    {
      "cell_type": "markdown",
      "source": [
        "6. Count the number of consonants in a string."
      ],
      "metadata": {
        "id": "keJOWXGV6YxG"
      }
    },
    {
      "cell_type": "code",
      "source": [
        "s4 = input(\"Enter a String : \")\n",
        "s4=s4.lower()\n",
        "vowels = 0\n",
        "consonants=0\n",
        "len(s4)\n",
        "for i in range(len(s4)):\n",
        "\n",
        "  if (s4[i] == 'a' or s4[i] == 'e' or s4[i] == 'i' or s4[i] == 'o' or s4[i] == 'u'):\n",
        "\n",
        "    vowels = vowels+1\n",
        "  else:\n",
        "    consonants = consonants +1\n",
        "print(\"Number of consonants in the entered string are : \", consonants)"
      ],
      "metadata": {
        "colab": {
          "base_uri": "https://localhost:8080/"
        },
        "id": "Ickp3nQk6Z44",
        "outputId": "328ed2b4-f87c-4941-f04a-707d98d60e5a"
      },
      "execution_count": null,
      "outputs": [
        {
          "output_type": "stream",
          "name": "stdout",
          "text": [
            "Enter a String : 6666hhhh\n",
            "Number of consonants in the entered string are :  8\n"
          ]
        }
      ]
    },
    {
      "cell_type": "markdown",
      "source": [
        "7. Remove all whitespaces from a string."
      ],
      "metadata": {
        "id": "1TT1xHT67f5Y"
      }
    },
    {
      "cell_type": "code",
      "source": [
        "s5= input(\" Enter a String : \")\n",
        "s6=s5.replace(\" \", \"\")\n",
        "print (\"String after removing all white spaces : \" ,s6)"
      ],
      "metadata": {
        "colab": {
          "base_uri": "https://localhost:8080/"
        },
        "id": "bz8D9Tju7kgr",
        "outputId": "8a18ded4-919b-4bac-a4cd-f4c291ac588a"
      },
      "execution_count": null,
      "outputs": [
        {
          "output_type": "stream",
          "name": "stdout",
          "text": [
            " Enter a String : vsdg. fgdhfh\n",
            "String after removing all white spaces :  vsdg.fgdhfh\n"
          ]
        }
      ]
    },
    {
      "cell_type": "markdown",
      "source": [
        "8. Find the length of a string without using the `len()` function."
      ],
      "metadata": {
        "id": "pDbLBj2l8cB1"
      }
    },
    {
      "cell_type": "code",
      "source": [
        "s6= input(\"Enter a String : \")\n",
        "count = 0\n",
        "for i in range(len(s6)):\n",
        "  count =count+1\n",
        "print(\"Length of the entered string is : \", count)"
      ],
      "metadata": {
        "colab": {
          "base_uri": "https://localhost:8080/"
        },
        "id": "xSb-aEFq8fUI",
        "outputId": "67f9bfef-2e72-4af1-a317-370d3674659a"
      },
      "execution_count": null,
      "outputs": [
        {
          "output_type": "stream",
          "name": "stdout",
          "text": [
            "Enter a String : xvcv\n",
            "Length of the entered string is :  4\n"
          ]
        }
      ]
    },
    {
      "cell_type": "markdown",
      "source": [
        "9. Check if a string contains a specific word."
      ],
      "metadata": {
        "id": "GFgS-bak-bnS"
      }
    },
    {
      "cell_type": "code",
      "source": [
        "s8 = input(\"Enter a String : \")\n",
        "\n",
        "word =input (\"Enter the specific word you want to check in the string : \")\n",
        "\n",
        "if word.lower() in s8.lower():\n",
        "  print(\"The specific word is there in the String\")\n",
        "else:\n",
        "  print(\"The specific word is not there in the String\")\n",
        "\n",
        "\n"
      ],
      "metadata": {
        "colab": {
          "base_uri": "https://localhost:8080/"
        },
        "id": "nvDl2ZH6-ezg",
        "outputId": "80c3944e-690e-49bf-d1c8-60cff1fd77fb"
      },
      "execution_count": null,
      "outputs": [
        {
          "name": "stdout",
          "output_type": "stream",
          "text": [
            "Enter a String : xcxv\n"
          ]
        }
      ]
    },
    {
      "cell_type": "code",
      "source": [],
      "metadata": {
        "id": "nvL3m56RvS8p"
      },
      "execution_count": null,
      "outputs": []
    },
    {
      "cell_type": "markdown",
      "source": [
        "10. Replace a word in a string with another word."
      ],
      "metadata": {
        "id": "262PSqiQ_1vZ"
      }
    },
    {
      "cell_type": "code",
      "source": [
        "s = \"Hello How are you doing \"\n",
        "s.replace (\"How\", \"xxx\")"
      ],
      "metadata": {
        "id": "HQxXVsfR_5Rt"
      },
      "execution_count": null,
      "outputs": []
    },
    {
      "cell_type": "markdown",
      "source": [
        "11. Count the occurrences of a word in a string."
      ],
      "metadata": {
        "id": "L-90JRsbAazn"
      }
    },
    {
      "cell_type": "code",
      "source": [
        "s8 = input(\"Enter a String : \")\n",
        "word= input(\"enter the word :\")\n",
        "count = s8.count(word)\n",
        "count"
      ],
      "metadata": {
        "id": "qvzszoo5Ae1A"
      },
      "execution_count": null,
      "outputs": []
    },
    {
      "cell_type": "markdown",
      "source": [
        "12. Find the first occurrence of a word in a string."
      ],
      "metadata": {
        "id": "phi4v6ONMFRs"
      }
    },
    {
      "cell_type": "code",
      "source": [
        "s2=\"hello how are you .how is your family\"\n",
        "s2.find(\"hello\")\n",
        "\n",
        "#  find() method is used to return the index of the first occurrence of the character specified or a String specified.\n",
        "#If the character or substring is found,\n",
        "#it will return the position. Indexing in a String starts from 0. Returns -1 if a character or String not found.\"\"\""
      ],
      "metadata": {
        "id": "8g2KsFKrMGTD"
      },
      "execution_count": null,
      "outputs": []
    },
    {
      "cell_type": "markdown",
      "source": [
        "13. Find the last occurrence of a word in a string.\n"
      ],
      "metadata": {
        "id": "_aLvvg5ipejY"
      }
    },
    {
      "cell_type": "code",
      "source": [
        "#The rfind() method finds the last occurrence of the specified value.\n",
        "\n",
        "#The rfind() method returns -1 if the value is not found.\n",
        "txt = \"Mi casa, su casa.\"\n",
        "\n",
        "x = txt.rfind(\"casa\")\n",
        "\n",
        "print(x)"
      ],
      "metadata": {
        "id": "1yjK0t7VpkSP"
      },
      "execution_count": null,
      "outputs": []
    },
    {
      "cell_type": "markdown",
      "source": [
        "14. Split a string into a list of words."
      ],
      "metadata": {
        "id": "yg9xGdbVp8le"
      }
    },
    {
      "cell_type": "code",
      "source": [
        "s1= \"hello HOW ARE YOU doing \"\n",
        "s1.split()"
      ],
      "metadata": {
        "id": "bhVgMrVfp9fF"
      },
      "execution_count": null,
      "outputs": []
    },
    {
      "cell_type": "markdown",
      "source": [
        "15. Join a list of words into a string."
      ],
      "metadata": {
        "id": "y2Djpy0tqM3j"
      }
    },
    {
      "cell_type": "code",
      "source": [
        "l1= [\"I\",\"love\", \"coding\"]\n",
        "\n",
        "st= l1[0] + l1[1] + l1[2]\n",
        "\n",
        "st"
      ],
      "metadata": {
        "id": "afvuTTZsqN1B"
      },
      "execution_count": null,
      "outputs": []
    },
    {
      "cell_type": "markdown",
      "source": [
        "16. Convert a string where words are separated by spaces to one where words\n",
        "are separated by underscores."
      ],
      "metadata": {
        "id": "GPYbKmDdqwCb"
      }
    },
    {
      "cell_type": "code",
      "source": [
        "st2= \"Bangalore is a beautiful city\"\n",
        "\n",
        "st3=st2.replace(\" \",\"_\")\n",
        "st3"
      ],
      "metadata": {
        "id": "ZH6jKsIaqw9E"
      },
      "execution_count": null,
      "outputs": []
    },
    {
      "cell_type": "markdown",
      "source": [
        "17. Check if a string starts with a specific word or phrase."
      ],
      "metadata": {
        "id": "zINjf-AprUJk"
      }
    },
    {
      "cell_type": "code",
      "source": [
        "st9 = \"Hello, let us learn datascience\"\n",
        "\n",
        "x = st9 .startswith(\"Hello\")\n",
        "#The startswith() method returns True if the string starts with the specified value, otherwise False.\n",
        "#string.startswith(value, start, end)\n",
        "print(x)"
      ],
      "metadata": {
        "id": "-FSJwPAVrVCP"
      },
      "execution_count": null,
      "outputs": []
    },
    {
      "cell_type": "markdown",
      "source": [
        "18. Check if a string ends with a specific word or phrase."
      ],
      "metadata": {
        "id": "ttIjcZJJsPMn"
      }
    },
    {
      "cell_type": "code",
      "source": [
        "t = \"Hello world\"\n",
        "r = t.endswith(\"world\")\n",
        "r\n",
        "\n",
        "\n",
        "#The endsWith() method returns true if a string ends with a specified string.\n",
        "\n",
        "#Otherwise it returns false.\n",
        "\n",
        "#The endsWith() method is case sensitive."
      ],
      "metadata": {
        "id": "wkijmbR4sS2F"
      },
      "execution_count": null,
      "outputs": []
    },
    {
      "cell_type": "markdown",
      "source": [
        "19. Convert a string to title case (e.g., \"hello world\" to \"Hello World\")."
      ],
      "metadata": {
        "id": "eaQ3tTbhuhQH"
      }
    },
    {
      "cell_type": "code",
      "source": [
        "#title() function is used to convert an input string to a title case\n",
        "#i.e. converting the first alphabet of each word to uppercase and the rest into lowercase.\n",
        "#Python title() function ignore any non-alphabetic characters.\n",
        "# It ignores any numbers and special characters in the string.\n",
        "\n",
        "s= \" learn coding by doing\"\n",
        "s.title()"
      ],
      "metadata": {
        "id": "UwmQExnZuijV"
      },
      "execution_count": null,
      "outputs": []
    },
    {
      "cell_type": "markdown",
      "source": [
        "20. Find the longest word in a string."
      ],
      "metadata": {
        "id": "w9L6d84lyRoM"
      }
    },
    {
      "cell_type": "code",
      "source": [
        "s = \"be confident and be yourself\"\n",
        "l = list(s.split(\" \"))\n",
        "# Split the string into words\n",
        "l = sorted(l, key = len)\n",
        "# order of their lengths\n",
        "print(l[-1])\n",
        "\n",
        "#or\n",
        "#text=\" my name is subhra\"\n",
        "#longest = max(text.split(), key=len)\n",
        "#longest"
      ],
      "metadata": {
        "id": "KximNkvYykvn"
      },
      "execution_count": null,
      "outputs": []
    },
    {
      "cell_type": "markdown",
      "source": [
        "21. Find the shortest word in a string.\n"
      ],
      "metadata": {
        "id": "DOyO9rPj3d6q"
      }
    },
    {
      "cell_type": "code",
      "source": [
        "text = input(\"Enter some text: \")\n",
        "\n",
        "# Finding shortest word\n",
        "shortest = min(text.split(), key=len)\n",
        "\n",
        "# Displaying shortest word\n",
        "print(\"Shortest word is: \", shortest)\n",
        "print(\"And its length is: \", len(shortest))"
      ],
      "metadata": {
        "id": "g1DRkxue3rQs"
      },
      "execution_count": null,
      "outputs": []
    },
    {
      "cell_type": "markdown",
      "source": [
        "22. Reverse the order of words in a string."
      ],
      "metadata": {
        "id": "LN72R6rL5CKo"
      }
    },
    {
      "cell_type": "code",
      "source": [
        "s = \"be confident and be yourself\"\n",
        "l = list(s.split(\" \"))\n",
        "# Split the string into words\n",
        "\n",
        "print(l[::-1])"
      ],
      "metadata": {
        "id": "RsR-vOOJ5f1L"
      },
      "execution_count": null,
      "outputs": []
    },
    {
      "cell_type": "markdown",
      "source": [
        "23. Check if a string is alphanumeric."
      ],
      "metadata": {
        "id": "nSxuSqSH53sI"
      }
    },
    {
      "cell_type": "code",
      "source": [
        "txt = \"Company12\"\n",
        "\n",
        "x = txt.isalnum()\n",
        "\n",
        "print(x)\n",
        "#The isalnum() method returns True if all the characters are alphanumeric, meaning alphabet letter (a-z) and numbers (0-9).\n",
        "#Example of characters that are not alphanumeric: (space)!#%&? etc."
      ],
      "metadata": {
        "id": "NhFHb_wh58A4"
      },
      "execution_count": null,
      "outputs": []
    },
    {
      "cell_type": "markdown",
      "source": [
        "24. Extract all digits from a string."
      ],
      "metadata": {
        "id": "va1d2aXU7sNB"
      }
    },
    {
      "cell_type": "code",
      "source": [
        "s =\"hello i joined the course on 12th august2023\"\n",
        "for i in s:\n",
        "  # using isdigit() function\n",
        "  if(i.isdigit()):\n",
        "    print(i,end=\"\")"
      ],
      "metadata": {
        "id": "pp-6Yknw7u7T"
      },
      "execution_count": null,
      "outputs": []
    },
    {
      "cell_type": "markdown",
      "source": [
        "25. Extract all alphabets from a string."
      ],
      "metadata": {
        "id": "-gtXh73i_2kf"
      }
    },
    {
      "cell_type": "code",
      "source": [
        "s =\"hello i joined the course on 12th august2023\"\n",
        "for i in s:\n",
        "  # using isalpha() function\n",
        "  if(i.isalpha()):\n",
        "    print(i,end=\"\")"
      ],
      "metadata": {
        "id": "tawuvJ7tArtB"
      },
      "execution_count": null,
      "outputs": []
    },
    {
      "cell_type": "markdown",
      "source": [
        "26. Count the number of uppercase letters in a string.\n",
        "27. Count the number of lowercase letters in a string."
      ],
      "metadata": {
        "id": "FOofpzN_A4rC"
      }
    },
    {
      "cell_type": "code",
      "source": [
        "string=(\"NewDelhi is our national capital\")\n",
        "count1=0\n",
        "count2=0\n",
        "for i in string:\n",
        "      if(i.islower()):\n",
        "            count1=count1+1\n",
        "      elif(i.isupper()):\n",
        "            count2=count2+1\n",
        "print(\"The number of lowercase characters is:\")\n",
        "print(count1)\n",
        "print(\"The number of uppercase characters is:\")\n",
        "print(count2)"
      ],
      "metadata": {
        "id": "UpObqqr0A8Eu"
      },
      "execution_count": null,
      "outputs": []
    },
    {
      "cell_type": "markdown",
      "source": [
        "28. Swap the case of each character in a string."
      ],
      "metadata": {
        "id": "ja2oIw45CGsB"
      }
    },
    {
      "cell_type": "code",
      "source": [
        "#swapcase() method is used to swap the case of all the case-based characters present in a string.\n",
        "# That is, the lowercase characters in the string will be converted into uppercase characters and vice-versa.\n",
        "\n",
        "str = \"ThiS is String Example....wOW!!!\";\n",
        "print(str.swapcase())\n"
      ],
      "metadata": {
        "id": "1d3_Any9CKUi"
      },
      "execution_count": null,
      "outputs": []
    },
    {
      "cell_type": "markdown",
      "source": [
        "29. Remove a specific word from a string."
      ],
      "metadata": {
        "id": "MvPpzQ42DK-0"
      }
    },
    {
      "cell_type": "code",
      "source": [
        "\n",
        "a1 = \"remove word from this\"\n",
        "a2 = a1.replace(\"word\", '')\n",
        "print(a2)"
      ],
      "metadata": {
        "id": "uetTeylPDOWE"
      },
      "execution_count": null,
      "outputs": []
    },
    {
      "cell_type": "markdown",
      "source": [
        "30. Check if a string is a valid email address."
      ],
      "metadata": {
        "id": "NOt_VX7kDgeZ"
      }
    },
    {
      "cell_type": "code",
      "source": [
        "!pip install validate_email\n",
        "!pip install email-validator\n",
        "\n",
        "from email_validator import validate_email, EmailNotValidError\n",
        "\n",
        "def check(email):\n",
        "    try:\n",
        "      # validate and get info\n",
        "        v = validate_email(email)\n",
        "        # replace with normalized form\n",
        "        email = v[\"email\"]\n",
        "        print(\"True\")\n",
        "    except EmailNotValidError as e:\n",
        "        # email is not valid, exception message is human-readable\n",
        "        print(str(e))\n",
        "\n",
        "check(\"my.ownsite@our-earth.org\")\n",
        "\n",
        "check(\"ankitrai326.com\")"
      ],
      "metadata": {
        "id": "PNr3AufZIPI5"
      },
      "execution_count": null,
      "outputs": []
    },
    {
      "cell_type": "markdown",
      "source": [
        "31. Extract the username from an email address string."
      ],
      "metadata": {
        "id": "s7Mpjd9tcdC7"
      }
    },
    {
      "cell_type": "code",
      "source": [
        "# Python3 code to demonstrate working of\n",
        "# Extract domain name from Email address\n",
        "# Using split()\n",
        "\n",
        "# initializing strings\n",
        "test_str = 'subhra@gmail.com'\n",
        "\n",
        "# printing original string\n",
        "print(\"The original string is : \" + str(test_str))\n",
        "\n",
        "# using split() to get user name\n",
        "res = test_str.split('@')[0]\n",
        "\n",
        "# printing result\n",
        "print(\"The extracted user name : \" + str(res))"
      ],
      "metadata": {
        "id": "Fz_a5nAFcnl0"
      },
      "execution_count": null,
      "outputs": []
    },
    {
      "cell_type": "markdown",
      "source": [
        "32. Extract the domain name from an email address string."
      ],
      "metadata": {
        "id": "ryVx5wbrdS4k"
      }
    },
    {
      "cell_type": "code",
      "source": [
        "# Python3 code to demonstrate working of\n",
        "# Extract domain name from Email address\n",
        "# Using split()\n",
        "\n",
        "# initializing strings\n",
        "test_str = 'subhra@gmail.com'\n",
        "\n",
        "# printing original string\n",
        "print(\"The original string is : \" + str(test_str))\n",
        "\n",
        "# using split() to get domain name\n",
        "res = test_str.split('@')[1]\n",
        "\n",
        "# printing result\n",
        "print(\"The extracted domain name : \" + str(res))"
      ],
      "metadata": {
        "id": "_87Yj7badYNH"
      },
      "execution_count": null,
      "outputs": []
    },
    {
      "cell_type": "markdown",
      "source": [
        "33. Replace multiple spaces in a string with a single space."
      ],
      "metadata": {
        "id": "MrvOEJ2lddg9"
      }
    },
    {
      "cell_type": "code",
      "source": [
        "str1= \"    Bangalore is the capital     and  largest  city.     of the southern Indian state of Karnataka.                  \"\n",
        "result = \" \".join(str1.split())\n",
        "print(repr(result))\n",
        "#Use the str.split() method to split the string on each whitespace character.\n",
        "#Use the str.join() method to join the list of strings with a space.\n",
        "#The words in the new string will be separated by a single space."
      ],
      "metadata": {
        "id": "Cyajd2TVdgXF"
      },
      "execution_count": null,
      "outputs": []
    },
    {
      "cell_type": "markdown",
      "source": [
        "34. Check if a string is a valid URL."
      ],
      "metadata": {
        "id": "avAEAZU8z1N2"
      }
    },
    {
      "cell_type": "code",
      "source": [
        "!pip install validators\n",
        "import validators\n",
        "validation =validators.url(\"http://www.google.com\")\n",
        "if validation:\n",
        "   print(\"URL is valid\")\n",
        "else:\n",
        "  print(\"URL is invalid\")"
      ],
      "metadata": {
        "id": "1iD3dnqPz4gD"
      },
      "execution_count": null,
      "outputs": []
    },
    {
      "cell_type": "markdown",
      "source": [
        "35. Extract the protocol (http or https) from a URL string."
      ],
      "metadata": {
        "id": "FVCnnRVC1gwM"
      }
    },
    {
      "cell_type": "code",
      "source": [
        "url=\"http://google.com\"\n",
        "\n",
        "url.split(\":\")[0]"
      ],
      "metadata": {
        "id": "cHBXpDmS1jsG"
      },
      "execution_count": null,
      "outputs": []
    },
    {
      "cell_type": "markdown",
      "source": [
        "36. Find the frequency of each character in a string."
      ],
      "metadata": {
        "id": "83CCqM782YRX"
      }
    },
    {
      "cell_type": "code",
      "source": [
        "text= \"Bangalore is the IT Hub of India\"\n",
        "text.lower().count('b')"
      ],
      "metadata": {
        "id": "mtQC2Urc2dFB"
      },
      "execution_count": null,
      "outputs": []
    },
    {
      "cell_type": "markdown",
      "source": [
        "37. Remove all punctuation from a string."
      ],
      "metadata": {
        "id": "8Fa2Gecf20xK"
      }
    },
    {
      "cell_type": "code",
      "source": [
        "import string\n",
        "txt= \" Hello , what's your father's name\"\n",
        "translator = txt.maketrans(\"\", \"\", string.punctuation)\n",
        "result = txt.translate(translator)\n",
        "result"
      ],
      "metadata": {
        "id": "TxgtmEES231j"
      },
      "execution_count": null,
      "outputs": []
    },
    {
      "cell_type": "markdown",
      "source": [
        "38. Check if a string contains only digits."
      ],
      "metadata": {
        "id": "1lcXoKOV4kAd"
      }
    },
    {
      "cell_type": "code",
      "source": [
        "my_string = \"1234\"\n",
        "if my_string.isdigit():\n",
        "    print(\"The string contains only digits!\")\n",
        "else:\n",
        "    print(\"The string does not contain only digits.\")"
      ],
      "metadata": {
        "id": "hE9B7-LW4l02"
      },
      "execution_count": null,
      "outputs": []
    },
    {
      "cell_type": "markdown",
      "source": [
        "39. Check if a string contains only alphabets."
      ],
      "metadata": {
        "id": "CIMTRAKf7WdT"
      }
    },
    {
      "cell_type": "code",
      "source": [
        "my_string = \"ssssssssffff\"\n",
        "if my_string.isalpha():\n",
        "    print(\"The string contains only alphabates!\")\n",
        "else:\n",
        "    print(\"The string does not contain only alphabates.\")"
      ],
      "metadata": {
        "id": "AhitXOea8z_t"
      },
      "execution_count": null,
      "outputs": []
    },
    {
      "cell_type": "markdown",
      "source": [
        "40. Convert a string to a list of characters."
      ],
      "metadata": {
        "id": "crV0CRN09HuG"
      }
    },
    {
      "cell_type": "code",
      "source": [
        "str= \" hello how are you\"\n",
        "l= []\n",
        "for i in range(len(str)):\n",
        "  print(str[i])\n",
        "  l.append(str[i])\n",
        "print(l)\n"
      ],
      "metadata": {
        "id": "I7eBp7aX91h7"
      },
      "execution_count": null,
      "outputs": []
    },
    {
      "cell_type": "markdown",
      "source": [
        "41. Check if two strings are anagrams."
      ],
      "metadata": {
        "id": "KkpIAmXeB-56"
      }
    },
    {
      "cell_type": "code",
      "source": [
        "#Two strings are said to be anagram if we can form one string by arranging the characters of another string. For example, Race and Care.\n",
        "# Here, we can form Race by arranging the characters of Care.\n",
        "\n",
        "\n",
        "str1 = \"Race\"\n",
        "str2 = \"Care\"\n",
        "# convert both the strings into lowercase\n",
        "str1 = str1.lower()\n",
        "str2 = str2.lower()\n",
        "\n",
        "# check if length is same\n",
        "if(len(str1) == len(str2)):\n",
        "\n",
        "    # sort the strings\n",
        "    sorted_str1 = sorted(str1)\n",
        "    sorted_str2 = sorted(str2)\n",
        "\n",
        "    # if sorted char arrays are same\n",
        "    if(sorted_str1 == sorted_str2):\n",
        "        print(str1 + \" and \" + str2 + \" are anagram.\")\n",
        "    else:\n",
        "        print(str1 + \" and \" + str2 + \" are not anagram.\")\n",
        "\n",
        "else:\n",
        "    print(str1 + \" and \" + str2 + \" are not anagram.\")"
      ],
      "metadata": {
        "id": "gMkqMDp1CApO"
      },
      "execution_count": null,
      "outputs": []
    },
    {
      "cell_type": "markdown",
      "source": [
        "42. Encode a string using a Caesar cipher."
      ],
      "metadata": {
        "id": "Wj80qxLZOPIj"
      }
    },
    {
      "cell_type": "code",
      "source": [
        "\"\"\"\n",
        "\n",
        "    Caesar Cipher Technique is the simple and easy method of encryption technique.\n",
        "\n",
        "    It is simple type of substitution cipher.\n",
        "\n",
        "    Each letter of plain text is replaced by a letter with some fixed number of positions down with alphabet.\n",
        "\n",
        "\"\"\"\n",
        "\n",
        "def encrypt_text(plaintext,n):\n",
        "    ans = \"\"\n",
        "    # iterate over the given text\n",
        "    for i in range(len(plaintext)):\n",
        "        ch = plaintext[i]\n",
        "\n",
        "        # check if space is there then simply add space\n",
        "        if ch==\" \":\n",
        "            ans+=\" \"\n",
        "        # check if a character is uppercase then encrypt it accordingly\n",
        "        elif (ch.isupper()):\n",
        "            ans += chr((ord(ch) + n-65) % 26 + 65)\n",
        "        # check if a character is lowercase then encrypt it accordingly\n",
        "\n",
        "        else:\n",
        "            ans += chr((ord(ch) + n-97) % 26 + 97)\n",
        "\n",
        "    return ans\n",
        "\n",
        "plaintext = \"HELLO EVERYONE\"\n",
        "n = 2\n",
        "print(\"Plain Text is : \" + plaintext)\n",
        "print(\"Shift pattern is : \" + str(n))\n",
        "print(\"Cipher Text is : \" + encrypt_text(plaintext,n))\n",
        "\n"
      ],
      "metadata": {
        "id": "lyYEvASePP0G"
      },
      "execution_count": null,
      "outputs": []
    },
    {
      "cell_type": "markdown",
      "source": [
        "43. Decode a Caesar cipher encoded string."
      ],
      "metadata": {
        "id": "dvK7Ea6YRSUW"
      }
    },
    {
      "cell_type": "code",
      "source": [
        "\"\"\"\n",
        "To decrypt the original text, we can build a function that will shift in the opposite direction.\n",
        "But we can make use of the module's cyclic cipher's property.\n",
        "\n",
        "\n",
        "\n",
        "Decryption can be performed using the same function. As an alternative, we will change the shift value to shifts = 26 - shift.\n",
        "\n",
        "\"\"\"\n",
        "\n",
        "def decrypt_text(encryptedtext,n):\n",
        "    ans = \"\"\n",
        "    # iterate over the given text\n",
        "    for i in range(len(encryptedtext)):\n",
        "        ch = encryptedtext[i]\n",
        "\n",
        "        # check if space is there then simply add space\n",
        "        if ch==\" \":\n",
        "            ans+=\" \"\n",
        "        # check if a character is uppercase then encrypt it accordingly\n",
        "        elif (ch.isupper()):\n",
        "            ans += chr((ord(ch) + n-65) % 26 + 65)\n",
        "        # check if a character is lowercase then encrypt it accordingly\n",
        "\n",
        "        else:\n",
        "            ans += chr((ord(ch) + n-97) % 26 + 97)\n",
        "\n",
        "    return ans\n",
        "\n",
        "encryptedtext = \"JGNNQ GXGTAQPG\" # just used the encrypted text of the previous example\n",
        "n = 26 - 2\n",
        "print(\"encrypted Text is : \" + encryptedtext)\n",
        "print(\"Shift pattern is : \" + str(n))\n",
        "print(\"Cipher Text is : \" + decrypt_text(encryptedtext,n))\n",
        "\n",
        "\n"
      ],
      "metadata": {
        "id": "CWsuwvWARTXd"
      },
      "execution_count": null,
      "outputs": []
    },
    {
      "cell_type": "markdown",
      "source": [],
      "metadata": {
        "id": "k5p_TSEmTdDm"
      }
    },
    {
      "cell_type": "code",
      "source": [],
      "metadata": {
        "id": "TThzCFmsTdfY"
      },
      "execution_count": null,
      "outputs": []
    },
    {
      "cell_type": "markdown",
      "source": [],
      "metadata": {
        "id": "YQiwl9tGTeIY"
      }
    },
    {
      "cell_type": "code",
      "source": [],
      "metadata": {
        "id": "3ch9CKhqTesZ"
      },
      "execution_count": null,
      "outputs": []
    },
    {
      "cell_type": "markdown",
      "source": [
        "List Based Practice Problem :\n",
        "\n",
        "1. Create a list with integers from 1 to 10."
      ],
      "metadata": {
        "id": "EZ9hh4CNTfS8"
      }
    },
    {
      "cell_type": "code",
      "source": [
        "l1 = [1,2,3,4,5,6,7,8,9,10]\n",
        "l1"
      ],
      "metadata": {
        "id": "slO_tReITgtM"
      },
      "execution_count": null,
      "outputs": []
    },
    {
      "cell_type": "markdown",
      "source": [
        "2. Find the length of a list without using the `len()` function."
      ],
      "metadata": {
        "id": "_Vbd56uYTsXk"
      }
    },
    {
      "cell_type": "code",
      "source": [
        "len(l1)"
      ],
      "metadata": {
        "id": "zxye2JfnTqKA"
      },
      "execution_count": null,
      "outputs": []
    },
    {
      "cell_type": "markdown",
      "source": [
        "3. Append an element to the end of a list."
      ],
      "metadata": {
        "id": "rSl2hVr1TxHN"
      }
    },
    {
      "cell_type": "code",
      "source": [
        "l1. append(11)\n",
        "l1"
      ],
      "metadata": {
        "id": "oKt65p1PTxyu"
      },
      "execution_count": null,
      "outputs": []
    },
    {
      "cell_type": "markdown",
      "source": [
        "4. Insert an element at a specific index in a list."
      ],
      "metadata": {
        "id": "HMGlx0QBT4d6"
      }
    },
    {
      "cell_type": "code",
      "source": [
        "l1.insert(2, 88)\n",
        "#at 2nd index add 88\n",
        "\n",
        "l1"
      ],
      "metadata": {
        "id": "tFG0AgQaT5JB"
      },
      "execution_count": null,
      "outputs": []
    },
    {
      "cell_type": "markdown",
      "source": [
        "5. Remove an element from a list by its value.\n",
        "\n",
        "*   List item\n",
        "*   List item\n",
        "\n"
      ],
      "metadata": {
        "id": "L3ZVOhaEUQNs"
      }
    },
    {
      "cell_type": "code",
      "source": [
        "l1.remove(9)\n",
        "l1"
      ],
      "metadata": {
        "id": "rRxQgXAcUap_"
      },
      "execution_count": null,
      "outputs": []
    },
    {
      "cell_type": "markdown",
      "source": [
        "6. Remove an element from a list by its index."
      ],
      "metadata": {
        "id": "NkvPLMjHUr4L"
      }
    },
    {
      "cell_type": "code",
      "source": [
        "l1.pop(2)\n",
        "l1"
      ],
      "metadata": {
        "id": "JfMc8WyFUwFx"
      },
      "execution_count": null,
      "outputs": []
    },
    {
      "cell_type": "markdown",
      "source": [
        "7. Check if an element exists in a list."
      ],
      "metadata": {
        "id": "wfWvZsqhU6b1"
      }
    },
    {
      "cell_type": "code",
      "source": [
        "if 2 in l1:\n",
        "  print(\"exists\")"
      ],
      "metadata": {
        "id": "A9BSVkt0U9uA"
      },
      "execution_count": null,
      "outputs": []
    },
    {
      "cell_type": "markdown",
      "source": [
        "8. Find the index of the first occurrence of an element in a list."
      ],
      "metadata": {
        "id": "fL-pjYopWkWf"
      }
    },
    {
      "cell_type": "code",
      "source": [
        "l2= [\"applee\",\"mango\",\"apple\",\"mango\"]\n",
        "l2.index(\"mango\")"
      ],
      "metadata": {
        "id": "1EqwVI0TWnO2"
      },
      "execution_count": null,
      "outputs": []
    },
    {
      "cell_type": "markdown",
      "source": [
        "9. Count the occurrences of an element in a list."
      ],
      "metadata": {
        "id": "ofuawb_VXL5w"
      }
    },
    {
      "cell_type": "code",
      "source": [
        "l2.count(\"mango\")"
      ],
      "metadata": {
        "id": "LuVksgQIXPzh"
      },
      "execution_count": null,
      "outputs": []
    },
    {
      "cell_type": "markdown",
      "source": [
        "10. Reverse the order of elements in a list."
      ],
      "metadata": {
        "id": "yqImwIjSXVSj"
      }
    },
    {
      "cell_type": "code",
      "source": [
        "l2[::-1]"
      ],
      "metadata": {
        "id": "f-nPOSf6XYGO"
      },
      "execution_count": null,
      "outputs": []
    },
    {
      "cell_type": "markdown",
      "source": [
        "11. Sort a list in ascending order."
      ],
      "metadata": {
        "id": "Zj5QXDx7XcQs"
      }
    },
    {
      "cell_type": "code",
      "source": [
        "vowels = ['e', 'a', 'u', 'o', 'i']\n",
        "\n",
        "\n",
        "vowels.sort()\n",
        "vowels"
      ],
      "metadata": {
        "id": "7i7edCO9XgMI"
      },
      "execution_count": null,
      "outputs": []
    },
    {
      "cell_type": "markdown",
      "source": [
        "12. Sort a list in descending order."
      ],
      "metadata": {
        "id": "4__y5VsrXoJg"
      }
    },
    {
      "cell_type": "code",
      "source": [
        "vowels = ['e', 'a', 'u', 'o', 'i']\n",
        "vowels.sort(reverse= True)\n",
        "\n",
        "vowels"
      ],
      "metadata": {
        "id": "UXheJfe2Xq0K"
      },
      "execution_count": null,
      "outputs": []
    },
    {
      "cell_type": "markdown",
      "source": [
        "13. Create a list of even numbers from 1 to 20."
      ],
      "metadata": {
        "id": "Y1PBaiSGkcuA"
      }
    },
    {
      "cell_type": "code",
      "source": [
        "list_even=[]\n",
        "\n",
        "for i in range(20):\n",
        "  if i%2 == 0:\n",
        "    list_even.append(i)\n",
        "\n",
        "list_even"
      ],
      "metadata": {
        "id": "d2GHlNGFmJYV"
      },
      "execution_count": null,
      "outputs": []
    },
    {
      "cell_type": "markdown",
      "source": [
        "14. Create a list of odd numbers from 1 to 20."
      ],
      "metadata": {
        "id": "bSs9Vaq5mmKh"
      }
    },
    {
      "cell_type": "code",
      "source": [
        "list_odd=[]\n",
        "\n",
        "for i in range(20):\n",
        "  if i%2 != 0:\n",
        "    list_odd.append(i)\n",
        "\n",
        "list_odd"
      ],
      "metadata": {
        "id": "zDfnPE1HmnGC"
      },
      "execution_count": null,
      "outputs": []
    },
    {
      "cell_type": "markdown",
      "source": [
        "15. Find the sum of all elements in a list."
      ],
      "metadata": {
        "id": "tIrJAWQm8Fuu"
      }
    },
    {
      "cell_type": "code",
      "source": [
        "list1= [1,24,7,8,9,30,40]\n",
        "sum =0\n",
        "for x in list1:\n",
        "  sum = sum + x\n",
        "sum"
      ],
      "metadata": {
        "id": "wTEgwfA38GhB"
      },
      "execution_count": null,
      "outputs": []
    },
    {
      "cell_type": "markdown",
      "source": [
        "16. Find the maximum value in a list."
      ],
      "metadata": {
        "id": "BNE4s8Lw8b-F"
      }
    },
    {
      "cell_type": "code",
      "source": [
        "max_value = max(list1)\n",
        "\n",
        "max_value"
      ],
      "metadata": {
        "id": "majKxRiI8csA"
      },
      "execution_count": null,
      "outputs": []
    },
    {
      "cell_type": "markdown",
      "source": [
        "17. Find the minimum value in a list."
      ],
      "metadata": {
        "id": "49lkbkYi8ngc"
      }
    },
    {
      "cell_type": "code",
      "source": [
        "min_value = min(list1)\n",
        "min_value"
      ],
      "metadata": {
        "id": "PImX5iSB8oUQ"
      },
      "execution_count": null,
      "outputs": []
    },
    {
      "cell_type": "markdown",
      "source": [
        "18. Create a list of squares of numbers from 1 to 10"
      ],
      "metadata": {
        "id": "1HhZzq1s8zmV"
      }
    },
    {
      "cell_type": "code",
      "source": [
        "list2 = [1,2,3,4,5,6,7,8,9,10]\n",
        "list_of_squares = []\n",
        "\n",
        "for x in list2:\n",
        "  square_x = x * x\n",
        "  list_of_squares.append(square_x)\n",
        "\n",
        "list_of_squares"
      ],
      "metadata": {
        "id": "kim1Co9p80RA"
      },
      "execution_count": null,
      "outputs": []
    },
    {
      "cell_type": "markdown",
      "source": [
        "19. Create a list of random numbers."
      ],
      "metadata": {
        "id": "3Tj_9w5e9lar"
      }
    },
    {
      "cell_type": "code",
      "source": [
        "list_of_random_numbers =[]\n",
        "import random\n",
        "\n",
        "for x in range(10):\n",
        "  number = random.randint(1,100)\n",
        "  #number = random.random()\n",
        "  list_of_random_numbers.append(number)\n",
        "list_of_random_numbers\n"
      ],
      "metadata": {
        "id": "NZQSjt1-96wF"
      },
      "execution_count": null,
      "outputs": []
    },
    {
      "cell_type": "markdown",
      "source": [
        "20. Remove duplicates from a list."
      ],
      "metadata": {
        "id": "IfnYJu9z_eaS"
      }
    },
    {
      "cell_type": "code",
      "source": [
        "list3= [1,1,1,44,44,5,6,77,77,77,77,8,9,3,5,6]\n",
        "\n",
        "#remove duplicates by converting the list to a set\n",
        "\n",
        "set3 = set(list3)\n",
        "\n",
        "set3"
      ],
      "metadata": {
        "id": "QCaMyPz8_j_D"
      },
      "execution_count": null,
      "outputs": []
    },
    {
      "cell_type": "markdown",
      "source": [
        "21. Find the common elements between two lists."
      ],
      "metadata": {
        "id": "ycjrju4G_5qY"
      }
    },
    {
      "cell_type": "code",
      "source": [
        "l1 = [\"apple\",2,3,\"delhi\"]\n",
        "l2= [\"bangalore\",2,3,\"delhi\"]\n",
        "l3 = []\n",
        "for x in l1:\n",
        "  for y in l2:\n",
        "    if x == y:\n",
        "     l3.append(y)\n",
        "l3"
      ],
      "metadata": {
        "id": "0cAWc0n4__4B"
      },
      "execution_count": null,
      "outputs": []
    },
    {
      "cell_type": "markdown",
      "source": [
        "22. Find the difference between two lists."
      ],
      "metadata": {
        "id": "LrAoV_hPA4Y1"
      }
    },
    {
      "cell_type": "code",
      "source": [
        "l1 = [\"apple\",2,3,\"delhi\"]\n",
        "l2= [\"bangalore\",2,3,\"delhi\"]\n",
        "l = []\n",
        "# l1 - l2\n",
        "for x in l1:\n",
        "    if x not in l2:\n",
        "        l.append(x)\n",
        "\n",
        "print(l)"
      ],
      "metadata": {
        "id": "duPeAm46A8Tn"
      },
      "execution_count": null,
      "outputs": []
    },
    {
      "cell_type": "markdown",
      "source": [
        "23. Merge two lists."
      ],
      "metadata": {
        "id": "0qp_IarxDbBb"
      }
    },
    {
      "cell_type": "code",
      "source": [
        "l1 = [\"apple\",2,3,\"delhi\"]\n",
        "l2= [\"bangalore\",2,3,\"delhi\"]\n",
        "\n",
        "\n",
        "for x in l1:\n",
        "  l2.append(x)\n",
        "l2"
      ],
      "metadata": {
        "id": "dZW87nUaDhNa"
      },
      "execution_count": null,
      "outputs": []
    },
    {
      "cell_type": "markdown",
      "source": [
        "\n"
      ],
      "metadata": {
        "id": "UVgI8EJ0l5Ht"
      }
    },
    {
      "cell_type": "markdown",
      "source": [],
      "metadata": {
        "id": "Q8TNT0MCj-ZZ"
      }
    },
    {
      "cell_type": "markdown",
      "source": [],
      "metadata": {
        "id": "61lq2c76UiaJ"
      }
    },
    {
      "cell_type": "markdown",
      "source": [],
      "metadata": {
        "id": "Pz09SOklUTvi"
      }
    },
    {
      "cell_type": "markdown",
      "source": [],
      "metadata": {
        "id": "Q26lZxGwEZfE"
      }
    },
    {
      "cell_type": "markdown",
      "source": [],
      "metadata": {
        "id": "8MQvRZke-daP"
      }
    },
    {
      "cell_type": "markdown",
      "source": [
        "Tuple Based Practice Problem :"
      ],
      "metadata": {
        "id": "yhn0z2zoXvLS"
      }
    },
    {
      "cell_type": "markdown",
      "source": [
        "1.Create a tuple with integers from 1 to 5."
      ],
      "metadata": {
        "id": "76kbZzkoXwOv"
      }
    },
    {
      "cell_type": "code",
      "source": [
        "t1= (1,2,3,4,5)\n",
        "t1"
      ],
      "metadata": {
        "id": "hSgofP5EX0fJ"
      },
      "execution_count": null,
      "outputs": []
    },
    {
      "cell_type": "markdown",
      "source": [
        "2. Access the third element of a tuple."
      ],
      "metadata": {
        "id": "aa7w66MFbGZu"
      }
    },
    {
      "cell_type": "code",
      "source": [
        "t1= (1,2,3,4,5)\n",
        "third_element = t1[2]\n",
        "third_element"
      ],
      "metadata": {
        "id": "qlV7jB6EbHTO"
      },
      "execution_count": null,
      "outputs": []
    },
    {
      "cell_type": "markdown",
      "source": [
        "3. Find the length of a tuple without using the `len()` function."
      ],
      "metadata": {
        "id": "zsW4UkDtb0CT"
      }
    },
    {
      "cell_type": "code",
      "source": [
        "t1= (1,2,3,4,5)\n",
        "length = 0\n",
        "\n",
        "for x in t1:\n",
        "  length = length +1\n",
        "length"
      ],
      "metadata": {
        "id": "xRjSRHhfb0rs"
      },
      "execution_count": null,
      "outputs": []
    },
    {
      "cell_type": "markdown",
      "source": [],
      "metadata": {
        "id": "OZuUhjTE5OpX"
      }
    },
    {
      "cell_type": "markdown",
      "source": [
        "4.Count the occurrences of an element in a tuple."
      ],
      "metadata": {
        "id": "rxyBv9tccKID"
      }
    },
    {
      "cell_type": "code",
      "source": [
        "t2=('a','a','a',1,1,1,1,1,1,1,2,2,2,2,3,3,3,3,5,5,5,5,8)\n",
        "\n",
        "\n",
        "#find the occurances of 3 in the tuple\n",
        "count = t2.count(3)\n",
        "count"
      ],
      "metadata": {
        "colab": {
          "base_uri": "https://localhost:8080/"
        },
        "id": "1iN86gNhcMoo",
        "outputId": "ec061677-c30b-4a1d-e07e-24db9e4a823e"
      },
      "execution_count": null,
      "outputs": [
        {
          "output_type": "execute_result",
          "data": {
            "text/plain": [
              "4"
            ]
          },
          "metadata": {},
          "execution_count": 3
        }
      ]
    },
    {
      "cell_type": "markdown",
      "source": [
        "5.Find the index of the first occurrence of an element in a tuple."
      ],
      "metadata": {
        "id": "uc9JmJAbeBKf"
      }
    },
    {
      "cell_type": "code",
      "source": [
        "#find the first occurance of 'a' in the tuple\n",
        "t2=('a','a','a',1,1,1,1,1,1,1,2,2,2,2,3,3,3,3,5,5,5,5,8)\n",
        "index = t2.index('a')\n",
        "index"
      ],
      "metadata": {
        "colab": {
          "base_uri": "https://localhost:8080/"
        },
        "id": "H17RqL_ceKhy",
        "outputId": "c0ecd798-7ff9-4ebd-e013-d7b26f5d28dd"
      },
      "execution_count": null,
      "outputs": [
        {
          "output_type": "execute_result",
          "data": {
            "text/plain": [
              "0"
            ]
          },
          "metadata": {},
          "execution_count": 5
        }
      ]
    },
    {
      "cell_type": "markdown",
      "source": [
        "6. Check if an element exists in a tuple."
      ],
      "metadata": {
        "id": "qBokQKTo5inC"
      }
    },
    {
      "cell_type": "code",
      "source": [
        "t2=('a','a','a',1,1,1,1,1,1,1,2,2,2,2,3,3,3,3,5,5,5,5,8)\n",
        "element = 1\n",
        "for x in t2:\n",
        "  if x == element:\n",
        "    print(f\"Element {element} exists in tuple t2\")\n",
        "    break\n",
        "  else:\n",
        "    continue\n"
      ],
      "metadata": {
        "colab": {
          "base_uri": "https://localhost:8080/"
        },
        "id": "rkOd029C5jnd",
        "outputId": "79914eb5-3932-4aef-c281-a1dc7f0de067"
      },
      "execution_count": null,
      "outputs": [
        {
          "output_type": "stream",
          "name": "stdout",
          "text": [
            "Element 1 exists in tuple t2\n"
          ]
        }
      ]
    },
    {
      "cell_type": "markdown",
      "source": [
        "7. Convert a tuple to a list."
      ],
      "metadata": {
        "id": "gVEwRxrb7XC8"
      }
    },
    {
      "cell_type": "code",
      "source": [
        "t2=('a','a','a',1,1,1,1,1,1,1,2,2,2,2,3,3,3,3,5,5,5,5,8)\n",
        "\n",
        "list_t2=list(t2)\n",
        "\n",
        "list_t2"
      ],
      "metadata": {
        "colab": {
          "base_uri": "https://localhost:8080/"
        },
        "id": "7akiPj5K7YIr",
        "outputId": "5229f522-6bb0-436e-b26b-ff3812c06196"
      },
      "execution_count": null,
      "outputs": [
        {
          "output_type": "execute_result",
          "data": {
            "text/plain": [
              "['a', 'a', 'a', 1, 1, 1, 1, 1, 1, 1, 2, 2, 2, 2, 3, 3, 3, 3, 5, 5, 5, 5, 8]"
            ]
          },
          "metadata": {},
          "execution_count": 18
        }
      ]
    },
    {
      "cell_type": "markdown",
      "source": [
        "8. Convert a list to a tuple."
      ],
      "metadata": {
        "id": "1lslqFyE7mk3"
      }
    },
    {
      "cell_type": "code",
      "source": [
        "list = ['jan','feb','march','apr']\n",
        "\n",
        "tuple1=tuple(list)\n",
        "\n",
        "tuple1"
      ],
      "metadata": {
        "colab": {
          "base_uri": "https://localhost:8080/"
        },
        "id": "onUIstTu7nZC",
        "outputId": "63eaa659-b8b1-4837-8262-a057c2c9f522"
      },
      "execution_count": null,
      "outputs": [
        {
          "output_type": "execute_result",
          "data": {
            "text/plain": [
              "('jan', 'feb', 'march', 'apr')"
            ]
          },
          "metadata": {},
          "execution_count": 23
        }
      ]
    },
    {
      "cell_type": "markdown",
      "source": [
        "9. Unpack the elements of a tuple into variables."
      ],
      "metadata": {
        "id": "oGIidt9y75ii"
      }
    },
    {
      "cell_type": "code",
      "source": [
        "t3=('a',5,8)\n",
        "\n",
        "var1, var2, var3 = t3\n",
        "\n",
        "# Step 3: Print the variables\n",
        "print(\"var1:\", var1)\n",
        "print(\"var2:\", var2)\n",
        "print(\"var3:\", var3)\n",
        "\n",
        "\n",
        "\"\"\"during unpacking, the number of variables must be equal to the number of objects in the tuples.\n",
        "If this is not the case, a ValueError is raised.\"\"\""
      ],
      "metadata": {
        "colab": {
          "base_uri": "https://localhost:8080/",
          "height": 91
        },
        "id": "vig2IyiZ797S",
        "outputId": "68604dfb-80bc-4dc1-8991-d75154d76ec5"
      },
      "execution_count": null,
      "outputs": [
        {
          "output_type": "stream",
          "name": "stdout",
          "text": [
            "var1: a\n",
            "var2: 5\n",
            "var3: 8\n"
          ]
        },
        {
          "output_type": "execute_result",
          "data": {
            "text/plain": [
              "'during unpacking, the number of variables must be equal to the number of objects in the tuples. \\nIf this is not the case, a ValueError is raised.'"
            ],
            "application/vnd.google.colaboratory.intrinsic+json": {
              "type": "string"
            }
          },
          "metadata": {},
          "execution_count": 26
        }
      ]
    },
    {
      "cell_type": "markdown",
      "source": [
        "10. Create a tuple of even numbers from 1 to 10."
      ],
      "metadata": {
        "id": "pgHQlbeo9odG"
      }
    },
    {
      "cell_type": "code",
      "source": [
        "t4 =()\n",
        "t4_list = []\n",
        "for x in range(10):\n",
        "  if x%2 == 0:\n",
        "\n",
        "    t4_list.append(x)\n",
        "\n",
        "t4=tuple(t4_list)\n",
        "t4"
      ],
      "metadata": {
        "colab": {
          "base_uri": "https://localhost:8080/"
        },
        "id": "-168Z6tZ9qH1",
        "outputId": "226091b8-538b-4b82-a000-5c738f05c22c"
      },
      "execution_count": null,
      "outputs": [
        {
          "output_type": "execute_result",
          "data": {
            "text/plain": [
              "(0, 2, 4, 6, 8)"
            ]
          },
          "metadata": {},
          "execution_count": 31
        }
      ]
    },
    {
      "cell_type": "markdown",
      "source": [
        "11. Create a tuple of odd numbers from 1 to 10."
      ],
      "metadata": {
        "id": "v9AWWKW-_KO2"
      }
    },
    {
      "cell_type": "code",
      "source": [
        "t4 =()\n",
        "t4_list = []\n",
        "for x in range(10):\n",
        "  if x%2 != 0:\n",
        "\n",
        "    t4_list.append(x)\n",
        "\n",
        "t4=tuple(t4_list)\n",
        "t4"
      ],
      "metadata": {
        "colab": {
          "base_uri": "https://localhost:8080/"
        },
        "id": "EubGqodz_Tn6",
        "outputId": "b49881df-acd5-4cc0-8f1d-827ea99a8f56"
      },
      "execution_count": null,
      "outputs": [
        {
          "output_type": "execute_result",
          "data": {
            "text/plain": [
              "(1, 3, 5, 7, 9)"
            ]
          },
          "metadata": {},
          "execution_count": 32
        }
      ]
    },
    {
      "cell_type": "markdown",
      "source": [
        "12. Concatenate two tuples."
      ],
      "metadata": {
        "id": "vbc02gXz_aJE"
      }
    },
    {
      "cell_type": "code",
      "source": [
        "tuple1 = (\"apple\", \"banana\", \"cherry\")\n",
        "tuple2 = (1,2,4,56,7)\n",
        "\n",
        "tuple1 += tuple2\n",
        "\n",
        "print(tuple1)"
      ],
      "metadata": {
        "colab": {
          "base_uri": "https://localhost:8080/"
        },
        "id": "qlT1Oe1v_hkq",
        "outputId": "628bcd60-7aa6-459d-e75c-acee656b243a"
      },
      "execution_count": null,
      "outputs": [
        {
          "output_type": "stream",
          "name": "stdout",
          "text": [
            "('apple', 'banana', 'cherry', 1, 2, 4, 56, 7)\n"
          ]
        }
      ]
    },
    {
      "cell_type": "markdown",
      "source": [
        "13. Repeat a tuple three times."
      ],
      "metadata": {
        "id": "Pa0LyCVF_1tk"
      }
    },
    {
      "cell_type": "code",
      "source": [
        "tuple1 = (\"apple\", \"banana\", \"cherry\")\n",
        "\n",
        "tuple_3times = tuple1 * 3\n",
        "\n",
        "tuple_3times"
      ],
      "metadata": {
        "colab": {
          "base_uri": "https://localhost:8080/"
        },
        "id": "kWX_zcfe_6SW",
        "outputId": "78058433-d986-472b-9683-8ca047f2d233"
      },
      "execution_count": null,
      "outputs": [
        {
          "output_type": "execute_result",
          "data": {
            "text/plain": [
              "('apple',\n",
              " 'banana',\n",
              " 'cherry',\n",
              " 'apple',\n",
              " 'banana',\n",
              " 'cherry',\n",
              " 'apple',\n",
              " 'banana',\n",
              " 'cherry')"
            ]
          },
          "metadata": {},
          "execution_count": 36
        }
      ]
    },
    {
      "cell_type": "markdown",
      "source": [
        "14. Check if a tuple is empty."
      ],
      "metadata": {
        "id": "3H19SSgAAFDb"
      }
    },
    {
      "cell_type": "code",
      "source": [
        "A = (1, 2, 3)\n",
        "#also you can check by len()\n",
        "#length_tuple = len(A)\n",
        "#length_tuple\n",
        "\n",
        "\n",
        "if A :\n",
        "  print (\"Tuple A is not empty\")\n",
        "else :\n",
        "  print (\"Tuple A is empty\")"
      ],
      "metadata": {
        "colab": {
          "base_uri": "https://localhost:8080/"
        },
        "id": "QnY2qUu3AI4q",
        "outputId": "77a41fcc-6c30-4835-a5a6-72599ddb6523"
      },
      "execution_count": null,
      "outputs": [
        {
          "output_type": "stream",
          "name": "stdout",
          "text": [
            "Tuple A is not empty\n"
          ]
        }
      ]
    },
    {
      "cell_type": "markdown",
      "source": [
        "15. Create a nested tuple."
      ],
      "metadata": {
        "id": "zfjaI_lLBA1e"
      }
    },
    {
      "cell_type": "code",
      "source": [],
      "metadata": {
        "id": "jjtaNTRFBBow"
      },
      "execution_count": null,
      "outputs": []
    }
  ]
}