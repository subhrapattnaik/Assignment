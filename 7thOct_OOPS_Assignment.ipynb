{
  "nbformat": 4,
  "nbformat_minor": 0,
  "metadata": {
    "colab": {
      "provenance": [],
      "authorship_tag": "ABX9TyPg3AtH2+dea7fEDLQ/D5it",
      "include_colab_link": true
    },
    "kernelspec": {
      "name": "python3",
      "display_name": "Python 3"
    },
    "language_info": {
      "name": "python"
    }
  },
  "cells": [
    {
      "cell_type": "markdown",
      "metadata": {
        "id": "view-in-github",
        "colab_type": "text"
      },
      "source": [
        "<a href=\"https://colab.research.google.com/github/subhrapattnaik/Assignment/blob/main/7thOct_OOPS_Assignment.ipynb\" target=\"_parent\"><img src=\"https://colab.research.google.com/assets/colab-badge.svg\" alt=\"Open In Colab\"/></a>"
      ]
    },
    {
      "cell_type": "markdown",
      "source": [],
      "metadata": {
        "id": "Bc3dUt5a8Veh"
      }
    },
    {
      "cell_type": "code",
      "source": [
        "class a :\n",
        "\n",
        "    def test(self):\n",
        "        print(\"this test method is a part of class a\")\n",
        "\n",
        "    def test1(self):\n",
        "        print(\"this is test1 from class a \")"
      ],
      "metadata": {
        "id": "9oKGk2P18YW2"
      },
      "execution_count": null,
      "outputs": []
    },
    {
      "cell_type": "code",
      "source": [
        "obj_a = a()"
      ],
      "metadata": {
        "id": "BB8in9hQ8fFV"
      },
      "execution_count": null,
      "outputs": []
    },
    {
      "cell_type": "code",
      "source": [
        "obj_a.test()"
      ],
      "metadata": {
        "colab": {
          "base_uri": "https://localhost:8080/"
        },
        "id": "RafzmQt38iZN",
        "outputId": "167713d0-a25a-4d17-91db-6ef23f0b83f1"
      },
      "execution_count": null,
      "outputs": [
        {
          "output_type": "stream",
          "name": "stdout",
          "text": [
            "this test method is a part of class a\n"
          ]
        }
      ]
    },
    {
      "cell_type": "code",
      "source": [
        "#class b inherits class a\n",
        "class b(a) :\n",
        "    def test1b(self):\n",
        "        print(\"this is a part of class b \")"
      ],
      "metadata": {
        "id": "HFebziwT8z1-"
      },
      "execution_count": null,
      "outputs": []
    },
    {
      "cell_type": "code",
      "source": [
        "obj_b = b()"
      ],
      "metadata": {
        "id": "c4EsxbQ288ut"
      },
      "execution_count": null,
      "outputs": []
    },
    {
      "cell_type": "code",
      "source": [
        "obj_b.test1()"
      ],
      "metadata": {
        "colab": {
          "base_uri": "https://localhost:8080/"
        },
        "id": "ugZ6bD0T8kJu",
        "outputId": "db0534a5-600b-4dc9-e96a-d57a04c2c01f"
      },
      "execution_count": null,
      "outputs": [
        {
          "output_type": "stream",
          "name": "stdout",
          "text": [
            "this is test1 from class a \n"
          ]
        }
      ]
    },
    {
      "cell_type": "code",
      "source": [
        "obj_b.test()"
      ],
      "metadata": {
        "colab": {
          "base_uri": "https://localhost:8080/"
        },
        "id": "xRnvyUK39EBc",
        "outputId": "d39e6386-7d03-4394-83dd-ea1bea443746"
      },
      "execution_count": null,
      "outputs": [
        {
          "output_type": "stream",
          "name": "stdout",
          "text": [
            "this test method is a part of class a\n"
          ]
        }
      ]
    },
    {
      "cell_type": "code",
      "source": [
        "class lecture:\n",
        "\n",
        "    def topic(self):\n",
        "        print(\"todays class we are discussing about inheritance condept in oops\")\n",
        "\n",
        "    def timing(self):\n",
        "        print(\"timing for todays class is 9 AM IST\")\n",
        "\n",
        "    def end_time(self):\n",
        "        print(\"today i will try to end class bit early\")"
      ],
      "metadata": {
        "id": "6MNxs9NC9FwT"
      },
      "execution_count": null,
      "outputs": []
    },
    {
      "cell_type": "code",
      "source": [
        "class student(lecture):\n",
        "\n",
        "    def student_details(self):\n",
        "        print(\"this class will give you a student details\")"
      ],
      "metadata": {
        "id": "hyFaEgsm9K4o"
      },
      "execution_count": null,
      "outputs": []
    },
    {
      "cell_type": "code",
      "source": [
        "naval = student()"
      ],
      "metadata": {
        "id": "6pqghlVV9OMv"
      },
      "execution_count": null,
      "outputs": []
    },
    {
      "cell_type": "code",
      "source": [
        "naval.topic()"
      ],
      "metadata": {
        "colab": {
          "base_uri": "https://localhost:8080/"
        },
        "id": "uU4ADBDc9SOg",
        "outputId": "5ccaadc0-980f-418c-9b05-721ee5187c95"
      },
      "execution_count": null,
      "outputs": [
        {
          "output_type": "stream",
          "name": "stdout",
          "text": [
            "todays class we are discussing about inheritance condept in oops\n"
          ]
        }
      ]
    },
    {
      "cell_type": "code",
      "source": [
        "satish = student()\n",
        "satish.timing()"
      ],
      "metadata": {
        "colab": {
          "base_uri": "https://localhost:8080/"
        },
        "id": "LilutNfw9Trv",
        "outputId": "d996ce76-e5d8-4c8b-8ce2-cc4d1bc3d712"
      },
      "execution_count": null,
      "outputs": [
        {
          "output_type": "stream",
          "name": "stdout",
          "text": [
            "timing for todays class is 9 AM IST\n"
          ]
        }
      ]
    },
    {
      "cell_type": "code",
      "source": [
        "class teacher(student):\n",
        "    def details(self):\n",
        "        print(\"this will give you a details about teacher\")"
      ],
      "metadata": {
        "id": "ETgRicHG9XvD"
      },
      "execution_count": null,
      "outputs": []
    },
    {
      "cell_type": "code",
      "source": [
        "sudh = teacher()\n",
        "sudh.timing()"
      ],
      "metadata": {
        "colab": {
          "base_uri": "https://localhost:8080/"
        },
        "id": "LSg9g1Dy9bl9",
        "outputId": "355fd246-e2e2-482f-adc9-3052e42a96fb"
      },
      "execution_count": null,
      "outputs": [
        {
          "output_type": "stream",
          "name": "stdout",
          "text": [
            "timing for todays class is 9 AM IST\n"
          ]
        }
      ]
    },
    {
      "cell_type": "code",
      "source": [
        "class lecture:\n",
        "    def topic(self):\n",
        "        print(\"todays class we are discussing about inheritance condept in oops\")\n",
        "\n",
        "    def timing(self):\n",
        "        print(\"timing for todays class is 9 AM IST\")\n",
        "\n",
        "    def end_time(self):\n",
        "        print(\"today i will try to end class bit early\")"
      ],
      "metadata": {
        "id": "xysBb6pS9pUU"
      },
      "execution_count": null,
      "outputs": []
    },
    {
      "cell_type": "code",
      "source": [
        "class student:\n",
        "\n",
        "    def student_details(self):\n",
        "        print(\"this class will give you a student details\")\n",
        "\n",
        "    def timing(self):\n",
        "        print(\"this is a timing fun from student class\")"
      ],
      "metadata": {
        "id": "UBbDH8eU9twt"
      },
      "execution_count": null,
      "outputs": []
    },
    {
      "cell_type": "code",
      "source": [
        "class teacher(lecture,student):\n",
        "    def details(self):\n",
        "        print(\"this will give you a details about teacher\")"
      ],
      "metadata": {
        "id": "2iFUJqyl9vLc"
      },
      "execution_count": null,
      "outputs": []
    },
    {
      "cell_type": "code",
      "source": [
        "krish = teacher()"
      ],
      "metadata": {
        "id": "3goEanPb9y4T"
      },
      "execution_count": null,
      "outputs": []
    },
    {
      "cell_type": "code",
      "source": [
        "krish.timing()"
      ],
      "metadata": {
        "colab": {
          "base_uri": "https://localhost:8080/"
        },
        "id": "PjCqYnn7910j",
        "outputId": "df89719c-dc3c-4773-db7d-bf8d332fae5a"
      },
      "execution_count": null,
      "outputs": [
        {
          "output_type": "stream",
          "name": "stdout",
          "text": [
            "timing for todays class is 9 AM IST\n"
          ]
        }
      ]
    },
    {
      "cell_type": "code",
      "source": [
        "krish.student_details()"
      ],
      "metadata": {
        "colab": {
          "base_uri": "https://localhost:8080/"
        },
        "id": "IPVShE1N95VY",
        "outputId": "1f4d9a8f-a54c-4598-ef6c-620eef779bd4"
      },
      "execution_count": null,
      "outputs": [
        {
          "output_type": "stream",
          "name": "stdout",
          "text": [
            "this class will give you a student details\n"
          ]
        }
      ]
    },
    {
      "cell_type": "code",
      "source": [
        "class bankaccount :\n",
        "\n",
        "    def openaccount(self,name , email_id) :\n",
        "        print(\"open an account by taking name and mail id \")\n",
        "        return \"opened account for \"+name + \" and   \" + email_id\n",
        "\n",
        "    def deposite(self,amount):\n",
        "        print(\"i am trying to tdeposite an amount in my account\")\n",
        "\n",
        "    def whithdraw(self,amt_with):\n",
        "        print(\"withdraw the amount\")\n",
        "\n",
        "    def update_details(self, name_update , emaid_update):\n",
        "        print(\"this function will update my name and mail if for account\")"
      ],
      "metadata": {
        "id": "VoXheICSORsW"
      },
      "execution_count": null,
      "outputs": []
    },
    {
      "cell_type": "code",
      "source": [
        "sudh = bankaccount()"
      ],
      "metadata": {
        "id": "DEX5qLCTOZXC"
      },
      "execution_count": null,
      "outputs": []
    },
    {
      "cell_type": "code",
      "source": [
        "sudh.openaccount(\"subhra\",\"subh@gmail.com\")"
      ],
      "metadata": {
        "colab": {
          "base_uri": "https://localhost:8080/",
          "height": 54
        },
        "id": "4O68bJ4rOa_4",
        "outputId": "ef89504d-1db8-4c56-cbc5-44e2c8e81c92"
      },
      "execution_count": null,
      "outputs": [
        {
          "output_type": "stream",
          "name": "stdout",
          "text": [
            "open an account by taking name and mail id \n"
          ]
        },
        {
          "output_type": "execute_result",
          "data": {
            "text/plain": [
              "'opened account for subhra and   subh@gmail.com'"
            ],
            "application/vnd.google.colaboratory.intrinsic+json": {
              "type": "string"
            }
          },
          "metadata": {},
          "execution_count": 3
        }
      ]
    },
    {
      "cell_type": "markdown",
      "source": [
        "Problem 1: Bank Account Create a class representing a bank account with attributes like account number, account holder name, and balance. Implement methods to deposit and withdraw money from the account."
      ],
      "metadata": {
        "id": "VwMiPN9P6_bt"
      }
    },
    {
      "cell_type": "code",
      "execution_count": null,
      "metadata": {
        "id": "dHwf53c86t2o"
      },
      "outputs": [],
      "source": [
        "class bank_account:\n",
        "\n",
        "    def deposit(self,amount,balance):\n",
        "        balance = balance + amount\n",
        "        print(\"Current account balance after deposit is :\",balance)\n",
        "\n",
        "    def withdraw(self,amount,balance):\n",
        "        balance = balance - amount\n",
        "        print(\"Current account balance after withdrawl is :\",balance)\n",
        "\n",
        "    def check_balance(self,accountno):\n",
        "        print(\"your account balance is :\",balance )\n",
        "\n"
      ]
    },
    {
      "cell_type": "code",
      "source": [
        "accountno=int(input(\"Enter your account number  :\"))\n",
        "name=input(\"Enter your name:\")\n",
        "\n",
        "balance=5000\n",
        "amount=0\n",
        "obj_bankaccount = bank_account()\n",
        "print(\"1.check balance 2. Withdrawal ,3.Deposit\")\n",
        "action=int(input(\"Enter the action number you want to do :\"))\n",
        "\n",
        "\n",
        "if (action == 1):\n",
        "  obj_bankaccount.check_balance(accountno)\n",
        "\n",
        "\n",
        "elif (action == 2):\n",
        "  amount=int(input(\"Enter the amount you want to deposit :\"))\n",
        "  obj_bankaccount.deposit(amount,balance)\n",
        "\n",
        "elif (action == 3):\n",
        "  amount=int(input(\"Enter the amount you want to withdraw :\"))\n",
        "  obj_bankaccount.withdraw(amount,balance)\n",
        "\n",
        "else:\n",
        "  print(\"You entered incorrect action number.Please  try again.Thank you !!! \")\n"
      ],
      "metadata": {
        "colab": {
          "base_uri": "https://localhost:8080/"
        },
        "id": "shUfJ-NxG27C",
        "outputId": "3d77352c-9500-46c1-84d1-aaff4f9a7557"
      },
      "execution_count": null,
      "outputs": [
        {
          "output_type": "stream",
          "name": "stdout",
          "text": [
            "Enter your account number  :1111\n",
            "Enter your name:dd\n",
            "1.check balance 2. Withdrawal ,3.Deposit\n",
            "Enter the action number you want to do :3\n",
            "Enter the amount you want to withdraw :67\n",
            "Current account balance after withdrawl is : 4933\n"
          ]
        }
      ]
    },
    {
      "cell_type": "markdown",
      "source": [
        "Problem 2: Employee Management Create a class representing an employee with attributes like employee ID, name, and salary. Implement methods to calculate the yearly bonus and display employee details."
      ],
      "metadata": {
        "id": "SVLONQCu7NTS"
      }
    },
    {
      "cell_type": "code",
      "source": [
        "class Employee:\n",
        "  def __init__(self,employeeID,name,salary,age):\n",
        "    self.employeeID=employeeID\n",
        "    self.name=name\n",
        "    self.salary=salary\n",
        "    self.age=age\n",
        "\n",
        "  def yearly_bonus(self):\n",
        "    self.bonus= self.salary * (15/100)\n",
        "    print(\"Yearly bonus of the employee : \",self.bonus)\n",
        "\n",
        "  def employee_details(self):\n",
        "    print(\"Name of the employee : \",self.name)\n",
        "    print(\"employeeID of the employee : \",self.employeeID)\n",
        "    print(\"Salary of the employee : \",self.salary)\n",
        "    print(\"Age of the employee : \",self.age)\n",
        "\n"
      ],
      "metadata": {
        "id": "Ze3x3rmf7SKV"
      },
      "execution_count": null,
      "outputs": []
    },
    {
      "cell_type": "code",
      "source": [
        "e1 = Employee(111,\"subhra\",1000000,40)\n",
        "\n",
        "print(e1.name)\n",
        "print(e1.employeeID)\n",
        "print(e1.salary)\n",
        "print(e1.age)\n",
        "\n",
        "e1.employee_details()\n",
        "e1.yearly_bonus()\n",
        "\n",
        "\n",
        "#you can modify the name(properties of the class) like this\n",
        "e1.name=\"sarmistha\"\n",
        "print(e1.name)\n",
        "\n",
        "\n",
        "#Delete the age property from the e1 object:\n",
        "print(\"After deleting age property\")\n",
        "\n",
        "del e1.age\n",
        "\n"
      ],
      "metadata": {
        "colab": {
          "base_uri": "https://localhost:8080/"
        },
        "id": "-uQ5vkHwbLkY",
        "outputId": "15f8f540-9ca1-46fc-9cb6-64807c9091c3"
      },
      "execution_count": null,
      "outputs": [
        {
          "output_type": "stream",
          "name": "stdout",
          "text": [
            "subhra\n",
            "111\n",
            "1000000\n",
            "40\n",
            "Name of the employee :  subhra\n",
            "employeeID of the employee :  111\n",
            "Salary of the employee :  1000000\n",
            "Age of the employee :  40\n",
            "Yearly bonus of the employee :  150000.0\n",
            "sarmistha\n",
            "After deleting age property\n"
          ]
        }
      ]
    },
    {
      "cell_type": "markdown",
      "source": [
        "Problem 3: Vehicle Rental Create a class representing a vehicle rental system. Implement methods to rent a vehicle, return a vehicle, and display available vehicles."
      ],
      "metadata": {
        "id": "2ZfyGIl27SqZ"
      }
    },
    {
      "cell_type": "code",
      "source": [
        "class Vehicle_rental:\n",
        "\n",
        "  def __init__(self,vehicleno,vehiclemodel,capacity,vehicletype):\n",
        "    self.vehicleno=vehicleno\n",
        "    self.vehiclemodel=vehiclemodel\n",
        "    self.capacity=capacity\n",
        "    self.vehicletype=vehicletype\n",
        "\n",
        "  def rent_vehicle(self):\n",
        "    if (self.vehicletype == \"luxury\"):\n",
        "      self.rent= 2000\n",
        "      print(\"Rent for the vehicle for 1 day : \",self.rent)\n",
        "    elif(self.vehicletype == \"delux\"):\n",
        "      self.rent=1500\n",
        "      print(\"Rent for the vehicle for 1 day : \",self.rent)\n",
        "\n"
      ],
      "metadata": {
        "id": "vvFVC0rc7Y7K"
      },
      "execution_count": null,
      "outputs": []
    },
    {
      "cell_type": "code",
      "source": [
        "v1=Vehicle_rental(234234222,\"swift\",5,\"luxury\")\n",
        "v1.vehicleno\n",
        "v1.vehiclemodel\n",
        "v1.capacity\n",
        "\n",
        "v1.rent_vehicle()"
      ],
      "metadata": {
        "colab": {
          "base_uri": "https://localhost:8080/"
        },
        "id": "U1CAW_HEm_tZ",
        "outputId": "2e336f13-991f-4356-ecaf-17a3884c9b42"
      },
      "execution_count": null,
      "outputs": [
        {
          "output_type": "stream",
          "name": "stdout",
          "text": [
            "Rent for the vehicle for 1 day :  2000\n"
          ]
        }
      ]
    },
    {
      "cell_type": "markdown",
      "source": [
        "\n",
        "Problem 4: Library Catalog Create classes representing a library and a book. Implement methods to add books to the library, borrow books, and display available books."
      ],
      "metadata": {
        "id": "PSw7U03-7ZVA"
      }
    },
    {
      "cell_type": "code",
      "source": [],
      "metadata": {
        "id": "NAg7LH377eDz"
      },
      "execution_count": null,
      "outputs": []
    },
    {
      "cell_type": "markdown",
      "source": [
        "Problem 5: Product Inventory Create classes representing a product and an inventory system. Implement methods to add products to the inventory, update product quantity, and display available products."
      ],
      "metadata": {
        "id": "kTyOy0gb7eil"
      }
    },
    {
      "cell_type": "code",
      "source": [],
      "metadata": {
        "id": "-ufUrGrH7hoL"
      },
      "execution_count": null,
      "outputs": []
    },
    {
      "cell_type": "markdown",
      "source": [
        "Problem 6: Shape Calculation Create a class representing a shape with attributes like length, width, and height. Implement methods to calculate the area and perimeter of the shape."
      ],
      "metadata": {
        "id": "eOEV3jpy7h_4"
      }
    },
    {
      "cell_type": "code",
      "source": [],
      "metadata": {
        "id": "03XteGxS7kz1"
      },
      "execution_count": null,
      "outputs": []
    },
    {
      "cell_type": "markdown",
      "source": [
        "Problem 7: Student Management Create a class representing a student with attributes like student ID, name, and grades. Implement methods to calculate the average grade and display student details."
      ],
      "metadata": {
        "id": "9aZDlAlw7lWZ"
      }
    },
    {
      "cell_type": "code",
      "source": [],
      "metadata": {
        "id": "E8bJMh7a7oVa"
      },
      "execution_count": null,
      "outputs": []
    },
    {
      "cell_type": "markdown",
      "source": [
        "Problem 8: Email Management Create a class representing an email with attributes like sender, recipient, and subject. Implement methods to send an email and display email details."
      ],
      "metadata": {
        "id": "9hZlYqck7pQh"
      }
    },
    {
      "cell_type": "code",
      "source": [],
      "metadata": {
        "id": "dITsVL197r17"
      },
      "execution_count": null,
      "outputs": []
    },
    {
      "cell_type": "markdown",
      "source": [
        "Problem 9: Social Media Profile Create a class representing a social media profile with attributes like username and posts. Implement methods to add posts, display posts, and search for posts by keyword."
      ],
      "metadata": {
        "id": "KOi1WSh56-cL"
      }
    },
    {
      "cell_type": "code",
      "source": [],
      "metadata": {
        "id": "UipHkTL27xVR"
      },
      "execution_count": null,
      "outputs": []
    },
    {
      "cell_type": "markdown",
      "source": [
        "Problem 10: ToDo List Create a class representing a ToDo list with attributes like tasks and due dates. Implement methods to add tasks, mark tasks as completed, and display pending tasks."
      ],
      "metadata": {
        "id": "hahkJrBN7x3m"
      }
    },
    {
      "cell_type": "code",
      "source": [],
      "metadata": {
        "id": "NwBqY8O171bF"
      },
      "execution_count": null,
      "outputs": []
    },
    {
      "cell_type": "markdown",
      "source": [],
      "metadata": {
        "id": "gigaWyz_8Tox"
      }
    }
  ]
}