{
  "nbformat": 4,
  "nbformat_minor": 0,
  "metadata": {
    "colab": {
      "provenance": [],
      "authorship_tag": "ABX9TyOXPogE+atHRiyFzpZbGUYo",
      "include_colab_link": true
    },
    "kernelspec": {
      "name": "python3",
      "display_name": "Python 3"
    },
    "language_info": {
      "name": "python"
    }
  },
  "cells": [
    {
      "cell_type": "markdown",
      "metadata": {
        "id": "view-in-github",
        "colab_type": "text"
      },
      "source": [
        "<a href=\"https://colab.research.google.com/github/subhrapattnaik/Assignment/blob/main/Python_assignment_17th_Sept_FSDS_Pro.ipynb\" target=\"_parent\"><img src=\"https://colab.research.google.com/assets/colab-badge.svg\" alt=\"Open In Colab\"/></a>"
      ]
    },
    {
      "cell_type": "markdown",
      "source": [
        "For Loop :-\n"
      ],
      "metadata": {
        "id": "yHYEnroQ6i3s"
      }
    },
    {
      "cell_type": "markdown",
      "source": [
        "1.Write a Python program to print numbers from 1 to 10 using a for loop.\n"
      ],
      "metadata": {
        "id": "aDK4cM2H6m9m"
      }
    },
    {
      "cell_type": "code",
      "execution_count": null,
      "metadata": {
        "colab": {
          "base_uri": "https://localhost:8080/"
        },
        "id": "WMpq-JFq6fFd",
        "outputId": "9e805b49-e033-4449-f21a-f34ad4408171"
      },
      "outputs": [
        {
          "output_type": "stream",
          "name": "stdout",
          "text": [
            "1\n",
            "2\n",
            "3\n",
            "4\n",
            "5\n",
            "6\n",
            "7\n",
            "8\n",
            "9\n",
            "10\n"
          ]
        }
      ],
      "source": [
        "#For loop is used to iterate over a sequence of items.\n",
        "for i in range(1,11):\n",
        "  print(i)"
      ]
    },
    {
      "cell_type": "markdown",
      "source": [
        "2.Explain the difference between a for loop and a while loop in Python."
      ],
      "metadata": {
        "id": "9qscg1hHJhM7"
      }
    },
    {
      "cell_type": "code",
      "source": [
        "#While loop is used to repeatedly execute a block of statements while a condition is true.\n",
        "#Write a Python program to print numbers from 1 to 10 using a for loop.\n",
        "x=1\n",
        "while(x<11):\n",
        "  print(x)\n",
        "  x=x+1"
      ],
      "metadata": {
        "colab": {
          "base_uri": "https://localhost:8080/"
        },
        "id": "AqJaW8WWJw-b",
        "outputId": "b1619032-7e40-4fcb-a82b-72a70ed77ad6"
      },
      "execution_count": null,
      "outputs": [
        {
          "output_type": "stream",
          "name": "stdout",
          "text": [
            "1\n",
            "2\n",
            "3\n",
            "4\n",
            "5\n",
            "6\n",
            "7\n",
            "8\n",
            "9\n",
            "10\n"
          ]
        }
      ]
    },
    {
      "cell_type": "markdown",
      "source": [],
      "metadata": {
        "id": "1pPk8qC-Kl62"
      }
    },
    {
      "cell_type": "markdown",
      "source": [
        "3.Write a Python program to calculate the sum of all numbers from 1 to 100 using a for loop.\n"
      ],
      "metadata": {
        "id": "ZGi4SUnqOkwP"
      }
    },
    {
      "cell_type": "code",
      "source": [
        "sum=0\n",
        "for x in range(1,101):\n",
        "  sum =sum +x\n",
        "print(sum)"
      ],
      "metadata": {
        "colab": {
          "base_uri": "https://localhost:8080/"
        },
        "id": "NlFsXwGvOnk5",
        "outputId": "ca88c92f-7d97-4a4f-8c0f-fbe893c7057a"
      },
      "execution_count": null,
      "outputs": [
        {
          "output_type": "stream",
          "name": "stdout",
          "text": [
            "5050\n"
          ]
        }
      ]
    },
    {
      "cell_type": "markdown",
      "source": [
        "4.How do you iterate through a list using a for loop in Python?\n"
      ],
      "metadata": {
        "id": "6Sm4XJcEO04I"
      }
    },
    {
      "cell_type": "code",
      "source": [
        "list1= [1,4,6,7,3,5,345,5]\n",
        "for x in list1:\n",
        "  print(x)"
      ],
      "metadata": {
        "colab": {
          "base_uri": "https://localhost:8080/"
        },
        "id": "icPO26a5O4Rr",
        "outputId": "2630055e-7303-46c5-9b49-71c04f934e60"
      },
      "execution_count": null,
      "outputs": [
        {
          "output_type": "stream",
          "name": "stdout",
          "text": [
            "1\n",
            "4\n",
            "6\n",
            "7\n",
            "3\n",
            "5\n",
            "345\n",
            "5\n"
          ]
        }
      ]
    },
    {
      "cell_type": "markdown",
      "source": [
        "5.Write a Python program to find the product of all elements in a list using a for loop.\n"
      ],
      "metadata": {
        "id": "7MfFnv0fPC9y"
      }
    },
    {
      "cell_type": "code",
      "source": [
        "list2=[4,5,6,7,9,10]\n",
        "product=1\n",
        "for x in list2:\n",
        "  product= product * x\n",
        "print(product)"
      ],
      "metadata": {
        "colab": {
          "base_uri": "https://localhost:8080/"
        },
        "id": "m8jkwihbPGBA",
        "outputId": "0e2a9e40-d5ad-4cec-bce3-87763d3a959e"
      },
      "execution_count": null,
      "outputs": [
        {
          "output_type": "stream",
          "name": "stdout",
          "text": [
            "75600\n"
          ]
        }
      ]
    },
    {
      "cell_type": "markdown",
      "source": [
        "6.Create a Python program that prints all even numbers from 1 to 20 using a for loop."
      ],
      "metadata": {
        "id": "R0S93ZhnPTNn"
      }
    },
    {
      "cell_type": "code",
      "source": [
        "for i in range(1,21):\n",
        "  if i % 2 == 0:\n",
        "    print(i)"
      ],
      "metadata": {
        "colab": {
          "base_uri": "https://localhost:8080/"
        },
        "id": "ELhVLu2xPW4M",
        "outputId": "cb80588c-8a6e-4eb5-8e5c-a0752e141526"
      },
      "execution_count": null,
      "outputs": [
        {
          "output_type": "stream",
          "name": "stdout",
          "text": [
            "2\n",
            "4\n",
            "6\n",
            "8\n",
            "10\n",
            "12\n",
            "14\n",
            "16\n",
            "18\n",
            "20\n"
          ]
        }
      ]
    },
    {
      "cell_type": "markdown",
      "source": [
        "7.Write a Python program that calculates the factorial of a number using a for loop."
      ],
      "metadata": {
        "id": "e0P0d8kIPlIG"
      }
    },
    {
      "cell_type": "code",
      "source": [
        "def fact_num(n):\n",
        "\n",
        "  if n == 0:\n",
        "    return 1\n",
        "  else:\n",
        "    return n*fact_num(n-1)\n",
        "\n",
        "fact_num(5)\n"
      ],
      "metadata": {
        "colab": {
          "base_uri": "https://localhost:8080/"
        },
        "id": "R07FhUrBPq98",
        "outputId": "dfd56fab-a783-4ff8-b8c8-9c865e41a48b"
      },
      "execution_count": null,
      "outputs": [
        {
          "output_type": "execute_result",
          "data": {
            "text/plain": [
              "120"
            ]
          },
          "metadata": {},
          "execution_count": 23
        }
      ]
    },
    {
      "cell_type": "markdown",
      "source": [
        "8.How can you iterate through the characters of a string using a for loop in Python?\n"
      ],
      "metadata": {
        "id": "0nuxB3j3TB_o"
      }
    },
    {
      "cell_type": "code",
      "source": [
        "str1=\"subhra\"\n",
        "\n",
        "for x in str1:\n",
        "  print(x)"
      ],
      "metadata": {
        "colab": {
          "base_uri": "https://localhost:8080/"
        },
        "id": "B2HUYq_DTEeh",
        "outputId": "f539f536-55e9-4aef-bdf1-12fea80a95a8"
      },
      "execution_count": null,
      "outputs": [
        {
          "output_type": "stream",
          "name": "stdout",
          "text": [
            "s\n",
            "u\n",
            "b\n",
            "h\n",
            "r\n",
            "a\n"
          ]
        }
      ]
    },
    {
      "cell_type": "markdown",
      "source": [
        "9.Write a Python program to find the largest number in a list using a for loop."
      ],
      "metadata": {
        "id": "uuTiR4T1TWr0"
      }
    },
    {
      "cell_type": "code",
      "source": [
        "list2=[45,67,34,56,89]\n",
        "largest_num = list2[0]\n",
        "\n",
        "for i in list2:\n",
        "    if i > largest_num:\n",
        "        largest_num = i\n",
        "\n",
        "print(\"Largetst number: \", largest_num)"
      ],
      "metadata": {
        "colab": {
          "base_uri": "https://localhost:8080/"
        },
        "id": "_cmMXZxtTbeH",
        "outputId": "315084ce-9dc3-4f42-c714-ca5df131037d"
      },
      "execution_count": null,
      "outputs": [
        {
          "output_type": "stream",
          "name": "stdout",
          "text": [
            "Largetst number:  89\n"
          ]
        }
      ]
    },
    {
      "cell_type": "markdown",
      "source": [
        "10.Create a Python program that prints the Fibonacci sequence up to a specified limit using a for loop.\n"
      ],
      "metadata": {
        "id": "mmWfWkCgyLe0"
      }
    },
    {
      "cell_type": "code",
      "source": [
        "#python program for fibonacci series without recursion\n",
        "first = 0\n",
        "second = 1\n",
        "print(first)\n",
        "print(second)\n",
        "for x in range(1,9):\n",
        "    third = first + second\n",
        "    print(third)\n",
        "    first,second=second,third\n",
        "\n"
      ],
      "metadata": {
        "colab": {
          "base_uri": "https://localhost:8080/"
        },
        "id": "EVLCq6pNzvLG",
        "outputId": "37713f95-de73-4a03-b938-2ecafcd1f700"
      },
      "execution_count": null,
      "outputs": [
        {
          "output_type": "stream",
          "name": "stdout",
          "text": [
            "0\n",
            "1\n",
            "1\n",
            "2\n",
            "3\n",
            "5\n",
            "8\n",
            "13\n",
            "21\n",
            "34\n"
          ]
        }
      ]
    },
    {
      "cell_type": "markdown",
      "source": [],
      "metadata": {
        "id": "JpGH0J0Z3Z-C"
      }
    },
    {
      "cell_type": "markdown",
      "source": [
        "11.Write a Python program to count the number of vowels in a given string using a for loop.\n"
      ],
      "metadata": {
        "id": "BCV-wAMn3kCE"
      }
    },
    {
      "cell_type": "code",
      "source": [
        "vowels=['a','e','i''o','u']\n",
        "count=0\n",
        "str1=\"mynameissubhra\"\n",
        "\n",
        "for x in str1:\n",
        "  if x in vowels:\n",
        "    count= count+1\n",
        "print(count)"
      ],
      "metadata": {
        "colab": {
          "base_uri": "https://localhost:8080/"
        },
        "id": "Gf-jEH7-3nA8",
        "outputId": "53969e07-5f70-4d81-fb73-9df5c41a0f75"
      },
      "execution_count": null,
      "outputs": [
        {
          "output_type": "stream",
          "name": "stdout",
          "text": [
            "4\n"
          ]
        }
      ]
    },
    {
      "cell_type": "markdown",
      "source": [
        "12.Create a Python program that generates a multiplication table for a given number using a for loop."
      ],
      "metadata": {
        "id": "WrT4lOHMWybC"
      }
    },
    {
      "cell_type": "code",
      "source": [
        "\n",
        "def mul_table(n):\n",
        "\n",
        "  print(\"Multiplication Table of : \", n)\n",
        "\n",
        "  for i in range(1,11):\n",
        "    print(f\" {n } * {i} = \", n*i)\n",
        "\n",
        "\n",
        "mul_table(8)\n"
      ],
      "metadata": {
        "colab": {
          "base_uri": "https://localhost:8080/"
        },
        "id": "M9r5SU53W15e",
        "outputId": "40eb6e7b-1c4f-44a6-e22b-0c8788675f7d"
      },
      "execution_count": null,
      "outputs": [
        {
          "output_type": "stream",
          "name": "stdout",
          "text": [
            "Multiplication Table of :  8\n",
            " 8 * 1 =  8\n",
            " 8 * 2 =  16\n",
            " 8 * 3 =  24\n",
            " 8 * 4 =  32\n",
            " 8 * 5 =  40\n",
            " 8 * 6 =  48\n",
            " 8 * 7 =  56\n",
            " 8 * 8 =  64\n",
            " 8 * 9 =  72\n",
            " 8 * 10 =  80\n"
          ]
        }
      ]
    },
    {
      "cell_type": "markdown",
      "source": [
        "13.Write a Python program to reverse a list using a for loop.\n"
      ],
      "metadata": {
        "id": "gweejF6QapIn"
      }
    },
    {
      "cell_type": "code",
      "source": [
        "list3 = [3,4,6,7,8,9,\"apple\",True]\n",
        "reverse_list=[]\n",
        "for i in range(len(list3)):\n",
        "  reverse_list.append(list3[len(list3)- (i+1)])\n",
        "reverse_list\n"
      ],
      "metadata": {
        "colab": {
          "base_uri": "https://localhost:8080/"
        },
        "id": "8Ramdcm8awn8",
        "outputId": "93a9b455-5597-440b-c02e-117bd276897c"
      },
      "execution_count": null,
      "outputs": [
        {
          "output_type": "execute_result",
          "data": {
            "text/plain": [
              "[True, 'apple', 9, 8, 7, 6, 4, 3]"
            ]
          },
          "metadata": {},
          "execution_count": 28
        }
      ]
    },
    {
      "cell_type": "code",
      "source": [
        "original_list = [1, 2, 3, 4, 5]\n",
        "\n",
        "reversed_list = []\n",
        "\n",
        "\n",
        "for value in original_list:\n",
        "  reversed_list = [value] + reversed_list\n",
        "  print(reversed_list)\n",
        "\n",
        "\n",
        "#print(\"List after reverse : \", reversed_list)"
      ],
      "metadata": {
        "colab": {
          "base_uri": "https://localhost:8080/"
        },
        "id": "rF4PBbERSYxT",
        "outputId": "a7f2d0ab-904c-4a64-d5be-85209954371b"
      },
      "execution_count": null,
      "outputs": [
        {
          "output_type": "stream",
          "name": "stdout",
          "text": [
            "[1]\n",
            "[2, 1]\n",
            "[3, 2, 1]\n",
            "[4, 3, 2, 1]\n",
            "[5, 4, 3, 2, 1]\n"
          ]
        }
      ]
    },
    {
      "cell_type": "markdown",
      "source": [
        "#14. Write a Python program to find the common elements between two lists using a for loop.\n"
      ],
      "metadata": {
        "id": "-ho51CN4TbTG"
      }
    },
    {
      "cell_type": "code",
      "source": [
        "l1=[1,2,5,8,9]\n",
        "l2=[6,7,8,1,2,3,5]\n",
        "\n",
        "for x in l1:\n",
        "  if x in l2:\n",
        "    print(x)"
      ],
      "metadata": {
        "colab": {
          "base_uri": "https://localhost:8080/"
        },
        "id": "9rIESIMbTcE5",
        "outputId": "c7895887-0a10-4838-addc-64f8328fdd92"
      },
      "execution_count": null,
      "outputs": [
        {
          "output_type": "stream",
          "name": "stdout",
          "text": [
            "1\n",
            "2\n",
            "5\n",
            "8\n"
          ]
        }
      ]
    },
    {
      "cell_type": "markdown",
      "source": [
        "15.Explain how to use a for loop to iterate through the keys and values of a dictionary in Python.\n"
      ],
      "metadata": {
        "id": "NUVpEADwUGwg"
      }
    },
    {
      "cell_type": "code",
      "source": [
        "dict1={\n",
        "   1:\"apple\",\n",
        "   2:\"carrot\",\n",
        "   3:\"banana\"\n",
        "\n",
        "}\n",
        "for item in dict1.values():\n",
        "  print(item)\n",
        "\n",
        "\n",
        "for item in dict1.keys():\n",
        "  print(item)"
      ],
      "metadata": {
        "colab": {
          "base_uri": "https://localhost:8080/"
        },
        "id": "EnnPNeseUKXD",
        "outputId": "6908410f-b753-481e-8dbd-686ea69d3601"
      },
      "execution_count": null,
      "outputs": [
        {
          "output_type": "stream",
          "name": "stdout",
          "text": [
            "apple\n",
            "carrot\n",
            "banana\n",
            "1\n",
            "2\n",
            "3\n"
          ]
        }
      ]
    },
    {
      "cell_type": "markdown",
      "source": [
        "# 16. Write a Python program to find the GCD (Greatest Common Divisor) of two numbers using a for loop.\n"
      ],
      "metadata": {
        "id": "E5Q7r0_SVCVC"
      }
    },
    {
      "cell_type": "code",
      "source": [
        "num1= 16\n",
        "num2=34\n",
        "\n",
        "smallest_num = num1  if num1 < num2  else num2\n",
        "print(smallest_num)\n",
        "\n",
        "\n",
        "gcd=1\n",
        "for i in range(2,round(smallest_num/2)+1):\n",
        "  #print(i)\n",
        "  if ((num1%i == 0) and (num2%i == 0)):\n",
        "    gcd=i\n",
        "gcd\n"
      ],
      "metadata": {
        "colab": {
          "base_uri": "https://localhost:8080/"
        },
        "id": "y4T0q9cZVFrV",
        "outputId": "3f52ee16-205e-47cd-af3f-e1f19339323c"
      },
      "execution_count": null,
      "outputs": [
        {
          "output_type": "stream",
          "name": "stdout",
          "text": [
            "16\n"
          ]
        },
        {
          "output_type": "execute_result",
          "data": {
            "text/plain": [
              "2"
            ]
          },
          "metadata": {},
          "execution_count": 60
        }
      ]
    },
    {
      "cell_type": "markdown",
      "source": [
        "#17. Create a Python program that checks if a string is a palindrome using a for loop.\n"
      ],
      "metadata": {
        "id": "kVL-dIaqXhy5"
      }
    },
    {
      "cell_type": "code",
      "source": [
        "str1=input(\"Enter a String : \")\n",
        "str2=\"\"\n",
        "for x in str1:\n",
        "  str2=  x +str2\n",
        "\n",
        "if str1 == str2:\n",
        "  print(f\"{str1} is pallindrome\")\n",
        "else:\n",
        "  print(\"not pallindrome\")\n"
      ],
      "metadata": {
        "colab": {
          "base_uri": "https://localhost:8080/"
        },
        "id": "w1nWtnn9XlLH",
        "outputId": "07d9d510-1427-4024-e720-9bbf111c9a32"
      },
      "execution_count": null,
      "outputs": [
        {
          "output_type": "stream",
          "name": "stdout",
          "text": [
            "Enter a String : madam\n",
            "madam is pallindrome\n"
          ]
        }
      ]
    },
    {
      "cell_type": "markdown",
      "source": [
        "18.Write a Python program to remove duplicates from a list using a for loop.\n"
      ],
      "metadata": {
        "id": "nXbjE4iKZPez"
      }
    },
    {
      "cell_type": "code",
      "source": [
        "list3= [5,5,6,8,9,10,10,30,30]\n",
        "list4=[]\n",
        "for x in list3:\n",
        "  if x not in list4:\n",
        "    list4.append(x)\n",
        "list4\n"
      ],
      "metadata": {
        "colab": {
          "base_uri": "https://localhost:8080/"
        },
        "id": "9CdizolEZSkg",
        "outputId": "1d39abb0-a322-4336-e32e-a4e68396ee85"
      },
      "execution_count": null,
      "outputs": [
        {
          "output_type": "execute_result",
          "data": {
            "text/plain": [
              "[5, 6, 8, 9, 10, 30]"
            ]
          },
          "metadata": {},
          "execution_count": 75
        }
      ]
    },
    {
      "cell_type": "markdown",
      "source": [
        "#19. Create a Python program that counts the number of words in a sentence using a for loop.\n"
      ],
      "metadata": {
        "id": "10SOjglRazXO"
      }
    },
    {
      "cell_type": "code",
      "source": [
        "sentence1=\" My name is subhra \"\n",
        "word_count=0\n",
        "\n",
        "for i in range(0,len(sentence1)-1):\n",
        "  #print(i)\n",
        "  if (sentence1[i] ==\" \" and sentence1[i+1].isalpha() and (i >0)):\n",
        "    word_count=word_count+1\n",
        "    #print(word_count)\n",
        "\n",
        "#To count the last word present in the string, increment wordCount by 1\n",
        "word_count = word_count + 1;\n",
        "word_count"
      ],
      "metadata": {
        "colab": {
          "base_uri": "https://localhost:8080/"
        },
        "id": "BtGmMRiVa2zG",
        "outputId": "ee793499-314c-4f65-9da7-f1cdf5618db4"
      },
      "execution_count": null,
      "outputs": [
        {
          "output_type": "execute_result",
          "data": {
            "text/plain": [
              "4"
            ]
          },
          "metadata": {},
          "execution_count": 99
        }
      ]
    },
    {
      "cell_type": "code",
      "source": [
        "sentence = \" Beauty lies in the eyes of beholder \";\n",
        "wordCount = 0;\n",
        "\n",
        "for i in range(0, len(sentence)-1):\n",
        "    #Counts all the spaces present in the string\n",
        "    #It doesn't include the first space as it won't be considered as a word\n",
        "    if(sentence[i] == ' ' and sentence[i+1].isalpha() and (i > 0)):\n",
        "        wordCount = wordCount + 1;\n",
        "\n",
        "\n",
        "#To count the last word present in the string, increment wordCount by 1\n",
        "wordCount = wordCount + 1;\n",
        "\n",
        "#Displays the total number of words present in the given string\n",
        "print(\"Total number of words in the given string: \" + str(wordCount))"
      ],
      "metadata": {
        "colab": {
          "base_uri": "https://localhost:8080/"
        },
        "id": "1G3z7FXleDqg",
        "outputId": "d6a96311-64d7-4b24-859f-8a0b9e3b0db1"
      },
      "execution_count": null,
      "outputs": [
        {
          "output_type": "stream",
          "name": "stdout",
          "text": [
            "Total number of words in the given string: 7\n"
          ]
        }
      ]
    },
    {
      "cell_type": "markdown",
      "source": [
        "20.Write a Python program to find the sum of all odd numbers from 1 to 50 using a for loop.\n"
      ],
      "metadata": {
        "id": "j3dgX2YRhe-K"
      }
    },
    {
      "cell_type": "code",
      "source": [
        "odd_sum=0\n",
        "\n",
        "for i in range(1,51):\n",
        "  if i % 2 != 0:\n",
        "    odd_sum = odd_sum + i\n",
        "print(odd_sum)"
      ],
      "metadata": {
        "colab": {
          "base_uri": "https://localhost:8080/"
        },
        "id": "VaEQWqkYhjVL",
        "outputId": "211c70e1-14f1-49af-d309-d39cf8e98dc8"
      },
      "execution_count": null,
      "outputs": [
        {
          "output_type": "stream",
          "name": "stdout",
          "text": [
            "625\n"
          ]
        }
      ]
    },
    {
      "cell_type": "markdown",
      "source": [
        "21.Write a Python program that checks if a given year is a leap year using a for loop.\n"
      ],
      "metadata": {
        "id": "v0_w0Y4-iyv6"
      }
    },
    {
      "cell_type": "code",
      "source": [],
      "metadata": {
        "id": "dnLyJOuKi1dB"
      },
      "execution_count": null,
      "outputs": []
    },
    {
      "cell_type": "markdown",
      "source": [
        "22.Create a Python program that calculates the square root of a number using a for loop.\n"
      ],
      "metadata": {
        "id": "VSdyXIQXlIZm"
      }
    },
    {
      "cell_type": "code",
      "source": [],
      "metadata": {
        "id": "wRc-10sPlJgg"
      },
      "execution_count": null,
      "outputs": []
    },
    {
      "cell_type": "markdown",
      "source": [
        "23.Write a Python program to find the LCM (Least Common Multiple) of two numbers using a for loop."
      ],
      "metadata": {
        "id": "7Z3jqVl3HmRO"
      }
    },
    {
      "cell_type": "code",
      "source": [],
      "metadata": {
        "id": "VIBDTGHlHnmM"
      },
      "execution_count": null,
      "outputs": []
    },
    {
      "cell_type": "markdown",
      "source": [
        "If else :\n"
      ],
      "metadata": {
        "id": "selwfGR2Hqqx"
      }
    },
    {
      "cell_type": "markdown",
      "source": [
        "1.Write a Python program to check if a number is positive, negative, or zero using an if-else statement.\n"
      ],
      "metadata": {
        "id": "EUzkYFPwHtNf"
      }
    },
    {
      "cell_type": "code",
      "source": [
        "num =int(input(\"Enter a Number : \"))\n",
        "\n",
        "if num > 0:\n",
        "  print(f\"{num} is positive\" )\n",
        "elif num < 0:\n",
        "  print(f\"{num} is negative\" )\n",
        "else:\n",
        "  print(f\"{num} is zero\")\n"
      ],
      "metadata": {
        "colab": {
          "base_uri": "https://localhost:8080/"
        },
        "id": "yKmuPJaCHwxV",
        "outputId": "a23dba3e-b0ea-4707-c412-0ae984fa2057"
      },
      "execution_count": null,
      "outputs": [
        {
          "output_type": "stream",
          "name": "stdout",
          "text": [
            "Enter a Number : 6\n",
            "6 is positive\n"
          ]
        }
      ]
    },
    {
      "cell_type": "markdown",
      "source": [
        "2.Create a Python program that checks if a given number is even or odd using an if-else statement.\n"
      ],
      "metadata": {
        "id": "pBCEmixiIfm4"
      }
    },
    {
      "cell_type": "code",
      "source": [
        "num =int(input(\"Enter a Number : \"))\n",
        "\n",
        "if num % 2 == 0:\n",
        "  print(f\"{num} is even\" )\n",
        "else:\n",
        "  print(f\"{num} is odd\")"
      ],
      "metadata": {
        "colab": {
          "base_uri": "https://localhost:8080/"
        },
        "id": "hmGzJhBsIiPz",
        "outputId": "79ef5838-041e-4da5-9f1f-913d15ed3744"
      },
      "execution_count": null,
      "outputs": [
        {
          "output_type": "stream",
          "name": "stdout",
          "text": [
            "Enter a Number : 5\n",
            "5 is odd\n"
          ]
        }
      ]
    },
    {
      "cell_type": "markdown",
      "source": [
        "3.How can you use nested if-else statements in Python, and provide an example?\n"
      ],
      "metadata": {
        "id": "tLgT90xFIuMa"
      }
    },
    {
      "cell_type": "code",
      "source": [],
      "metadata": {
        "id": "vtWms-g4Iw98"
      },
      "execution_count": null,
      "outputs": []
    },
    {
      "cell_type": "markdown",
      "source": [
        "4.Write a Python program to determine the largest of three numbers using if-else."
      ],
      "metadata": {
        "id": "-ybtj-STJEyA"
      }
    },
    {
      "cell_type": "code",
      "source": [
        "num1 = int(input(\"Enter 1st number : \"))\n",
        "num2 = int(input(\"Enter 2nd number : \"))\n",
        "num3 = int(input(\"Enter 3rd number : \"))\n",
        "\n",
        "\n",
        "if num1>num2 and num2 >num3:\n",
        "  print(f\"{num1} is largest\")\n",
        "elif num2>num1 and num2>num3:\n",
        "  print(f\"{num2} is largest\")\n",
        "else:\n",
        "  print(f\"{num3} is largest\")\n"
      ],
      "metadata": {
        "colab": {
          "base_uri": "https://localhost:8080/"
        },
        "id": "48PKrKT1JHhy",
        "outputId": "d5ef2d6e-f1d0-49e7-eabe-87bb7ae7b588"
      },
      "execution_count": null,
      "outputs": [
        {
          "output_type": "stream",
          "name": "stdout",
          "text": [
            "Enter 1st number : 4\n",
            "Enter 2nd number : 5\n",
            "Enter 3rd number : 7\n",
            "7 is largest\n"
          ]
        }
      ]
    },
    {
      "cell_type": "markdown",
      "source": [
        "5.Write a Python program that calculates the absolute value of a number using if-else."
      ],
      "metadata": {
        "id": "8i4wycIGKg6V"
      }
    },
    {
      "cell_type": "code",
      "source": [
        "num5= int(input(\"Enter a numner : \"))\n",
        "\n",
        "if num5 < 0 :\n",
        "  print(f\" Absolute value of {num5} is : \",num5 * (-1))\n",
        "else :\n",
        "  print (f\"Absolute value of {num5} is : \",num5)\n"
      ],
      "metadata": {
        "colab": {
          "base_uri": "https://localhost:8080/"
        },
        "id": "4Hkam-6qKlIF",
        "outputId": "55036ca1-4232-4a91-bef6-9686108b9aa9"
      },
      "execution_count": null,
      "outputs": [
        {
          "output_type": "stream",
          "name": "stdout",
          "text": [
            "Enter a numner : -6\n",
            " Absolute value of -6 is :  6\n"
          ]
        }
      ]
    },
    {
      "cell_type": "markdown",
      "source": [
        "6.Create a Python program that checks if a given character is a vowel or consonant using if-else."
      ],
      "metadata": {
        "id": "43eB42bqLgZp"
      }
    },
    {
      "cell_type": "code",
      "source": [
        "vowels=['a','e','i','o','u','A','E','I','O','U']\n",
        "\n",
        "ch =input(\"Enter a character: \")\n",
        "\n",
        "if ch in vowels:\n",
        "  print(f\"The charcter {ch} is  a vowel .\")\n",
        "else:\n",
        "  print(f\"The charcter {ch} is  a consonant .\")"
      ],
      "metadata": {
        "colab": {
          "base_uri": "https://localhost:8080/"
        },
        "id": "CRFe7yqnLkWk",
        "outputId": "111f5a26-e370-4171-c6e6-1cd13b1610cb"
      },
      "execution_count": null,
      "outputs": [
        {
          "output_type": "stream",
          "name": "stdout",
          "text": [
            "Enter a character: b\n",
            "The charcter b is  a consonant .\n"
          ]
        }
      ]
    },
    {
      "cell_type": "markdown",
      "source": [
        "7.Write a Python program to determine if a user is eligible to vote based on their age using if-else.\n"
      ],
      "metadata": {
        "id": "tq8KvUxMMOVO"
      }
    },
    {
      "cell_type": "code",
      "source": [
        "age=int(input(\"Enter your age : \"))\n",
        "if age >= 18:\n",
        "  print (\"You are elligible to vote \")\n",
        "else:\n",
        "  print(\"You are not elligible to vote\")"
      ],
      "metadata": {
        "colab": {
          "base_uri": "https://localhost:8080/"
        },
        "id": "64Oa80iBMSwT",
        "outputId": "4bd7d21a-1c7c-4803-87b6-ccc27db68daf"
      },
      "execution_count": null,
      "outputs": [
        {
          "output_type": "stream",
          "name": "stdout",
          "text": [
            "Enter your age : 17\n",
            "You are not elligible to vote\n"
          ]
        }
      ]
    },
    {
      "cell_type": "markdown",
      "source": [
        "8.Create a Python program that calculates the discount amount based on the purchase amount using if-else"
      ],
      "metadata": {
        "id": "jN7GiADeN-Hi"
      }
    },
    {
      "cell_type": "code",
      "source": [
        "purchase_amount=int(input(\"Enter your purchase amount: \"))\n",
        "\n",
        "if purchase_amount >= 5000:\n",
        "  print(\"You will be getting a 30% discount\")\n",
        "  discounted_amount= purchase_amount * (30/100)\n",
        "  print (f\"you will be getting a discount amount of {discounted_amount} on a purchase amount of {purchase_amount}\")\n",
        "elif purchase_amount >=3000 and purchase_amount < 5000:\n",
        "  print(\"You will be getting a 20% discount\")\n",
        "  discounted_amount= purchase_amount * (20/100)\n",
        "  print (f\"you will be getting a discount amount of {discounted_amount} on a purchase amount of {purchase_amount}\")\n",
        "else:\n",
        "  print(\"You will be getting a 10% discount\")\n",
        "  discounted_amount= purchase_amount * (10/100)\n",
        "  print (f\"you will be getting a discount amount of {discounted_amount} on a purchase amount of {purchase_amount}\")\n"
      ],
      "metadata": {
        "colab": {
          "base_uri": "https://localhost:8080/"
        },
        "id": "6vt-T2GCOChm",
        "outputId": "2b878dae-e8df-4ba2-e6ca-0a2cef0458a6"
      },
      "execution_count": null,
      "outputs": [
        {
          "output_type": "stream",
          "name": "stdout",
          "text": [
            "Enter your purchase amount: 1300\n",
            "You will be getting a 10% discount\n",
            "you will be getting a discount amount of 130.0 on a purchase amount of 1300\n"
          ]
        }
      ]
    },
    {
      "cell_type": "markdown",
      "source": [
        "9.Write a Python program to check if a number is within a specified range using if-else.\n"
      ],
      "metadata": {
        "id": "bDxxrfX1PdYh"
      }
    },
    {
      "cell_type": "code",
      "source": [
        "lower_bound = 10\n",
        "upper_bound = 20\n",
        "number = int(input(\"Enter a number: \"))\n",
        "if lower_bound <= number <= upper_bound:\n",
        "  print(\"The number is within the specified range.\")\n",
        "else:\n",
        "  print(\"The number is outside the specified range.\")"
      ],
      "metadata": {
        "colab": {
          "base_uri": "https://localhost:8080/"
        },
        "id": "UXYDe6crPiHw",
        "outputId": "bd5c89df-1a90-430a-ddd1-502b61d7a004"
      },
      "execution_count": null,
      "outputs": [
        {
          "output_type": "stream",
          "name": "stdout",
          "text": [
            "Enter a number: 15\n",
            "The number is within the specified range.\n"
          ]
        }
      ]
    },
    {
      "cell_type": "markdown",
      "source": [
        "10.Create a Python program that determines the grade of a student based on their score using if-else.\n"
      ],
      "metadata": {
        "id": "6NJku9laQkk-"
      }
    },
    {
      "cell_type": "code",
      "source": [
        "score = int(input(\"Enter score : \"))\n",
        "\n",
        "if score >= 90:\n",
        "  print(\"A+ Grade\")\n",
        "elif score >= 80 and score < 90:\n",
        "  print(\"A Grade\")\n",
        "elif score >=70 and score <80 :\n",
        "  print(\"B Grade\")\n"
      ],
      "metadata": {
        "colab": {
          "base_uri": "https://localhost:8080/"
        },
        "id": "TqaHQvPPQoGw",
        "outputId": "1317820c-ffc4-4e54-dc14-8ddcca16157f"
      },
      "execution_count": null,
      "outputs": [
        {
          "output_type": "stream",
          "name": "stdout",
          "text": [
            "Enter score : 87\n",
            "A Grade\n"
          ]
        }
      ]
    },
    {
      "cell_type": "markdown",
      "source": [
        "11.Write a Python program to check if a string is empty or not using if-else.\n"
      ],
      "metadata": {
        "id": "QU8Bz2IvgdFw"
      }
    },
    {
      "cell_type": "code",
      "source": [
        "str2= \"mynameissubhra\"\n",
        "\n",
        "if len(str2) == 0:\n",
        "  print(\"String is empty\")\n",
        "else:\n",
        "  print(\"Not Empty\")"
      ],
      "metadata": {
        "colab": {
          "base_uri": "https://localhost:8080/"
        },
        "id": "kteUcsKhgibe",
        "outputId": "4aadbf02-fccb-4397-b869-03de2e19b378"
      },
      "execution_count": null,
      "outputs": [
        {
          "output_type": "stream",
          "name": "stdout",
          "text": [
            "Not Empty\n"
          ]
        }
      ]
    },
    {
      "cell_type": "markdown",
      "source": [
        "12.Create a Python program that identifies the type of a triangle (e.g., equilateral, isosceles, or scalene) based on input values using if-else.\n"
      ],
      "metadata": {
        "id": "VhJ4cKsShtoi"
      }
    },
    {
      "cell_type": "code",
      "source": [
        "AB=int(input(\"Enter side of the triangle : \"))\n",
        "BC=int(input(\"Enter side of the triangle : \"))\n",
        "CA=int(input(\"Enter side of the triangle : \"))\n",
        "\n",
        "if AB == BC == CA:\n",
        "  print(\"It is a equillateral triangle \")\n",
        "elif AB==BC or BC==CA or AB==CA :\n",
        "  print(\"It is a isosceles triangle \")\n",
        "else:\n",
        "  print(\"It is a scalene triangle\")"
      ],
      "metadata": {
        "colab": {
          "base_uri": "https://localhost:8080/"
        },
        "id": "RJeLxKKWhw57",
        "outputId": "0be0edee-ea8c-4f3b-9347-400785746e78"
      },
      "execution_count": null,
      "outputs": [
        {
          "output_type": "stream",
          "name": "stdout",
          "text": [
            "Enter side of the triangle : 1\n",
            "Enter side of the triangle : 5\n",
            "Enter side of the triangle : 7\n",
            "It is a scalene triangle\n"
          ]
        }
      ]
    },
    {
      "cell_type": "markdown",
      "source": [
        "13.Write a Python program to determine the day of the week based on a user-provided number using if-else.\n"
      ],
      "metadata": {
        "id": "9Vql8zAZi68u"
      }
    },
    {
      "cell_type": "code",
      "source": [
        "print(\"Enter day of the week in number :\")\n",
        "\n",
        "print (\"1.Monday , 2. Tuesday ,3.Wednesday , 4. Thursday ,5. Friday ,6. Saturday ,7.Sunday\")\n",
        "\n",
        "day = int(input(\"Enter the day of the week in number : \"))\n",
        "if day == 1:\n",
        "  print(\"Mondaay\")\n",
        "elif day == 2:\n",
        "  print(\"Tuesday\")\n",
        "elif day == 3:\n",
        "  print(\"Wednesday\")\n",
        "elif day == 4:\n",
        "  print(\"Thursday\")\n",
        "elif day == 5:\n",
        "  print(\"Friday\")\n",
        "elif day == 6:\n",
        "  print(\"Saturday\")\n",
        "else:\n",
        "  print(\"Sunday\")\n"
      ],
      "metadata": {
        "colab": {
          "base_uri": "https://localhost:8080/"
        },
        "id": "RqSh5KT1jPSP",
        "outputId": "aa1dd6d1-b112-4b15-a013-3b88baf4bb77"
      },
      "execution_count": null,
      "outputs": [
        {
          "output_type": "stream",
          "name": "stdout",
          "text": [
            "Enter day of the week in number :\n",
            "1.Monday , 2. Tuesday ,3.Wednesday , 4. Thursday ,5. Friday ,6. Saturday ,7.Sunday\n",
            "Enter the day of the week in number : 6\n",
            "Saturday\n"
          ]
        }
      ]
    },
    {
      "cell_type": "markdown",
      "source": [
        "14.Create a Python program that checks if a given year is a leap year using both if-else and a function"
      ],
      "metadata": {
        "id": "8DZHc2N2w9jW"
      }
    },
    {
      "cell_type": "code",
      "source": [
        "year1= int(input(\"Enter the year : \"))\n",
        "if (year1 % 100 ==0):\n",
        "  #print(f\"{year1} is a century year\")\n",
        "  if (year1%400 == 0):\n",
        "    print(f\"{year1} is a leap year\")\n",
        "  else:\n",
        "    print(f\"{year1} is a century year but not a leap year\")\n",
        "else:\n",
        "  #print(\"It is not a century year \")\n",
        "  if (year1%4 == 0):\n",
        "    print(f\"{year1} is a leap year\")\n"
      ],
      "metadata": {
        "colab": {
          "base_uri": "https://localhost:8080/"
        },
        "id": "GCkJYId8xB1U",
        "outputId": "e90b41f6-b1e8-4a32-fe78-4dc44f410f0e"
      },
      "execution_count": null,
      "outputs": [
        {
          "output_type": "stream",
          "name": "stdout",
          "text": [
            "Enter the year : 2000\n",
            "2000 is a leap year\n"
          ]
        }
      ]
    },
    {
      "cell_type": "markdown",
      "source": [
        "15.How do you use the \"assert\" statement in Python to add debugging checks within if-else blocks?\n"
      ],
      "metadata": {
        "id": "U2oJlgWl0HoH"
      }
    },
    {
      "cell_type": "code",
      "source": [],
      "metadata": {
        "id": "2Naz_8t70LUw"
      },
      "execution_count": null,
      "outputs": []
    },
    {
      "cell_type": "markdown",
      "source": [
        "16.Create a Python program that determines the eligibility of a person for a senior citizen discount based on age using if-else.\n"
      ],
      "metadata": {
        "id": "LIN48n3_0ibE"
      }
    },
    {
      "cell_type": "code",
      "source": [
        "person_age= int(input(\"Enter age of the person: \"))\n",
        "\n",
        "if person_age > 60:\n",
        "  print(\"Person is senior citizen discount\")\n",
        "else:\n",
        "  print(\"Person is not elligible for senior citizen discount \")"
      ],
      "metadata": {
        "colab": {
          "base_uri": "https://localhost:8080/"
        },
        "id": "7IyFw6_V0jxx",
        "outputId": "563d5303-224b-4e2f-d407-2912e930e16a"
      },
      "execution_count": null,
      "outputs": [
        {
          "output_type": "stream",
          "name": "stdout",
          "text": [
            "Enter age of the person: 67\n",
            "Person is senior citizen discount\n"
          ]
        }
      ]
    },
    {
      "cell_type": "markdown",
      "source": [
        "17.Write a Python program to categorize a given character as uppercase, lowercase, or neither using if-else.\n"
      ],
      "metadata": {
        "id": "7RrCloGi1jDH"
      }
    },
    {
      "cell_type": "code",
      "source": [
        "ch= input(\"Enter a character : \")\n",
        "\n",
        "if ch.isupper():\n",
        "  print(f\"The charachet {ch} is in upper case\")\n",
        "elif ch.islower():\n",
        "  print(f\"The charachet {ch} is in lower case\")\n",
        "else:\n",
        "  print(f\"Neither upper or lower case\")"
      ],
      "metadata": {
        "colab": {
          "base_uri": "https://localhost:8080/"
        },
        "id": "vpRGJW5O1n7W",
        "outputId": "bd3868eb-e3e6-4349-c27d-aabc3d21bdff"
      },
      "execution_count": null,
      "outputs": [
        {
          "output_type": "stream",
          "name": "stdout",
          "text": [
            "Enter a character : Y\n",
            "The charachet Y is in upper case\n"
          ]
        }
      ]
    },
    {
      "cell_type": "markdown",
      "source": [
        "18.Write a Python program to determine the roots of a quadratic equation using if-else.\n"
      ],
      "metadata": {
        "id": "dQltAZr13Up1"
      }
    },
    {
      "cell_type": "code",
      "source": [],
      "metadata": {
        "id": "eV7-hIuI3cVe"
      },
      "execution_count": null,
      "outputs": []
    },
    {
      "cell_type": "markdown",
      "source": [
        "19.Create a Python program that checks if a given year is a century year or not using if-else."
      ],
      "metadata": {
        "id": "PzgvJc7mhjS8"
      }
    },
    {
      "cell_type": "code",
      "source": [
        "year=int(input(\"Enter a year : \"))\n",
        "\n",
        "if year %100 == 0:\n",
        "  print(f\" The year {year} is a century year\")\n",
        "else:\n",
        "  print(\"It is not a century year \")"
      ],
      "metadata": {
        "colab": {
          "base_uri": "https://localhost:8080/"
        },
        "id": "fkT-1px6hlC-",
        "outputId": "01fb9ddf-aa52-482d-9e45-844181cc1fe8"
      },
      "execution_count": null,
      "outputs": [
        {
          "output_type": "stream",
          "name": "stdout",
          "text": [
            "Enter a year : 500\n",
            " The year 500 is a century year\n"
          ]
        }
      ]
    },
    {
      "cell_type": "markdown",
      "source": [
        "20.Write a Python program to determine if a given number is a perfect square using if-else."
      ],
      "metadata": {
        "id": "aa6uhXPEk9uP"
      }
    },
    {
      "cell_type": "code",
      "source": [
        "num = int(input(\"Enter a number : \"))\n",
        "\n",
        "import math\n",
        "\n",
        "if(num >= 0):\n",
        "  sr = int(math.sqrt(num))\n",
        "  #print(sr)\n",
        "\n",
        "  if ((sr*sr) == num):\n",
        "    print(f\" The number {num} is a perfect square \")\n",
        "  else:\n",
        "    print(f\"The number {num} is not a perfect square \")\n"
      ],
      "metadata": {
        "colab": {
          "base_uri": "https://localhost:8080/"
        },
        "id": "VtFnZlpzk-i_",
        "outputId": "6ebf667c-3c4d-44d1-90e8-9982369d3909"
      },
      "execution_count": null,
      "outputs": [
        {
          "output_type": "stream",
          "name": "stdout",
          "text": [
            "Enter a number : 23\n",
            "The number 23 is not a perfect square \n"
          ]
        }
      ]
    },
    {
      "cell_type": "markdown",
      "source": [
        "21.Explain the purpose of the \"continue\" and \"break\" statements within if-else loops."
      ],
      "metadata": {
        "id": "PoCFefqpmNFK"
      }
    },
    {
      "cell_type": "code",
      "source": [
        "\"\"\"The break statement can be used if you need to break out of a for or while loop and move onto the next section of code.\n",
        "The continue statement can be used if you need to skip the current iteration of a for or while loop and move onto the next iteration.\"\"\"\n",
        "\n",
        "\n",
        "\n",
        "\"\"\"Example of break --it stops the loop..breaks the loop\"\"\"\n",
        "\n",
        "for letter in 'Python':\n",
        "   if letter == 'h':\n",
        "      break\n",
        "   print(\" Current Letter \", letter)"
      ],
      "metadata": {
        "colab": {
          "base_uri": "https://localhost:8080/"
        },
        "id": "4uFXQmIBmOAM",
        "outputId": "c78ab086-348c-4b33-9728-b06e22818b76"
      },
      "execution_count": null,
      "outputs": [
        {
          "output_type": "stream",
          "name": "stdout",
          "text": [
            " Current Letter  P\n",
            " Current Letter  y\n",
            " Current Letter  t\n"
          ]
        }
      ]
    },
    {
      "cell_type": "code",
      "source": [
        "\n",
        "\"\"\"Example of continue ---it skips that letter\"\"\"\n",
        "\n",
        "for letter in 'Python':\n",
        "   if letter == 'h':\n",
        "      continue\n",
        "   print(\" Current Letter \", letter)"
      ],
      "metadata": {
        "colab": {
          "base_uri": "https://localhost:8080/"
        },
        "id": "G3nkHvxbnGLf",
        "outputId": "dbb07486-fb0f-4ecc-f93c-b30ef16e58a2"
      },
      "execution_count": null,
      "outputs": [
        {
          "output_type": "stream",
          "name": "stdout",
          "text": [
            " Current Letter  P\n",
            " Current Letter  y\n",
            " Current Letter  t\n",
            " Current Letter  o\n",
            " Current Letter  n\n"
          ]
        }
      ]
    },
    {
      "cell_type": "code",
      "source": [
        "\n",
        "\"\"\"Example of pass --it does nothing\"\"\"\n",
        "\n",
        "for letter in 'Python':\n",
        "   if letter == 'h':\n",
        "      pass\n",
        "   print(\" Current Letter \", letter)"
      ],
      "metadata": {
        "colab": {
          "base_uri": "https://localhost:8080/"
        },
        "id": "ITTkgvmSnP4Y",
        "outputId": "729141c2-c83a-4624-eed6-fb53d332c829"
      },
      "execution_count": null,
      "outputs": [
        {
          "output_type": "stream",
          "name": "stdout",
          "text": [
            " Current Letter  P\n",
            " Current Letter  y\n",
            " Current Letter  t\n",
            " Current Letter  h\n",
            " Current Letter  o\n",
            " Current Letter  n\n"
          ]
        }
      ]
    },
    {
      "cell_type": "markdown",
      "source": [
        "22. Create a Python program that calculates the BMI (Body Mass Index) of a person based on their weight and height using if-else."
      ],
      "metadata": {
        "id": "i6qDKSesnpOU"
      }
    },
    {
      "cell_type": "code",
      "source": [
        "weight=int(input(\"Enter Weight: \"))\n",
        "height=float(input(\"Enter Height : \"))\n",
        "BMI=weight/height**2\n",
        "\n",
        "if BMI<18.5:\n",
        "   print(\"Underweight\")\n",
        "elif BMI>=18.5 and BMI<25:\n",
        "  print(\"Normal\")\n",
        "elif BMI>=25 and BMI<30:\n",
        "  print(\"Overweight\")\n",
        "else:\n",
        "  print(\"Obeise\")"
      ],
      "metadata": {
        "colab": {
          "base_uri": "https://localhost:8080/"
        },
        "id": "0GT0CWV0nqCP",
        "outputId": "ca6ce55c-21f8-471e-d2d7-6dd35140f3b1"
      },
      "execution_count": null,
      "outputs": [
        {
          "output_type": "stream",
          "name": "stdout",
          "text": [
            "Enter Weight: 51\n",
            "Enter Height : 134\n",
            "Underweight\n"
          ]
        }
      ]
    },
    {
      "cell_type": "markdown",
      "source": [],
      "metadata": {
        "id": "VD7yZ6JQhlkY"
      }
    },
    {
      "cell_type": "markdown",
      "source": [
        "\n",
        "\n",
        "\n",
        "\n",
        "\n",
        "\n",
        "23.How can you use the \"filter()\" function with if-else statements to filter elements from a list?\n",
        "\n"
      ],
      "metadata": {
        "id": "o4Gp3Da1hg5n"
      }
    },
    {
      "cell_type": "code",
      "source": [
        "\"\"\"The filter() method filters the given sequence with the help of a function that tests each element in the sequence to be true or not. \"\"\"\n",
        "\n",
        "list5 = ['g', 'e', 'e', 'j', 'k', 's', 'p', 'r']\n",
        "\n",
        "#lets filter the vowels\n",
        "\n",
        "vowels = ['a', 'e', 'i', 'o', 'u']\n",
        "\n",
        "def fun(ch):\n",
        "    if ch in vowels:\n",
        "      return True\n",
        "    else:\n",
        "      return False\n",
        "\n",
        "list(filter(fun,list5))\n",
        "#filter gets those elements only which are true\n",
        "#output :['e', 'e']\n",
        "\n",
        "\n",
        "#list(filter(lambda ch:ch in vowels,list5))\n",
        "#output: ['e', 'e']\n",
        "\n",
        "#list(map(lambda ch:ch in vowels,list5))\n",
        "#output: [False, True, True, False, False, False, False, False]"
      ],
      "metadata": {
        "colab": {
          "base_uri": "https://localhost:8080/"
        },
        "id": "1r0j_ZoxoYYz",
        "outputId": "e090c5c2-d810-4cfb-9560-f11c8a738aad"
      },
      "execution_count": null,
      "outputs": [
        {
          "output_type": "execute_result",
          "data": {
            "text/plain": [
              "['e', 'e']"
            ]
          },
          "metadata": {},
          "execution_count": 39
        }
      ]
    },
    {
      "cell_type": "markdown",
      "source": [
        "\n",
        "24.Write a Python program to determine if a given number is prime or not using if-else.\n"
      ],
      "metadata": {
        "id": "20d-u9_Yh6Px"
      }
    },
    {
      "cell_type": "code",
      "source": [
        "num =int(input(\"Enter a number: \"))\n",
        "\n",
        "count=0\n",
        "for i in range(1,round(num/2)+1):\n",
        "  if num % i == 0:\n",
        "    count=count+1\n",
        "if count> 2:\n",
        "  print(\"Not prime\")\n",
        "else:\n",
        "  print(\"prime\")"
      ],
      "metadata": {
        "colab": {
          "base_uri": "https://localhost:8080/"
        },
        "id": "StdBnKpKh693",
        "outputId": "7c1e6d80-ba3a-44f2-848f-fbfd40686e1b"
      },
      "execution_count": null,
      "outputs": [
        {
          "output_type": "stream",
          "name": "stdout",
          "text": [
            "Enter a number: 7\n",
            "prime\n"
          ]
        }
      ]
    },
    {
      "cell_type": "markdown",
      "source": [
        "MAP"
      ],
      "metadata": {
        "id": "_8hnLsw8tTN9"
      }
    },
    {
      "cell_type": "markdown",
      "source": [
        "1.Explain the purpose of the `map()` function in Python and provide an example of how it can be used to apply a function to each element of an iterable."
      ],
      "metadata": {
        "id": "tFxWBpq_tUUW"
      }
    },
    {
      "cell_type": "code",
      "source": [
        "def even_or_odd(num):\n",
        "  if num%2 == 0:\n",
        "    return (\"The number {} is even\".format(num))\n",
        "  else:\n",
        "    return (\"The number {} is odd\".format(num))\n",
        "\n",
        "list7=[34,5,7,12,23,77,99,43,67,88]\n",
        "\n",
        "#map function helps in applying the function to each element of the list\n",
        "#it takes two argument: 1. function 2. iterator(list)\n",
        "\n",
        "\n",
        "list(map(even_or_odd,list7))\n",
        "\n"
      ],
      "metadata": {
        "colab": {
          "base_uri": "https://localhost:8080/"
        },
        "id": "b3iV15IdtXQf",
        "outputId": "236629d8-12f6-44f2-c001-a39ab8ce1af4"
      },
      "execution_count": null,
      "outputs": [
        {
          "output_type": "execute_result",
          "data": {
            "text/plain": [
              "['The number 34 is even',\n",
              " 'The number 5 is odd',\n",
              " 'The number 7 is odd',\n",
              " 'The number 12 is even',\n",
              " 'The number 23 is odd',\n",
              " 'The number 77 is odd',\n",
              " 'The number 99 is odd',\n",
              " 'The number 43 is odd',\n",
              " 'The number 67 is odd',\n",
              " 'The number 88 is even']"
            ]
          },
          "metadata": {},
          "execution_count": 54
        }
      ]
    },
    {
      "cell_type": "markdown",
      "source": [
        "2.Write a Python program that uses the `map()` function to square each element of a list of numbers."
      ],
      "metadata": {
        "id": "KpFApXL5tbsF"
      }
    },
    {
      "cell_type": "code",
      "source": [
        "def square_num(num):\n",
        "  squarenum = num*num\n",
        "  return squarenum\n",
        "\n",
        "list8= [1,2,3,4,5,6,7,8,9,10,11,12,13,14,15,16,17,18,19]\n",
        "\n",
        "list(map(square_num,list8))"
      ],
      "metadata": {
        "colab": {
          "base_uri": "https://localhost:8080/"
        },
        "id": "icJAdhH8tdBH",
        "outputId": "8e4b19b6-52e9-4bbc-9558-e4c895c8934f"
      },
      "execution_count": null,
      "outputs": [
        {
          "output_type": "execute_result",
          "data": {
            "text/plain": [
              "[1,\n",
              " 4,\n",
              " 9,\n",
              " 16,\n",
              " 25,\n",
              " 36,\n",
              " 49,\n",
              " 64,\n",
              " 81,\n",
              " 100,\n",
              " 121,\n",
              " 144,\n",
              " 169,\n",
              " 196,\n",
              " 225,\n",
              " 256,\n",
              " 289,\n",
              " 324,\n",
              " 361]"
            ]
          },
          "metadata": {},
          "execution_count": 52
        }
      ]
    },
    {
      "cell_type": "markdown",
      "source": [
        "3.How does the `map()` function differ from a list comprehension in Python, and when would you choose one over the other?"
      ],
      "metadata": {
        "id": "3g2Mw70wtfLn"
      }
    },
    {
      "cell_type": "code",
      "source": [
        "list5=[1,2,3,4,5]\n",
        "\n",
        "#find the square of each element\n",
        "#by normal for loop\n",
        "squared_list =[]\n",
        "for x in list5:\n",
        "  square_num = x * x\n",
        "  squared_list.append(square_num)\n",
        "#print(squared_list)\n",
        "\n",
        "#******************************************\n",
        "\n",
        "#using list comprehension\n",
        "\n",
        "squared_list1=[ x * x for x in list5]\n",
        "\n",
        "#print(squared_list1)\n",
        "\n",
        "#****************************************\n",
        "#using map function\n",
        "\n",
        "def square_num(num):\n",
        "  squarenum= num *num\n",
        "  return squarenum\n",
        "\n",
        "list(map(square_num,list5))\n",
        "#*****************************************\n",
        "#single expression function you can write in lambda function\n",
        "#using lambda (function with no name)\n",
        "\"\"\"\n",
        "\n",
        "squarenum = lambda num : num * num\n",
        "squarenum(6)\n",
        "\"\"\"\n",
        "\n",
        "list(map(lambda num : num * num,list5))"
      ],
      "metadata": {
        "colab": {
          "base_uri": "https://localhost:8080/"
        },
        "id": "NL1DsLqPtgZt",
        "outputId": "879e3e2e-b30c-4f08-bb1e-4b5a3476b7f3"
      },
      "execution_count": null,
      "outputs": [
        {
          "output_type": "execute_result",
          "data": {
            "text/plain": [
              "[1, 4, 9, 16, 25]"
            ]
          },
          "metadata": {},
          "execution_count": 65
        }
      ]
    },
    {
      "cell_type": "markdown",
      "source": [
        "4.Create a Python program that uses the `map()` function to convert a list of names to uppercase."
      ],
      "metadata": {
        "id": "TbxyAWtftihs"
      }
    },
    {
      "cell_type": "code",
      "source": [
        "list6=['subhra','sarmistha','samir','subhendu','subhranginee','arindam','shivali']\n",
        "\n",
        "def uppercase(name):\n",
        "  name1=name.upper()\n",
        "  return name1\n",
        "\n",
        "list(map(uppercase,list6))\n",
        "\n",
        "#using lambda function\n",
        "#list(map(lambda name: name.upper(),list6))"
      ],
      "metadata": {
        "colab": {
          "base_uri": "https://localhost:8080/"
        },
        "id": "W3UmzL7Gtjsz",
        "outputId": "85c02070-84ff-4a55-ef32-e2be902e8f9d"
      },
      "execution_count": null,
      "outputs": [
        {
          "output_type": "execute_result",
          "data": {
            "text/plain": [
              "['SUBHRA',\n",
              " 'SARMISTHA',\n",
              " 'SAMIR',\n",
              " 'SUBHENDU',\n",
              " 'SUBHRANGINEE',\n",
              " 'ARINDAM',\n",
              " 'SHIVALI']"
            ]
          },
          "metadata": {},
          "execution_count": 71
        }
      ]
    },
    {
      "cell_type": "markdown",
      "source": [
        "5.Write a Python program that uses the `map()` function to calculate the length of each word in a list of strings."
      ],
      "metadata": {
        "id": "z5SD_cEjtkJk"
      }
    },
    {
      "cell_type": "code",
      "source": [
        "def len_word(word):\n",
        "  word_len= len(word)\n",
        "  return word_len\n",
        "\n",
        "list7=['subhra','sarmistha','samir','subhendu','subhranginee','arindam','shivali']\n",
        "\n",
        "list(map(len_word,list7))\n",
        "\n",
        "#using lambda\n",
        "#list(map(lambda word : len(word),list7))\n"
      ],
      "metadata": {
        "colab": {
          "base_uri": "https://localhost:8080/"
        },
        "id": "hAxBPNm4tm_I",
        "outputId": "2b8fe39f-dfeb-461a-d279-335fc2b937f4"
      },
      "execution_count": null,
      "outputs": [
        {
          "output_type": "execute_result",
          "data": {
            "text/plain": [
              "[6, 9, 5, 8, 12, 7, 7]"
            ]
          },
          "metadata": {},
          "execution_count": 75
        }
      ]
    },
    {
      "cell_type": "markdown",
      "source": [
        "6.How can you use the `map()` function to apply a custom function to elements of multiple lists simultaneously in Python?"
      ],
      "metadata": {
        "id": "pgviO2lUtpC0"
      }
    },
    {
      "cell_type": "code",
      "source": [
        "def len_word(word):\n",
        "  word_len= len(word)\n",
        "  return word_len\n",
        "\n",
        "list7=['subhra','sarmistha','samir','subhendu','subhranginee','arindam','shivali']\n",
        "list8=[\"apple\",\"banana\"]\n",
        "x = zip(list7,list8)\n",
        "print(list(x))\n",
        "list(map(len_word,list(x)))\n",
        "\n",
        "\n",
        "# how to use zip() doubt"
      ],
      "metadata": {
        "colab": {
          "base_uri": "https://localhost:8080/"
        },
        "id": "Ojk6UTZhtqLr",
        "outputId": "92a8dab7-f874-4dbe-9516-1b67004d2866"
      },
      "execution_count": null,
      "outputs": [
        {
          "output_type": "stream",
          "name": "stdout",
          "text": [
            "[('subhra', 'apple'), ('sarmistha', 'banana')]\n"
          ]
        },
        {
          "output_type": "execute_result",
          "data": {
            "text/plain": [
              "[]"
            ]
          },
          "metadata": {},
          "execution_count": 78
        }
      ]
    },
    {
      "cell_type": "markdown",
      "source": [
        "7.Create a Python program that uses `map()` to convert a list of temperatures from Celsius to Fahrenheit."
      ],
      "metadata": {
        "id": "k-tF3xGVtqpb"
      }
    },
    {
      "cell_type": "code",
      "source": [
        "def convertCtoF(temp):\n",
        "\n",
        "    fahrenheit = (1.8 * temp) + 32.\n",
        "    print(\"Temperature in Fahrenheit :\", fahrenheit)\n",
        "    return fahrenheit\n",
        "\n",
        "\n",
        "\n",
        "list9=[0,32,100,45]\n",
        "\n",
        "list(map(convertCtoF,list9))\n",
        "\n"
      ],
      "metadata": {
        "colab": {
          "base_uri": "https://localhost:8080/"
        },
        "id": "GaBw2jAQttMX",
        "outputId": "23cf6254-54cf-4757-f950-66c1c52673e3"
      },
      "execution_count": null,
      "outputs": [
        {
          "output_type": "stream",
          "name": "stdout",
          "text": [
            "Temperature in Fahrenheit : 32.0\n",
            "Temperature in Fahrenheit : 89.6\n",
            "Temperature in Fahrenheit : 212.0\n",
            "Temperature in Fahrenheit : 113.0\n"
          ]
        },
        {
          "output_type": "execute_result",
          "data": {
            "text/plain": [
              "[32.0, 89.6, 212.0, 113.0]"
            ]
          },
          "metadata": {},
          "execution_count": 80
        }
      ]
    },
    {
      "cell_type": "markdown",
      "source": [
        "8.Write a Python program that uses the `map()` function to round each element of a list of floating-point numbers to the nearest integer."
      ],
      "metadata": {
        "id": "AQ8Nrrr4tth3"
      }
    },
    {
      "cell_type": "code",
      "source": [
        "def round_each(num):\n",
        "\n",
        "    return round(num)\n",
        "\n",
        "\n",
        "list9=[0.34,32.45,100.67,45.87]\n",
        "\n",
        "list(map(round_each,list9))\n"
      ],
      "metadata": {
        "colab": {
          "base_uri": "https://localhost:8080/"
        },
        "id": "NapjaLk6twLo",
        "outputId": "3b7aa94d-25a4-4b57-b666-b564be0ccf40"
      },
      "execution_count": null,
      "outputs": [
        {
          "output_type": "execute_result",
          "data": {
            "text/plain": [
              "[0, 32, 101, 46]"
            ]
          },
          "metadata": {},
          "execution_count": 86
        }
      ]
    },
    {
      "cell_type": "markdown",
      "source": [
        "Reduce"
      ],
      "metadata": {
        "id": "meN6ZiOPNbMl"
      }
    },
    {
      "cell_type": "markdown",
      "source": [
        "\n",
        "\n",
        "What is the `reduce()` function in Python, and what module should you import to use it? Provide an example of its basic usage."
      ],
      "metadata": {
        "id": "wGqxgsHHNl8U"
      }
    },
    {
      "cell_type": "code",
      "source": [
        "\"\"\"\n",
        "The reduce(fun,seq) function is used to apply a particular function passed in its argument to all of the list elements mentioned in\n",
        "the sequence passed along.This function is defined in “functools” module.\n",
        "\"\"\"\n",
        "\n",
        "import functools\n",
        "\n",
        "lis = [1, 3, 5, 6, 2]\n",
        "\n",
        "#find the sum of elements in the list\n",
        "\n",
        "print(functools.reduce(lambda a, b: a+b, lis))"
      ],
      "metadata": {
        "colab": {
          "base_uri": "https://localhost:8080/"
        },
        "id": "P5Fgg6eLNnAe",
        "outputId": "d49aeccd-9d3a-4361-9a2d-2eda5619a258"
      },
      "execution_count": null,
      "outputs": [
        {
          "output_type": "stream",
          "name": "stdout",
          "text": [
            "17\n"
          ]
        }
      ]
    },
    {
      "cell_type": "markdown",
      "source": [
        "Write a Python program that uses the `reduce()` function to find the product of all elements in a list."
      ],
      "metadata": {
        "id": "NmV-h6YoO2zH"
      }
    },
    {
      "cell_type": "code",
      "source": [
        "import functools\n",
        "list1=[1,2,3,4,5,6,7,8,9,10]\n",
        "\n",
        "print(functools.reduce(lambda a,b : a*b ,list1))\n"
      ],
      "metadata": {
        "colab": {
          "base_uri": "https://localhost:8080/"
        },
        "id": "6OguFpPyO4ro",
        "outputId": "05975147-9e01-4e80-9b3b-6eb8aa3d4fd6"
      },
      "execution_count": null,
      "outputs": [
        {
          "output_type": "stream",
          "name": "stdout",
          "text": [
            "3628800\n"
          ]
        }
      ]
    },
    {
      "cell_type": "markdown",
      "source": [
        "Create a Python program that uses reduce() to find the maximum element in a list of numbers."
      ],
      "metadata": {
        "id": "jr3i4sBLPH7f"
      }
    },
    {
      "cell_type": "code",
      "source": [
        "import functools\n",
        "\n",
        "list1 =[34,56,23,45,678,2445,2345,223,455,6666,22334]\n",
        "\n",
        "#to find the max element\n",
        "print(functools.reduce(lambda a,b : a if a >b else b,list1))"
      ],
      "metadata": {
        "colab": {
          "base_uri": "https://localhost:8080/"
        },
        "id": "mu1mkKYnPLCM",
        "outputId": "71b155b6-56ce-4e79-e534-51e9048cb1b3"
      },
      "execution_count": null,
      "outputs": [
        {
          "output_type": "stream",
          "name": "stdout",
          "text": [
            "22334\n"
          ]
        }
      ]
    },
    {
      "cell_type": "markdown",
      "source": [
        "\n",
        "How can you use the `reduce()` function to concatenate a list of strings into a single string?"
      ],
      "metadata": {
        "id": "FiBBlF2kOytT"
      }
    },
    {
      "cell_type": "code",
      "source": [
        "import functools\n",
        "\n",
        "list2=[\"hello\",\"What\", \" \",\"is\",\"your\",\"name\"]\n",
        "\n",
        "\n",
        "print(functools.reduce(lambda a,b : a + b,list2))"
      ],
      "metadata": {
        "colab": {
          "base_uri": "https://localhost:8080/"
        },
        "id": "GxfH5OyIPuZq",
        "outputId": "0e6ed1e9-c2f3-4e96-f449-3185ffb8f7ad"
      },
      "execution_count": null,
      "outputs": [
        {
          "output_type": "stream",
          "name": "stdout",
          "text": [
            "helloWhat isyourname\n"
          ]
        }
      ]
    },
    {
      "cell_type": "markdown",
      "source": [
        "\n",
        "\n",
        "Write a Python program that calculates the factorial of a number using the `reduce()` function.\n"
      ],
      "metadata": {
        "id": "Xkh-FFcbQHOh"
      }
    },
    {
      "cell_type": "code",
      "source": [
        "import functools\n",
        "num=int(input(\"Enter a number : \"))\n",
        "\n",
        "\n",
        "def fact_num(num):\n",
        "  if num < 1:\n",
        "    return 1\n",
        "  else:\n",
        "    return num * fact_num(num-1)\n",
        "\n",
        "#doubt\n",
        "\n"
      ],
      "metadata": {
        "colab": {
          "base_uri": "https://localhost:8080/"
        },
        "id": "-h0wpy5QQKG4",
        "outputId": "215ad3a1-96a6-41e9-a0d0-6ce9378f3727"
      },
      "execution_count": null,
      "outputs": [
        {
          "name": "stdout",
          "output_type": "stream",
          "text": [
            "Enter a number : 6\n"
          ]
        }
      ]
    },
    {
      "cell_type": "markdown",
      "source": [
        "\n",
        "\n",
        "\n",
        "Create a Python program that uses `reduce()` to find the GCD (Greatest Common Divisor) of a list of numbers.\n"
      ],
      "metadata": {
        "id": "-LjSOg69SUH7"
      }
    },
    {
      "cell_type": "code",
      "source": [
        "from functools import reduce\n",
        "import math\n",
        "\n",
        "# Define a function to find the GCD of two numbers\n",
        "def find_gcd(x, y):\n",
        "    return math.gcd(x, y)\n",
        "\n",
        "# Input list of numbers\n",
        "numbers = [12, 18, 24, 36]\n",
        "\n",
        "# Use reduce to find the GCD of the list of numbers\n",
        "gcd_result = reduce(find_gcd, numbers)\n",
        "\n",
        "# Print the GCD\n",
        "print(f\"The GCD of {numbers} is {gcd_result}\")"
      ],
      "metadata": {
        "colab": {
          "base_uri": "https://localhost:8080/"
        },
        "id": "o9Z57dARxZQn",
        "outputId": "1116571a-201e-4951-a196-21f6918cbc53"
      },
      "execution_count": null,
      "outputs": [
        {
          "output_type": "stream",
          "name": "stdout",
          "text": [
            "The GCD of [12, 18, 24, 36] is 6\n"
          ]
        }
      ]
    },
    {
      "cell_type": "code",
      "source": [
        "import functools\n",
        "\n",
        "list10=[24,28,20]\n",
        "print(f\"The GCD of {list10} is : \")\n",
        "print(functools.reduce(lambda a, b: math.gcd(a, b), list10))\n"
      ],
      "metadata": {
        "colab": {
          "base_uri": "https://localhost:8080/"
        },
        "id": "jaQrVxUkSUrE",
        "outputId": "0fec5ce8-de2d-4c78-c27b-d1bdd96180a4"
      },
      "execution_count": null,
      "outputs": [
        {
          "output_type": "stream",
          "name": "stdout",
          "text": [
            "The GCD of [24, 28, 20] is : \n",
            "4\n"
          ]
        }
      ]
    },
    {
      "cell_type": "markdown",
      "source": [
        "\n",
        "\n",
        "\n",
        "\n",
        "\n",
        "\n",
        "\n",
        "\n",
        "\n",
        "\n",
        "\n",
        "\n",
        "\n",
        "Write a Python program that uses the `reduce()` function to find the sum of the digits of a given number.\n"
      ],
      "metadata": {
        "id": "ni-SUlCnNceB"
      }
    },
    {
      "cell_type": "code",
      "source": [
        "import functools\n",
        "\n",
        "lis = [1, 3, 5, 6, 2]\n",
        "\n",
        "#find the sum of elements in the list\n",
        "\n",
        "print(functools.reduce(lambda a, b: a+b, lis))"
      ],
      "metadata": {
        "colab": {
          "base_uri": "https://localhost:8080/"
        },
        "id": "1QAAJQ1GSQce",
        "outputId": "a9b77830-767c-4781-f251-bd02fb5f2018"
      },
      "execution_count": null,
      "outputs": [
        {
          "output_type": "stream",
          "name": "stdout",
          "text": [
            "17\n"
          ]
        }
      ]
    },
    {
      "cell_type": "markdown",
      "source": [
        "Filter :-"
      ],
      "metadata": {
        "id": "ogkiEv2ZT_Bs"
      }
    },
    {
      "cell_type": "markdown",
      "source": [
        "Explain the purpose of the `filter()` function in Python and provide an example of how it can be used to filter elements from an iterable."
      ],
      "metadata": {
        "id": "Ln8qmjfXr5lV"
      }
    },
    {
      "cell_type": "code",
      "source": [
        "#filter() allows you to process an iterable and extract those items that satisfy a given condition.\n",
        "list5 = [-2, -1, 0, 1, 2]\n",
        "\n",
        "def positive_numbers(num):\n",
        "  if num > 0:\n",
        "    return True\n",
        "\n",
        "list(filter(positive_numbers,list5))\n",
        "\n",
        "#function should return true --those items will be filtered and printed"
      ],
      "metadata": {
        "colab": {
          "base_uri": "https://localhost:8080/"
        },
        "id": "Y5rfSV8vr6UH",
        "outputId": "617ad125-d173-490b-d7d2-1c79013b54d4"
      },
      "execution_count": null,
      "outputs": [
        {
          "output_type": "execute_result",
          "data": {
            "text/plain": [
              "[1, 2]"
            ]
          },
          "metadata": {},
          "execution_count": 105
        }
      ]
    },
    {
      "cell_type": "markdown",
      "source": [
        "\n",
        "Write a Python program that uses the `filter()` function to select even numbers from a list of integers.\n"
      ],
      "metadata": {
        "id": "VAiogETRvL7n"
      }
    },
    {
      "cell_type": "code",
      "source": [
        "list5 = [-2, -1, 0, 1, 2,8,88,54,236]\n",
        "\n",
        "def even_numbers(num):\n",
        "  if num % 2 == 0:\n",
        "    return True\n",
        "\n",
        "list(filter(even_numbers,list5))\n"
      ],
      "metadata": {
        "colab": {
          "base_uri": "https://localhost:8080/"
        },
        "id": "FmHmceCOvNtO",
        "outputId": "b6a3becd-f2e1-458b-b87a-6c61202dfd6e"
      },
      "execution_count": null,
      "outputs": [
        {
          "output_type": "execute_result",
          "data": {
            "text/plain": [
              "[-2, 0, 2, 8, 88, 54, 236]"
            ]
          },
          "metadata": {},
          "execution_count": 11
        }
      ]
    },
    {
      "cell_type": "markdown",
      "source": [
        "\n",
        "Create a Python program that uses the `filter()` function to select names that start with a specific letter from a list of strings."
      ],
      "metadata": {
        "id": "bDvwZ-EZvdAi"
      }
    },
    {
      "cell_type": "code",
      "source": [
        "test_list = ['Akash', 'Nikhil', 'Manjeet', 'akshat']\n",
        "\n",
        "\n",
        "check = 'A'\n",
        "\n",
        "res = list(filter(lambda x: x[0].lower() == check.lower(), test_list))\n",
        "\n",
        "res"
      ],
      "metadata": {
        "colab": {
          "base_uri": "https://localhost:8080/"
        },
        "id": "waHuJGGhvdrY",
        "outputId": "a59ba2fb-0bd7-4e15-a637-4cb99eb956c9"
      },
      "execution_count": null,
      "outputs": [
        {
          "output_type": "execute_result",
          "data": {
            "text/plain": [
              "['Akash', 'akshat']"
            ]
          },
          "metadata": {},
          "execution_count": 112
        }
      ]
    },
    {
      "cell_type": "markdown",
      "source": [
        "Write a Python program that uses the `filter()` function to select prime numbers from a list of integers."
      ],
      "metadata": {
        "id": "INHkdF5exS43"
      }
    },
    {
      "cell_type": "code",
      "source": [
        "list9=[2,3,4,5,6,7,89,91,111,119]\n",
        "\n",
        "def check_prime(num):\n",
        "  factors=0\n",
        "  for i in range(1,num+1):\n",
        "    if num % i == 0:\n",
        "      factors= factors+1\n",
        "\n",
        "  if factors<=2:\n",
        "    return True\n",
        "\n",
        "#both are correct\n",
        "#if you start from 2, you are excluding 1 and the num(factors)\n",
        "\n",
        "import math\n",
        "def checkPrime_efficient(num):\n",
        "  factors1=0\n",
        "  for i in range(2,round(math.sqrt(num))+1):\n",
        "    if num % i == 0:\n",
        "      factors1= factors1+1\n",
        "      break\n",
        "  if factors1 == 0:\n",
        "    return True\n",
        "\n",
        "\n",
        "\n",
        "#list(filter(checkPrime_efficient,list9))\n",
        "\n",
        "list(filter(check_prime,list9))"
      ],
      "metadata": {
        "colab": {
          "base_uri": "https://localhost:8080/"
        },
        "id": "rizCDh0GxWXw",
        "outputId": "59ab3ee0-3766-4ef2-a3e0-c83e8398423d"
      },
      "execution_count": null,
      "outputs": [
        {
          "output_type": "execute_result",
          "data": {
            "text/plain": [
              "[2, 3, 5, 7, 89]"
            ]
          },
          "metadata": {},
          "execution_count": 57
        }
      ]
    },
    {
      "cell_type": "markdown",
      "source": [
        "\n",
        "How can you use the `filter()` function to remove None values from a list in Python?\n"
      ],
      "metadata": {
        "id": "jjdWxwdUg6xl"
      }
    },
    {
      "cell_type": "code",
      "source": [
        "list9=[\"None\",\"subhra\",\"samita\",\"None\"]\n",
        "new_list=[]\n",
        "def remove_None(str):\n",
        "  if str != \"None\":\n",
        "    return True\n",
        "\n",
        "list(filter(remove_None,list9))"
      ],
      "metadata": {
        "colab": {
          "base_uri": "https://localhost:8080/"
        },
        "id": "ySQ34ytPg7YG",
        "outputId": "194219f4-0f51-46b9-d9cb-0d5b54721012"
      },
      "execution_count": null,
      "outputs": [
        {
          "output_type": "execute_result",
          "data": {
            "text/plain": [
              "['subhra', 'samita']"
            ]
          },
          "metadata": {},
          "execution_count": 31
        }
      ]
    },
    {
      "cell_type": "markdown",
      "source": [
        "\n",
        "Create a Python program that uses `filter()` to select words longer than a certain length from a list of strings.\n"
      ],
      "metadata": {
        "id": "1r2XprftUB0h"
      }
    },
    {
      "cell_type": "code",
      "source": [
        "list10=[\"apple\",\"banana\",\"carrot\",\"beans\"]\n",
        "new_list=[]\n",
        "def check_length(str):\n",
        "  if len(str) > 5:\n",
        "    return True\n",
        "\n",
        "list(filter(check_length,list10))\n",
        "\n"
      ],
      "metadata": {
        "colab": {
          "base_uri": "https://localhost:8080/"
        },
        "id": "E3d-_b7kg6Kg",
        "outputId": "e3214556-f221-4818-b73c-d4ccf2d761d9"
      },
      "execution_count": null,
      "outputs": [
        {
          "output_type": "execute_result",
          "data": {
            "text/plain": [
              "['banana', 'carrot']"
            ]
          },
          "metadata": {},
          "execution_count": 70
        }
      ]
    },
    {
      "cell_type": "markdown",
      "source": [
        "Write a Python program that uses the `filter()` function to select elements greater than a specified threshold from a list of values.\n"
      ],
      "metadata": {
        "id": "q57C0dW80XBi"
      }
    },
    {
      "cell_type": "code",
      "source": [
        "list10=[300,243,453,123,133,55,334]\n",
        "\n",
        "def greater_threshhold(num):\n",
        "  if num > 250:\n",
        "    return True\n",
        "\n",
        "list(filter(greater_threshhold,list10))"
      ],
      "metadata": {
        "colab": {
          "base_uri": "https://localhost:8080/"
        },
        "id": "FDhpRU3U0XuO",
        "outputId": "bdd27520-8636-47e4-c304-b4c7d23784b6"
      },
      "execution_count": null,
      "outputs": [
        {
          "output_type": "execute_result",
          "data": {
            "text/plain": [
              "[300, 453, 334]"
            ]
          },
          "metadata": {},
          "execution_count": 72
        }
      ]
    },
    {
      "cell_type": "markdown",
      "source": [
        "Recursion:-\n"
      ],
      "metadata": {
        "id": "DYnUEePA1ujx"
      }
    },
    {
      "cell_type": "markdown",
      "source": [
        "Explain the concept of recursion in Python. How does it differ from iteration?\n"
      ],
      "metadata": {
        "id": "nUZuHLdv12B8"
      }
    },
    {
      "cell_type": "code",
      "source": [
        "\"\"\"Recursion is a technique in which the function calls itself in its body to solve the problem,\n",
        "typically breaking into smaller and more manageable sub-problems. \"\"\"\n",
        "\n",
        "\"\"\"In contrast, Iteration is a technique that repetitively executes a code block until the condition is unmet.\"\"\"\n",
        "\n",
        "\n",
        "\n",
        "\"\"\"\n",
        "\n",
        "The main difference between these two is that in recursion,we use function calls to execute the statements repeatedly inside the function body,\n",
        "\n",
        "  while in iteration, we use loops like “for” and “while” to do the same.\n",
        "\n",
        "\"\"\""
      ],
      "metadata": {
        "id": "f5q665m_14ru"
      },
      "execution_count": null,
      "outputs": []
    },
    {
      "cell_type": "markdown",
      "source": [
        "2.Write a Python program to calculate the factorial of a number using recursion.\n"
      ],
      "metadata": {
        "id": "g4cLwUEV23z-"
      }
    },
    {
      "cell_type": "code",
      "source": [
        "#5! = 5 * 4 *3 *2 *1\n",
        "\n",
        "def fact_num(num):\n",
        "  if num <= 0 :\n",
        "    return 1\n",
        "  else:\n",
        "    return num * fact_num(num-1)\n",
        "\n",
        "fact_num(5)"
      ],
      "metadata": {
        "colab": {
          "base_uri": "https://localhost:8080/"
        },
        "id": "WD7mtSon27lr",
        "outputId": "5227718b-9c9a-42d7-b045-4da3c97a9987"
      },
      "execution_count": null,
      "outputs": [
        {
          "output_type": "execute_result",
          "data": {
            "text/plain": [
              "120"
            ]
          },
          "metadata": {},
          "execution_count": 2
        }
      ]
    },
    {
      "cell_type": "markdown",
      "source": [
        "3.Create a recursive Python function to find the nth Fibonacci number.\n"
      ],
      "metadata": {
        "id": "aCRpcP1o3Dyh"
      }
    },
    {
      "cell_type": "code",
      "source": [
        "# 0 1 1 2 3 5 8 13 21 ...\n",
        "# 1st num + 2nd num = 3rd num\n",
        "\n",
        "#find the nth fibonacee number\n",
        "\n",
        "\n",
        "def fib(n):\n",
        "    if n<=1:\n",
        "        return n\n",
        "    else :\n",
        "        return fib(n-2) + fib(n-1)\n",
        "\n",
        "print(fib(5))\n",
        "\n",
        "\n",
        "def Fibonacci(n):\n",
        "    if n<= 0:\n",
        "        print(\"Incorrect input\")\n",
        "    # First Fibonacci number is 0\n",
        "    elif n == 1:\n",
        "        return 0\n",
        "    # Second Fibonacci number is 1\n",
        "    elif n == 2:\n",
        "        return 1\n",
        "    else:\n",
        "        return Fibonacci(n-1)+Fibonacci(n-2)\n",
        "\n",
        "# Driver Program\n",
        "\n",
        "#print(Fibonacci(10))\n",
        "\n"
      ],
      "metadata": {
        "colab": {
          "base_uri": "https://localhost:8080/"
        },
        "id": "Rkl78P2a3E6D",
        "outputId": "3eaabc29-9f91-4395-f41b-99c012596808"
      },
      "execution_count": null,
      "outputs": [
        {
          "output_type": "stream",
          "name": "stdout",
          "text": [
            "5\n"
          ]
        }
      ]
    },
    {
      "cell_type": "markdown",
      "source": [
        "4.Write a recursive Python function to calculate the sum of all elements in a list.\n"
      ],
      "metadata": {
        "id": "bQJXDYmu3FYu"
      }
    },
    {
      "cell_type": "code",
      "source": [
        "list1=[4,6,3]\n",
        "\n",
        "def sum_elements(list1):\n",
        "  sum1=0\n",
        "  if len(list1) == 0:\n",
        "    return \"No elements in the list\"\n",
        "  elif len(list1) == 1:\n",
        "    sum1 = sum1 + list1[0]\n",
        "    return sum1\n",
        "  else:\n",
        "    sum1 = sum_elements(list1[1:]) + list1[0]\n",
        "    return sum1\n",
        "\n",
        "\n",
        "sum_elements(list1)"
      ],
      "metadata": {
        "colab": {
          "base_uri": "https://localhost:8080/"
        },
        "id": "Lf5PSt963I9s",
        "outputId": "d787630e-1530-48c2-a099-24423e3c5cf8"
      },
      "execution_count": null,
      "outputs": [
        {
          "output_type": "execute_result",
          "data": {
            "text/plain": [
              "13"
            ]
          },
          "metadata": {},
          "execution_count": 30
        }
      ]
    },
    {
      "cell_type": "markdown",
      "source": [
        "5.How can you prevent a recursive function from running indefinitely, causing a stack overflow error?\n"
      ],
      "metadata": {
        "id": "FpxjBm5t3JdI"
      }
    },
    {
      "cell_type": "code",
      "source": [
        "\"\"\"\n",
        "In order to prevent stack overflow bugs, you must have a base case where the function stops make new recursive calls.\n",
        " If there is no base case then the function calls will never stop and eventually a stack overflow will occur.\n",
        " Here is an example of a recursive function with a base case\n",
        "\n",
        "\"\"\"\n",
        "\n",
        "def countdown(value):\n",
        "  if value <= 0:\n",
        "    print(\"done\")\n",
        "  else:\n",
        "    print(value)\n",
        "    countdown(value-1)  #recursive step\n",
        "\n",
        "\n",
        "countdown(5)"
      ],
      "metadata": {
        "colab": {
          "base_uri": "https://localhost:8080/"
        },
        "id": "Borps0qx3MsV",
        "outputId": "510a0a6e-38c4-4f89-a790-e2c9ab5592c1"
      },
      "execution_count": null,
      "outputs": [
        {
          "output_type": "stream",
          "name": "stdout",
          "text": [
            "5\n",
            "4\n",
            "3\n",
            "2\n",
            "1\n",
            "done\n"
          ]
        }
      ]
    },
    {
      "cell_type": "markdown",
      "source": [
        "6.Create a recursive Python function to find the greatest common divisor (GCD) of two numbers using the Euclidean algorithm.\n"
      ],
      "metadata": {
        "id": "mljoM3BG3NF2"
      }
    },
    {
      "cell_type": "code",
      "source": [
        "#how to do without using gcd\n",
        "\n",
        "def gcd(a, b):\n",
        "   if a == b:\n",
        "      return a\n",
        "   elif a < b:\n",
        "      return gcd(b, a)\n",
        "   else:\n",
        "      return gcd(b, a - b)\n",
        "\n",
        "a = 25\n",
        "b = 45\n",
        "print(gcd(a, b))"
      ],
      "metadata": {
        "colab": {
          "base_uri": "https://localhost:8080/"
        },
        "id": "fe-qjipJ3QSR",
        "outputId": "c271c4c5-a805-42e6-902d-a6ec3ab510ab"
      },
      "execution_count": null,
      "outputs": [
        {
          "output_type": "stream",
          "name": "stdout",
          "text": [
            "5\n"
          ]
        }
      ]
    },
    {
      "cell_type": "markdown",
      "source": [
        "7.Write a recursive Python function to reverse a string."
      ],
      "metadata": {
        "id": "FOyLSPnl3QwW"
      }
    },
    {
      "cell_type": "code",
      "source": [
        "#\"hello\"\n",
        "\n",
        "#\"olleh\"\n",
        "\n",
        "#value at first index goes to the last\n",
        "\n",
        "def reverse_str(str1):\n",
        "  if len(str1)== 0:\n",
        "    return \"String is empty\"\n",
        "  elif len(str1)== 1:\n",
        "    return str1\n",
        "  else:\n",
        "    return reverse_str(str1[1:]) + str1[0]\n",
        "\n",
        "reverse_str(\"subhra\")"
      ],
      "metadata": {
        "colab": {
          "base_uri": "https://localhost:8080/",
          "height": 36
        },
        "id": "hg5ZUR9B3T6i",
        "outputId": "3e7e3552-e5e1-47e9-cd4a-6f2711c53b09"
      },
      "execution_count": null,
      "outputs": [
        {
          "output_type": "execute_result",
          "data": {
            "text/plain": [
              "'arhbus'"
            ],
            "application/vnd.google.colaboratory.intrinsic+json": {
              "type": "string"
            }
          },
          "metadata": {},
          "execution_count": 43
        }
      ]
    },
    {
      "cell_type": "markdown",
      "source": [
        "8.Create a recursive Python function to calculate the power of a number (x^n).\n"
      ],
      "metadata": {
        "id": "vOyMzBdy3UaS"
      }
    },
    {
      "cell_type": "code",
      "source": [
        "# n^p = n * n * n * ...p times\n",
        "#if n=2\n",
        "#p=0--> 2 ^ 0 =1\n",
        "#p=1 --> 2 ^ 1 =2\n",
        "#p=2 --> 2 * 2\n",
        "\n",
        "def power_of_a_number(n,p):\n",
        "  if p == 0:\n",
        "    return 1\n",
        "  elif p == 1 :\n",
        "    return n\n",
        "  else:\n",
        "    return n * power_of_a_number(n,p-1)\n",
        "\n",
        "power_of_a_number(5,3)"
      ],
      "metadata": {
        "colab": {
          "base_uri": "https://localhost:8080/"
        },
        "id": "GklnKpm-3XiV",
        "outputId": "646f46e0-688f-458b-a818-07b0e82468d7"
      },
      "execution_count": null,
      "outputs": [
        {
          "output_type": "execute_result",
          "data": {
            "text/plain": [
              "125"
            ]
          },
          "metadata": {},
          "execution_count": 46
        }
      ]
    },
    {
      "cell_type": "markdown",
      "source": [
        "9.Write a recursive Python function to find all permutations of a given string.\n"
      ],
      "metadata": {
        "id": "fP7bK3-I3YAK"
      }
    },
    {
      "cell_type": "code",
      "source": [
        "# str1=\"hi\" --> hi,ih -->2!\n",
        "#str1=\"xyz\" --> xyz,xzy,yzx,yxz,zxy,zyx-3!\n",
        "#str1=\".......n charcters \"--> n! ways can be written\n",
        "str1=\"he\"\n",
        "list1=[]\n",
        "def all_permutation(str1):\n",
        "  if len(str1) == 0:\n",
        "    return \"\"\n",
        "  elif len(str1)== 1:\n",
        "    return str1\n",
        "  elif len(str1) ==2:\n",
        "    list1.append(str1)\n",
        "    list1.append(str1[::-1])\n",
        "    return list1\n",
        "  elif len(str1)== 3:\n",
        "    str1[0]\n",
        "\n",
        "\n",
        "#doubt"
      ],
      "metadata": {
        "id": "kq7WJ4Y63avv"
      },
      "execution_count": null,
      "outputs": []
    },
    {
      "cell_type": "markdown",
      "source": [
        "10.Write a recursive Python function to check if a string is a palindrome.\n"
      ],
      "metadata": {
        "id": "53KBW3s83bLB"
      }
    },
    {
      "cell_type": "code",
      "source": [
        "#\"madam\"\n",
        "\"\"\"\n",
        "def check_palllidrome(str1):\n",
        "  if len(str1)== 0:\n",
        "    return False\n",
        "  elif len(str1)==1 :\n",
        "    return True\n",
        "  else:\n",
        "    if str1 == str1[::-1]\n",
        "    return True\n",
        "\"\"\"\n",
        "\n",
        "#doubt\n",
        "\n",
        "#****************************************************************************\n",
        "\n",
        "# A recursive Python program\n",
        "# to check whether a given\n",
        "# number is palindrome or not\n",
        "\n",
        "# A recursive function that\n",
        "# check a str[s..e] is\n",
        "# palindrome or not.\n",
        "def isPalRec(st, s, e) :\n",
        "\n",
        "    # If there is only one character\n",
        "    if (s == e):\n",
        "        return True\n",
        "\n",
        "    # If first and last\n",
        "    # characters do not match\n",
        "    if (st[s] != st[e]) :\n",
        "        return False\n",
        "\n",
        "    # If there are more than\n",
        "    # two characters, check if\n",
        "    # middle substring is also\n",
        "    # palindrome or not.\n",
        "    if (s < e + 1) :\n",
        "        return isPalRec(st, s + 1, e - 1);\n",
        "\n",
        "    return True\n",
        "\n",
        "def isPalindrome(st) :\n",
        "    n = len(st)\n",
        "\n",
        "    # An empty string is\n",
        "    # considered as palindrome\n",
        "    if (n == 0) :\n",
        "        return True\n",
        "\n",
        "    return isPalRec(st, 0, n - 1);\n",
        "\n",
        "\n",
        "# Driver Code\n",
        "st = \"geeg\"\n",
        "if (isPalindrome(st)) :\n",
        "    print(\"Yes\")\n",
        "else :\n",
        "    print(\"No\")\n",
        "\n",
        "# This code is contributed\n",
        "# by Nikita Tiwari."
      ],
      "metadata": {
        "colab": {
          "base_uri": "https://localhost:8080/"
        },
        "id": "kgtB7tde3eDe",
        "outputId": "485aecc5-6fbd-419c-8ad3-7077a850e80b"
      },
      "execution_count": null,
      "outputs": [
        {
          "output_type": "stream",
          "name": "stdout",
          "text": [
            "Yes\n"
          ]
        }
      ]
    },
    {
      "cell_type": "markdown",
      "source": [
        "11.Create a recursive Python function to generate all possible combinations of a list of elements.\n"
      ],
      "metadata": {
        "id": "ebUZjXZk3em2"
      }
    },
    {
      "cell_type": "code",
      "source": [
        "#doubt"
      ],
      "metadata": {
        "id": "ooKxIK-v3hZi"
      },
      "execution_count": null,
      "outputs": []
    },
    {
      "cell_type": "markdown",
      "source": [
        "Basics of Functions:\n"
      ],
      "metadata": {
        "id": "oFVfDhrm9KCd"
      }
    },
    {
      "cell_type": "markdown",
      "source": [
        "1. What is a function in Python, and why is it used?"
      ],
      "metadata": {
        "id": "Q-NI8Qlo9LW_"
      }
    },
    {
      "cell_type": "code",
      "source": [
        "\"\"\"A function is a block of code which only runs when it is called.\n",
        "You can pass data, known as parameters, into a function. A function can return data as a result.\"\"\"\n",
        "\n",
        "def summ(num1,num2):\n",
        "  return (num1+num2)\n",
        "\n",
        "summ(5,4)"
      ],
      "metadata": {
        "colab": {
          "base_uri": "https://localhost:8080/"
        },
        "id": "HDBjWerwtPQx",
        "outputId": "057392c7-4293-4557-d757-79992ba5948d"
      },
      "execution_count": 1,
      "outputs": [
        {
          "output_type": "execute_result",
          "data": {
            "text/plain": [
              "9"
            ]
          },
          "metadata": {},
          "execution_count": 1
        }
      ]
    },
    {
      "cell_type": "markdown",
      "source": [
        "2.How do you define a function in Python? Provide an example"
      ],
      "metadata": {
        "id": "ZYd4vOuRtPgz"
      }
    },
    {
      "cell_type": "code",
      "source": [
        "def mult(num1,num2):\n",
        "  return (num1 * num2)\n",
        "\n",
        "mult(5,4)"
      ],
      "metadata": {
        "colab": {
          "base_uri": "https://localhost:8080/"
        },
        "id": "J7XmpsjatSQf",
        "outputId": "118fae04-e9da-4b48-e9bb-883e41327685"
      },
      "execution_count": 3,
      "outputs": [
        {
          "output_type": "execute_result",
          "data": {
            "text/plain": [
              "20"
            ]
          },
          "metadata": {},
          "execution_count": 3
        }
      ]
    },
    {
      "cell_type": "markdown",
      "source": [
        "3.Explain the difference between a function definition and a function call"
      ],
      "metadata": {
        "id": "pDB5L5yctTz8"
      }
    },
    {
      "cell_type": "code",
      "source": [
        "#function definition\n",
        "def mult(num1,num2):\n",
        "  return (num1 * num2)\n",
        "\n",
        "\n",
        "#function call\n",
        "mult(5,4)"
      ],
      "metadata": {
        "colab": {
          "base_uri": "https://localhost:8080/"
        },
        "id": "alookXoHtXv_",
        "outputId": "4360300e-ce71-4f14-9a3b-fd03f7b12ce3"
      },
      "execution_count": 8,
      "outputs": [
        {
          "output_type": "execute_result",
          "data": {
            "text/plain": [
              "20"
            ]
          },
          "metadata": {},
          "execution_count": 8
        }
      ]
    },
    {
      "cell_type": "markdown",
      "source": [
        "4.Write a Python program that defines a function to calculate the sum of two numbers and then\n",
        "calls the function."
      ],
      "metadata": {
        "id": "tRgotLiUtYes"
      }
    },
    {
      "cell_type": "code",
      "source": [
        "def summ(num1,num2):\n",
        "  return (num1+num2)\n",
        "\n",
        "summ(5,4)"
      ],
      "metadata": {
        "colab": {
          "base_uri": "https://localhost:8080/"
        },
        "id": "3S4rhmbUtcSx",
        "outputId": "ca7d0c36-da1c-49a0-968c-62be22d1f51c"
      },
      "execution_count": 5,
      "outputs": [
        {
          "output_type": "execute_result",
          "data": {
            "text/plain": [
              "9"
            ]
          },
          "metadata": {},
          "execution_count": 5
        }
      ]
    },
    {
      "cell_type": "markdown",
      "source": [
        "5.What is a function signature, and what information does it typically include?"
      ],
      "metadata": {
        "id": "ifH8ejghtc2Q"
      }
    },
    {
      "cell_type": "code",
      "source": [
        "\"\"\"generally the signature of a function refers to the names and types of the arguments the function accepts,\n",
        "along with the type of its return value. \"\"\""
      ],
      "metadata": {
        "colab": {
          "base_uri": "https://localhost:8080/",
          "height": 54
        },
        "id": "7uxKbk-TthtO",
        "outputId": "d4a059b0-a258-41a7-ef16-ebf69806a066"
      },
      "execution_count": 7,
      "outputs": [
        {
          "output_type": "execute_result",
          "data": {
            "text/plain": [
              "'generally the signature of a function refers to the names and types of the arguments the function accepts, \\nalong with the type of its return value. '"
            ],
            "application/vnd.google.colaboratory.intrinsic+json": {
              "type": "string"
            }
          },
          "metadata": {},
          "execution_count": 7
        }
      ]
    },
    {
      "cell_type": "markdown",
      "source": [
        "6.Create a Python function that takes two arguments and returns their product"
      ],
      "metadata": {
        "id": "OEH0obw9tiTa"
      }
    },
    {
      "cell_type": "code",
      "source": [
        "#function definition\n",
        "def mult(num1,num2):\n",
        "  return (num1 * num2)\n",
        "\n",
        "\n",
        "#function call\n",
        "mult(5,4)"
      ],
      "metadata": {
        "colab": {
          "base_uri": "https://localhost:8080/"
        },
        "id": "qvP0YSKJtmCg",
        "outputId": "c970ce51-83da-49ea-d679-19e057ccb5a0"
      },
      "execution_count": 9,
      "outputs": [
        {
          "output_type": "execute_result",
          "data": {
            "text/plain": [
              "20"
            ]
          },
          "metadata": {},
          "execution_count": 9
        }
      ]
    },
    {
      "cell_type": "markdown",
      "source": [
        "Function Parameters and Arguments:\n"
      ],
      "metadata": {
        "id": "ykDQXtnVvLmX"
      }
    },
    {
      "cell_type": "markdown",
      "source": [
        "1.Explain the concepts of formal parameters and actual arguments in Python functions.\n"
      ],
      "metadata": {
        "id": "Nz11JfSS1R_x"
      }
    },
    {
      "cell_type": "code",
      "source": [
        "\"\"\"When we call the function, we should pass data or values to the function. These values are called 'actual arguments'..\"\"\"\n",
        "\n",
        "\n",
        "\"\"\"In contrast,  parameters that are useful to receive values from outside of the function. They are called 'formal arguments'.\"\"\"\n"
      ],
      "metadata": {
        "id": "phhoyliCvMel"
      },
      "execution_count": null,
      "outputs": []
    },
    {
      "cell_type": "markdown",
      "source": [
        "2.Write a Python program that defines a function with default argument values.\n"
      ],
      "metadata": {
        "id": "paO44nts1Wwc"
      }
    },
    {
      "cell_type": "code",
      "source": [
        "\"\"\"The arguments that take default values when no explicit values are supplied\n",
        "to them from the function call are known as default arguments in Python functions.\"\"\"\n",
        "\n",
        "def greet(name=\"world\"):\n",
        "   print(\"Hello,\", name)\n",
        "greet()\n",
        "\n",
        "\n",
        "#Example2 where a new argument is passed(so its not taking the default argument)\n",
        "def find_cube(integer1=2):\n",
        "   result = integer1 * integer1 * integer1\n",
        "   return result\n",
        "result= find_cube(10)\n",
        "print(result)"
      ],
      "metadata": {
        "colab": {
          "base_uri": "https://localhost:8080/"
        },
        "id": "08z9Hp0T1ZkI",
        "outputId": "d572e792-b098-4073-d75f-e367ec8f8675"
      },
      "execution_count": 5,
      "outputs": [
        {
          "output_type": "stream",
          "name": "stdout",
          "text": [
            "Hello, world\n",
            "1000\n"
          ]
        }
      ]
    },
    {
      "cell_type": "code",
      "source": [
        "#Multiple default argument\n",
        "\n",
        "def add_integers(int1=12, int2=4):\n",
        "   result = int1 + int2\n",
        "   return result\n",
        "result = add_integers()\n",
        "print(result)"
      ],
      "metadata": {
        "colab": {
          "base_uri": "https://localhost:8080/"
        },
        "id": "1usp0gOfZbH1",
        "outputId": "7e7ba883-d8c5-432d-c920-1c0b6dab42cc"
      },
      "execution_count": 6,
      "outputs": [
        {
          "output_type": "stream",
          "name": "stdout",
          "text": [
            "16\n"
          ]
        }
      ]
    },
    {
      "cell_type": "markdown",
      "source": [
        "3.How do you use keyword arguments in Python function calls? Provide an example.\n"
      ],
      "metadata": {
        "id": "WIeuReOs1aLV"
      }
    },
    {
      "cell_type": "code",
      "source": [
        "\"\"\"Keyword arguments are related to the function calls.\n",
        "When you use keyword arguments in a function call, the caller identifies the arguments by the parameter name.\n",
        "Note that the order of parameters does not matter.\n",
        "\"\"\"\n",
        "\n",
        "def printme( str ):\n",
        "   \"This prints a passed string into this function\"\n",
        "   print(str)\n",
        "   return;\n",
        "\n",
        "# Now you can call printme function\n",
        "printme( str = \"My string\")\n",
        "\n",
        "\n",
        "#Example2\n",
        "\n",
        "def printinfo( name, age ):\n",
        "   \"This prints a passed info into this function\"\n",
        "   print(\"Name: \", name)\n",
        "   print (\"Age \", age)\n",
        "   return;\n",
        "\n",
        "# Now you can call printinfo function\n",
        "printinfo( age=50, name=\"miki\" )"
      ],
      "metadata": {
        "colab": {
          "base_uri": "https://localhost:8080/"
        },
        "id": "N0OTli6t1dO1",
        "outputId": "c4c567c4-9fec-44b8-b39c-84d12aa05da9"
      },
      "execution_count": 10,
      "outputs": [
        {
          "output_type": "stream",
          "name": "stdout",
          "text": [
            "My string\n",
            "Name:  miki\n",
            "Age  50\n"
          ]
        }
      ]
    },
    {
      "cell_type": "markdown",
      "source": [
        "4.Create a Python function that accepts a variable number of arguments and calculates their sum.\n"
      ],
      "metadata": {
        "id": "Fb6DLiu81dxw"
      }
    },
    {
      "cell_type": "code",
      "source": [
        "\n",
        "#usage of a function that takes variable length arguments.\n",
        "def add_num(*args):\n",
        "   sum = 0\n",
        "   for num in args:\n",
        "      sum += num\n",
        "   return sum\n",
        "\n",
        "\n",
        "result = add_num(1, 2, 3)\n",
        "print('Sum is', result)\n",
        "\n",
        "\n",
        "result = add_num(10, 20, 30, 40)\n",
        "print('Sum is', result)\n",
        "\n",
        "\n",
        "\n",
        "result = add_num(5, 6, 7, 8, 9)\n",
        "print('Sum is', result)"
      ],
      "metadata": {
        "colab": {
          "base_uri": "https://localhost:8080/"
        },
        "id": "zdzLgxNn1g4G",
        "outputId": "32166c14-47cf-4704-c430-07d1c1c52f47"
      },
      "execution_count": 13,
      "outputs": [
        {
          "output_type": "stream",
          "name": "stdout",
          "text": [
            "Sum is 6\n",
            "Sum is 100\n",
            "Sum is 35\n"
          ]
        }
      ]
    },
    {
      "cell_type": "code",
      "source": [
        "def multiply(*args):\n",
        "   y = 1\n",
        "   for num in args:\n",
        "      y *= num\n",
        "   print(y)\n",
        "\n",
        "multiply(3, 7)\n",
        "\n",
        "multiply(9, 8)\n",
        "\n",
        "multiply(3, 4, 7)\n",
        "\n",
        "multiply(5, 6, 10, 8)"
      ],
      "metadata": {
        "colab": {
          "base_uri": "https://localhost:8080/"
        },
        "id": "22JNgmacbght",
        "outputId": "be187fc9-598c-4642-93ab-56e3bafeed8b"
      },
      "execution_count": 14,
      "outputs": [
        {
          "output_type": "stream",
          "name": "stdout",
          "text": [
            "21\n",
            "72\n",
            "84\n",
            "2400\n"
          ]
        }
      ]
    },
    {
      "cell_type": "markdown",
      "source": [
        "5.What is the purpose of the `*args` and `**kwargs` syntax in function parameter lists?\n"
      ],
      "metadata": {
        "id": "hLIfWupj1hLs"
      }
    },
    {
      "cell_type": "code",
      "source": [
        "\"\"\"\n",
        "\n",
        "*args (Non-Keyword Arguments)\n",
        "\n",
        "**kwargs (Keyword Arguments)\n",
        "\n",
        "we can pass the variable number of arguments in a function with the help of *args and **kwargs keywords.\n",
        "\n",
        "\n",
        "\n",
        "Here * is termed as a wildcard where we can replace it with any number which signifies any number of arguments in the function.\n",
        "The value of * can be zero, which means there will be no argument in the function.\n",
        "\n",
        "\"\"\"\n",
        "\n",
        "\n",
        "def multipleFunction(*argv):\n",
        "\n",
        "  for eachArg in argv:\n",
        "    print(eachArg)\n",
        "\n",
        "\n",
        "multipleFunction('Hello', 'Welcome', 'to', 'Javatpoint','xyz',56,32)"
      ],
      "metadata": {
        "colab": {
          "base_uri": "https://localhost:8080/"
        },
        "id": "sysq_Fc71kQE",
        "outputId": "ce914439-cccf-447b-f6fe-7e14e8a9deb7"
      },
      "execution_count": 18,
      "outputs": [
        {
          "output_type": "stream",
          "name": "stdout",
          "text": [
            "Hello\n",
            "Welcome\n",
            "to\n",
            "Javatpoint\n",
            "xyz\n",
            "56\n",
            "32\n"
          ]
        }
      ]
    },
    {
      "cell_type": "code",
      "source": [
        "\"\"\" *kwargs  --- any number of key-value pairs\"\"\"\n",
        "\n",
        "def multipleFunction(**kwargs):\n",
        "  for key, value in kwargs.items():\n",
        "    print(\"%s == %s\" % (key, value))\n",
        "\n",
        "\n",
        "multipleFunction(firstArg='Javat', Second='Point', Third='Ayush',Fourth = 6000)"
      ],
      "metadata": {
        "colab": {
          "base_uri": "https://localhost:8080/"
        },
        "id": "d7IHoTugm6Rx",
        "outputId": "ee14c28e-1902-465b-beec-a3b36b01e1b8"
      },
      "execution_count": 20,
      "outputs": [
        {
          "output_type": "stream",
          "name": "stdout",
          "text": [
            "firstArg == Javat\n",
            "Second == Point\n",
            "Third == Ayush\n",
            "Fourth == 6000\n"
          ]
        }
      ]
    },
    {
      "cell_type": "code",
      "source": [
        "def multipleFunction(*args,**kwargs):\n",
        "  print(args)\n",
        "  print(kwargs)\n",
        "\n",
        "\n",
        "multipleFunction('helo','welcome','to',firstArg='Javat', Second='Point', Third='Ayush',Fourth = 6000)"
      ],
      "metadata": {
        "colab": {
          "base_uri": "https://localhost:8080/"
        },
        "id": "eYCF83K3nvPu",
        "outputId": "1250c7b3-44e1-4e03-a656-704982abf6ea"
      },
      "execution_count": 21,
      "outputs": [
        {
          "output_type": "stream",
          "name": "stdout",
          "text": [
            "('helo', 'welcome', 'to')\n",
            "{'firstArg': 'Javat', 'Second': 'Point', 'Third': 'Ayush', 'Fourth': 6000}\n"
          ]
        }
      ]
    },
    {
      "cell_type": "markdown",
      "source": [
        "Return Values and Scoping:\n"
      ],
      "metadata": {
        "id": "B9HN9iEln6oD"
      }
    },
    {
      "cell_type": "markdown",
      "source": [
        "Describe the role of the `return` statement in Python functions and provide examples.\n"
      ],
      "metadata": {
        "id": "mlf3i4b5n7xK"
      }
    },
    {
      "cell_type": "code",
      "source": [],
      "metadata": {
        "id": "0RGGumJ3n-lr"
      },
      "execution_count": null,
      "outputs": []
    },
    {
      "cell_type": "markdown",
      "source": [
        "2.Explain the concept of variable scope in Python, including local and global variables.\n"
      ],
      "metadata": {
        "id": "z3JiPJPmoAwg"
      }
    },
    {
      "cell_type": "code",
      "source": [],
      "metadata": {
        "id": "eyT288s7oDpp"
      },
      "execution_count": null,
      "outputs": []
    },
    {
      "cell_type": "markdown",
      "source": [
        "3.Write a Python program that demonstrates the use of global variables within functions.\n"
      ],
      "metadata": {
        "id": "JnI1IEKeoD_0"
      }
    },
    {
      "cell_type": "code",
      "source": [],
      "metadata": {
        "id": "lN5-tJ_1oG83"
      },
      "execution_count": null,
      "outputs": []
    },
    {
      "cell_type": "markdown",
      "source": [
        "4.Create a Python function that calculates the factorial of a number and returns it.\n"
      ],
      "metadata": {
        "id": "rWGMMqpwoJW-"
      }
    },
    {
      "cell_type": "code",
      "source": [],
      "metadata": {
        "id": "M31fe6WioK-M"
      },
      "execution_count": null,
      "outputs": []
    },
    {
      "cell_type": "markdown",
      "source": [
        "5.How can you access variables defined outside a function from within the function?\n"
      ],
      "metadata": {
        "id": "-N3eJ2qFoLkE"
      }
    },
    {
      "cell_type": "code",
      "source": [],
      "metadata": {
        "id": "pSaWPDvxoPNe"
      },
      "execution_count": null,
      "outputs": []
    }
  ]
}