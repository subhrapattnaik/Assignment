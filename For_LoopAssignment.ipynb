{
  "nbformat": 4,
  "nbformat_minor": 0,
  "metadata": {
    "colab": {
      "provenance": [],
      "authorship_tag": "ABX9TyP30UtZtaZv09sGLplYNsIN",
      "include_colab_link": true
    },
    "kernelspec": {
      "name": "python3",
      "display_name": "Python 3"
    },
    "language_info": {
      "name": "python"
    }
  },
  "cells": [
    {
      "cell_type": "markdown",
      "metadata": {
        "id": "view-in-github",
        "colab_type": "text"
      },
      "source": [
        "<a href=\"https://colab.research.google.com/github/subhrapattnaik/Assignment-SolvedByme/blob/main/For_LoopAssignment.ipynb\" target=\"_parent\"><img src=\"https://colab.research.google.com/assets/colab-badge.svg\" alt=\"Open In Colab\"/></a>"
      ]
    },
    {
      "cell_type": "markdown",
      "source": [
        "Basic Level:"
      ],
      "metadata": {
        "id": "-u5C9pmlKUIh"
      }
    },
    {
      "cell_type": "markdown",
      "source": [
        "1. Write a Python program to print the numbers from 1 to 10 using a `for` loop."
      ],
      "metadata": {
        "id": "CXlOED1nzZji"
      }
    },
    {
      "cell_type": "code",
      "source": [
        "for i in range(10):\n",
        "  print(i)"
      ],
      "metadata": {
        "colab": {
          "base_uri": "https://localhost:8080/"
        },
        "id": "katHLs-szdVf",
        "outputId": "f3ffa15d-ed92-4095-be94-02aceb17a3ed"
      },
      "execution_count": null,
      "outputs": [
        {
          "output_type": "stream",
          "name": "stdout",
          "text": [
            "0\n",
            "1\n",
            "2\n",
            "3\n",
            "4\n",
            "5\n",
            "6\n",
            "7\n",
            "8\n",
            "9\n"
          ]
        }
      ]
    },
    {
      "cell_type": "markdown",
      "source": [
        "2. Create a program that calculates the sum of all numbers in a list using a `for` loop."
      ],
      "metadata": {
        "id": "-9eyeiZWzyk4"
      }
    },
    {
      "cell_type": "code",
      "source": [
        "list1 = [ 1 ,2,3,4,5,6,7,8,9,10]\n",
        "sum = 0\n",
        "for x in range(len(list1) + 1):\n",
        "  sum = sum + x\n",
        "sum"
      ],
      "metadata": {
        "colab": {
          "base_uri": "https://localhost:8080/"
        },
        "id": "qvW5NhlJz4zv",
        "outputId": "9142a996-c25e-47a7-cbaa-27c65a4efbdd"
      },
      "execution_count": null,
      "outputs": [
        {
          "output_type": "execute_result",
          "data": {
            "text/plain": [
              "55"
            ]
          },
          "metadata": {},
          "execution_count": 7
        }
      ]
    },
    {
      "cell_type": "markdown",
      "source": [
        "3. Write a program to print the characters of a string in reverse order using a `for` loop."
      ],
      "metadata": {
        "id": "bXUo8Idu1KA0"
      }
    },
    {
      "cell_type": "code",
      "source": [
        "str1 = \"subhra\"\n",
        "reverse_str1=\"\"\n",
        "\n",
        "for x in str1:\n",
        "  reverse_str1 =  x + reverse_str1\n",
        "\n",
        "reverse_str1\n",
        "\n",
        "\n"
      ],
      "metadata": {
        "id": "3E2A2enO1MeX",
        "colab": {
          "base_uri": "https://localhost:8080/",
          "height": 36
        },
        "outputId": "87fce099-fa8f-41d3-9cc8-d777ba840dd5"
      },
      "execution_count": null,
      "outputs": [
        {
          "output_type": "execute_result",
          "data": {
            "text/plain": [
              "'arhbus'"
            ],
            "application/vnd.google.colaboratory.intrinsic+json": {
              "type": "string"
            }
          },
          "metadata": {},
          "execution_count": 7
        }
      ]
    },
    {
      "cell_type": "markdown",
      "source": [
        "4. Develop a program that finds the factorial of a given number using a `for` loop."
      ],
      "metadata": {
        "id": "OMUI9V_1HkVh"
      }
    },
    {
      "cell_type": "code",
      "source": [
        "n = int (input (\"Enter a number: \"))\n",
        "factorial = 1\n",
        "if n >= 1:\n",
        "  for i in range (1, n+1):\n",
        "    factorial = factorial * i\n",
        "\n",
        "print(\"Factorial of the given number is: \", factorial)\n",
        "\n"
      ],
      "metadata": {
        "colab": {
          "base_uri": "https://localhost:8080/"
        },
        "id": "0WzL-8qGHpvS",
        "outputId": "5f957d97-5e36-4aeb-8349-de0caef00a35"
      },
      "execution_count": null,
      "outputs": [
        {
          "output_type": "stream",
          "name": "stdout",
          "text": [
            "Enter a number: 5\n",
            "Factorial of the given number is:  120\n"
          ]
        }
      ]
    },
    {
      "cell_type": "markdown",
      "source": [
        "5. Create a program to print the multiplication table of a given number using a `for` loop."
      ],
      "metadata": {
        "id": "jF7t7S7dI2Nx"
      }
    },
    {
      "cell_type": "code",
      "source": [
        "n = int (input (\"Enter a number: \"))\n",
        "print (\"Multiplication table of 5 : \")\n",
        "\n",
        "for i in range(1,11):\n",
        "       print (n, 'x', i, '=', n * i)\n"
      ],
      "metadata": {
        "colab": {
          "base_uri": "https://localhost:8080/"
        },
        "id": "YvQxMt70JAN2",
        "outputId": "c49ed5d2-b431-41bc-9244-a25c161d5901"
      },
      "execution_count": null,
      "outputs": [
        {
          "output_type": "stream",
          "name": "stdout",
          "text": [
            "Enter a number: 5\n",
            "Multiplication table of 5 : \n",
            "5 x 1 = 5\n",
            "5 x 2 = 10\n",
            "5 x 3 = 15\n",
            "5 x 4 = 20\n",
            "5 x 5 = 25\n",
            "5 x 6 = 30\n",
            "5 x 7 = 35\n",
            "5 x 8 = 40\n",
            "5 x 9 = 45\n",
            "5 x 10 = 50\n"
          ]
        }
      ]
    },
    {
      "cell_type": "markdown",
      "source": [
        "6. Write a program that counts the number of even and odd numbers in a list using a `for` loop."
      ],
      "metadata": {
        "id": "TT6jTsslKjdw"
      }
    },
    {
      "cell_type": "code",
      "source": [
        "list2 = [23,45,2,4,6,8,90,3,56,76,89]\n",
        "even_count = 0\n",
        "odd_count = 0\n",
        "for x in list2:\n",
        "  if x % 2 == 0:\n",
        "    even_count += 1\n",
        "  else:\n",
        "    odd_count += 1\n",
        "print(even_count)\n",
        "\n",
        "print(odd_count)\n"
      ],
      "metadata": {
        "colab": {
          "base_uri": "https://localhost:8080/"
        },
        "id": "e3BNO1hRKkYK",
        "outputId": "a68cf857-2686-4dc5-94ed-c173ace6e182"
      },
      "execution_count": null,
      "outputs": [
        {
          "output_type": "stream",
          "name": "stdout",
          "text": [
            "7\n",
            "4\n"
          ]
        }
      ]
    },
    {
      "cell_type": "markdown",
      "source": [
        "7. Develop a program that prints the squares of numbers from 1 to 5 using a `for` loop."
      ],
      "metadata": {
        "id": "QDwbu9r9Lvl4"
      }
    },
    {
      "cell_type": "code",
      "source": [
        "for x in range(1,6):\n",
        "  square = x * x\n",
        "  print(square)"
      ],
      "metadata": {
        "colab": {
          "base_uri": "https://localhost:8080/"
        },
        "id": "h2nOYMMhMjTB",
        "outputId": "0cf7186a-8c4c-4b10-eb3a-f19f3c8dfccf"
      },
      "execution_count": null,
      "outputs": [
        {
          "output_type": "stream",
          "name": "stdout",
          "text": [
            "1\n",
            "4\n",
            "9\n",
            "16\n",
            "25\n"
          ]
        }
      ]
    },
    {
      "cell_type": "markdown",
      "source": [
        "8. Create a program to find the length of a string without using the `len()` function."
      ],
      "metadata": {
        "id": "CxVT9Ih8M_bS"
      }
    },
    {
      "cell_type": "code",
      "source": [
        "str1 = input(\"Enter a String : \")\n",
        "count = 0\n",
        "for x in str1:\n",
        "  count = count +1\n",
        "print(\"Length of the string is : \", count)"
      ],
      "metadata": {
        "colab": {
          "base_uri": "https://localhost:8080/"
        },
        "id": "AfMoAw7zNDCT",
        "outputId": "90a1c714-174c-4a31-efa5-863d6df2e6b1"
      },
      "execution_count": null,
      "outputs": [
        {
          "output_type": "stream",
          "name": "stdout",
          "text": [
            "Enter a String : su\n",
            "Length of the string is :  2\n"
          ]
        }
      ]
    },
    {
      "cell_type": "markdown",
      "source": [
        "9. Write a program that calculates the average of a list of numbers using a `for` loop."
      ],
      "metadata": {
        "id": "RDwb1JYGN9AA"
      }
    },
    {
      "cell_type": "code",
      "source": [
        "list1 = [10,20,30,40,50]\n",
        "sum = 0\n",
        "avg = 0\n",
        "for x in list1:\n",
        "  sum = sum + x\n",
        "  avg = sum /len(list1)\n",
        "print(\"Average of list of numbers in the given list is : \",avg)"
      ],
      "metadata": {
        "colab": {
          "base_uri": "https://localhost:8080/"
        },
        "id": "co7m4ovgOB4U",
        "outputId": "8a177132-df15-439d-9bf1-28e4ea9be409"
      },
      "execution_count": null,
      "outputs": [
        {
          "output_type": "stream",
          "name": "stdout",
          "text": [
            "Average of list of numbers in the given list is :  30.0\n"
          ]
        }
      ]
    },
    {
      "cell_type": "markdown",
      "source": [
        "10. Develop a program that prints the first `n` Fibonacci numbers using a `for` loop."
      ],
      "metadata": {
        "id": "doD_eTefOifb"
      }
    },
    {
      "cell_type": "code",
      "source": [
        "#Fibonacci series is a sequence of numbers where each number is the sum of the previous two consecutive numbers. The series begins with 0 and 1.\n",
        "#finf fibonacee numbers upto 20\n",
        "first = 0\n",
        "second = 1\n",
        "fibo_list = []\n",
        "fibo_list.append(first)\n",
        "fibo_list.append(second)\n",
        "for x in range(20):\n",
        "  sum = first + second\n",
        "  fibo_list.append(sum)\n",
        "  first=second\n",
        "  second=sum\n",
        "fibo_list"
      ],
      "metadata": {
        "colab": {
          "base_uri": "https://localhost:8080/"
        },
        "id": "gpajPioUOlmh",
        "outputId": "5de097e0-93aa-4eb1-80c9-9c5cdf6c0763"
      },
      "execution_count": null,
      "outputs": [
        {
          "output_type": "execute_result",
          "data": {
            "text/plain": [
              "[0,\n",
              " 1,\n",
              " 1,\n",
              " 2,\n",
              " 3,\n",
              " 5,\n",
              " 8,\n",
              " 13,\n",
              " 21,\n",
              " 34,\n",
              " 55,\n",
              " 89,\n",
              " 144,\n",
              " 233,\n",
              " 377,\n",
              " 610,\n",
              " 987,\n",
              " 1597,\n",
              " 2584,\n",
              " 4181,\n",
              " 6765,\n",
              " 10946]"
            ]
          },
          "metadata": {},
          "execution_count": 1
        }
      ]
    },
    {
      "cell_type": "markdown",
      "source": [
        "Intermediate Level:"
      ],
      "metadata": {
        "id": "b7EacLSlzYKb"
      }
    },
    {
      "cell_type": "markdown",
      "source": [
        "11. Write a program to check if a given list contains any duplicates using a `for` loop."
      ],
      "metadata": {
        "id": "WcC40s-LRTF8"
      }
    },
    {
      "cell_type": "code",
      "source": [
        "list3 =[2,4,5,6,2,2,4,5,6,6,\"apple\"]\n",
        "list3_elements_count = len(list3)\n",
        "print(\"Number of elenets in list3 : \", list3_elements_count)\n",
        "\n",
        "for x in list3:\n",
        "  print (f\"count of {x} in list3\",list3.count(x))\n",
        "\n",
        "\n",
        "\n",
        "set3 = set(list3)\n",
        "set3_element_count = len(set3)\n",
        "print(\"Number of elements in set3 : \" ,set3_element_count)\n",
        "\n",
        "\n",
        "if list3_elements_count != set3_element_count:\n",
        "  print(\"List3 contains duplicates\")\n",
        "\n",
        "#The length of List & length of Set are different.\n",
        "#so list3 contains duplicates\n",
        "\n",
        "\n"
      ],
      "metadata": {
        "id": "GQXALLm4zbTQ",
        "colab": {
          "base_uri": "https://localhost:8080/"
        },
        "outputId": "baafd05d-69a4-4b8a-cf79-671256622457"
      },
      "execution_count": null,
      "outputs": [
        {
          "output_type": "stream",
          "name": "stdout",
          "text": [
            "Number of elenets in list3 :  11\n",
            "count of 2 in list3 3\n",
            "count of 4 in list3 2\n",
            "count of 5 in list3 2\n",
            "count of 6 in list3 3\n",
            "count of 2 in list3 3\n",
            "count of 2 in list3 3\n",
            "count of 4 in list3 2\n",
            "count of 5 in list3 2\n",
            "count of 6 in list3 3\n",
            "count of 6 in list3 3\n",
            "count of apple in list3 1\n",
            "Number of elements in set3 :  5\n",
            "List3 contains duplicates\n"
          ]
        }
      ]
    },
    {
      "cell_type": "markdown",
      "source": [
        "12. Create a program that prints the prime numbers in a given range using a `for` loop."
      ],
      "metadata": {
        "id": "oPKDC0B1gdvl"
      }
    },
    {
      "cell_type": "code",
      "source": [
        "\n",
        "lower = 0\n",
        "upper = 100\n",
        "\n",
        "print(\"Prime numbers between\", lower, \"and\", upper, \"are:\")\n",
        "\n",
        "for num in range(lower, upper + 1):\n",
        "   # all prime numbers are greater than 1\n",
        "   if num > 1:\n",
        "       for i in range(2, num):\n",
        "           if (num % i) == 0:\n",
        "               break\n",
        "\n",
        "       else:\n",
        "           print(num)"
      ],
      "metadata": {
        "colab": {
          "base_uri": "https://localhost:8080/"
        },
        "id": "LJ0BELtwggj2",
        "outputId": "de5de2f2-fa81-401e-8be4-46f8eb733ca4"
      },
      "execution_count": null,
      "outputs": [
        {
          "output_type": "stream",
          "name": "stdout",
          "text": [
            "Prime numbers between 0 and 100 are:\n",
            "2\n",
            "3\n",
            "5\n",
            "7\n",
            "11\n",
            "13\n",
            "17\n",
            "19\n",
            "23\n",
            "29\n",
            "31\n",
            "37\n",
            "41\n",
            "43\n",
            "47\n",
            "53\n",
            "59\n",
            "61\n",
            "67\n",
            "71\n",
            "73\n",
            "79\n",
            "83\n",
            "89\n",
            "97\n"
          ]
        }
      ]
    },
    {
      "cell_type": "markdown",
      "source": [
        "13. Develop a program that counts the number of vowels in a string using a `for` loop."
      ],
      "metadata": {
        "id": "2cfto6u8hnJ0"
      }
    },
    {
      "cell_type": "code",
      "source": [
        "vowels =['a','e','i','o','u']\n",
        "\n",
        "str1 =\"good morning.happy coding\"\n",
        "count = 0\n",
        "for x in str1:\n",
        "  if x in vowels:\n",
        "    count=count +1\n",
        "count"
      ],
      "metadata": {
        "colab": {
          "base_uri": "https://localhost:8080/"
        },
        "id": "FQ5F3xhPhrwy",
        "outputId": "66f28855-e61e-417b-8537-d992ba38ed31"
      },
      "execution_count": null,
      "outputs": [
        {
          "output_type": "execute_result",
          "data": {
            "text/plain": [
              "7"
            ]
          },
          "metadata": {},
          "execution_count": 15
        }
      ]
    },
    {
      "cell_type": "markdown",
      "source": [
        "14. Write a program to find the maximum element in a 2D list using a nested `for` loop."
      ],
      "metadata": {
        "id": "H5Nj1oOlid1c"
      }
    },
    {
      "cell_type": "code",
      "source": [
        "list_2d = [[1,2],[5,6],[56,3]]\n",
        "\n",
        "list1=[]\n",
        "\n",
        "for x in list_2d:\n",
        "  max_element=max(x)\n",
        "  list1.append(max_element)\n",
        "\n",
        "print(max(list1))\n",
        "#need to ask.can be done in a better way"
      ],
      "metadata": {
        "colab": {
          "base_uri": "https://localhost:8080/"
        },
        "id": "X4uAe0FRihM_",
        "outputId": "cbf4f0cb-a1d3-4226-e35d-ef1d66792a0a"
      },
      "execution_count": null,
      "outputs": [
        {
          "output_type": "stream",
          "name": "stdout",
          "text": [
            "56\n"
          ]
        }
      ]
    },
    {
      "cell_type": "markdown",
      "source": [
        "15. Create a program that removes all occurrences of a specific element from a list using a `for` loop."
      ],
      "metadata": {
        "id": "q0qoJ0kvsDb1"
      }
    },
    {
      "cell_type": "code",
      "source": [
        "list= [2,2,3,4,5,2,3,2,32,2,2,2,45,2,2]\n",
        "n = 2\n",
        "for x in list:\n",
        "    if x == n:\n",
        "        list.remove(x)\n",
        "\n",
        "list\n",
        "#doubt -some 2 are not removed"
      ],
      "metadata": {
        "colab": {
          "base_uri": "https://localhost:8080/"
        },
        "id": "FP-RpcuwsEG8",
        "outputId": "6b5807a3-b0fd-4fe0-824d-8c76d394c78d"
      },
      "execution_count": null,
      "outputs": [
        {
          "output_type": "execute_result",
          "data": {
            "text/plain": [
              "[3, 4, 5, 3, 32, 2, 45, 2, 2]"
            ]
          },
          "metadata": {},
          "execution_count": 16
        }
      ]
    },
    {
      "cell_type": "markdown",
      "source": [
        "16. Develop a program that generates a multiplication table for numbers from 1 to 5 using a nested `for` loop."
      ],
      "metadata": {
        "id": "7yC57HJx6f91"
      }
    },
    {
      "cell_type": "code",
      "source": [
        "num = 1\n",
        "\n",
        "for num in range(1,6):\n",
        "  for i in range(10):\n",
        "    print( num , \"x\" ,i ,\" = \",num*i)\n",
        "  print(\" *********************** \")\n"
      ],
      "metadata": {
        "colab": {
          "base_uri": "https://localhost:8080/"
        },
        "id": "dUN0Jmhg6obU",
        "outputId": "97ff2010-18f7-4da2-93c0-096ff9a62e6a"
      },
      "execution_count": null,
      "outputs": [
        {
          "output_type": "stream",
          "name": "stdout",
          "text": [
            "1 x 0  =  0\n",
            "1 x 1  =  1\n",
            "1 x 2  =  2\n",
            "1 x 3  =  3\n",
            "1 x 4  =  4\n",
            "1 x 5  =  5\n",
            "1 x 6  =  6\n",
            "1 x 7  =  7\n",
            "1 x 8  =  8\n",
            "1 x 9  =  9\n",
            " *********************** \n",
            "2 x 0  =  0\n",
            "2 x 1  =  2\n",
            "2 x 2  =  4\n",
            "2 x 3  =  6\n",
            "2 x 4  =  8\n",
            "2 x 5  =  10\n",
            "2 x 6  =  12\n",
            "2 x 7  =  14\n",
            "2 x 8  =  16\n",
            "2 x 9  =  18\n",
            " *********************** \n",
            "3 x 0  =  0\n",
            "3 x 1  =  3\n",
            "3 x 2  =  6\n",
            "3 x 3  =  9\n",
            "3 x 4  =  12\n",
            "3 x 5  =  15\n",
            "3 x 6  =  18\n",
            "3 x 7  =  21\n",
            "3 x 8  =  24\n",
            "3 x 9  =  27\n",
            " *********************** \n",
            "4 x 0  =  0\n",
            "4 x 1  =  4\n",
            "4 x 2  =  8\n",
            "4 x 3  =  12\n",
            "4 x 4  =  16\n",
            "4 x 5  =  20\n",
            "4 x 6  =  24\n",
            "4 x 7  =  28\n",
            "4 x 8  =  32\n",
            "4 x 9  =  36\n",
            " *********************** \n",
            "5 x 0  =  0\n",
            "5 x 1  =  5\n",
            "5 x 2  =  10\n",
            "5 x 3  =  15\n",
            "5 x 4  =  20\n",
            "5 x 5  =  25\n",
            "5 x 6  =  30\n",
            "5 x 7  =  35\n",
            "5 x 8  =  40\n",
            "5 x 9  =  45\n",
            " *********************** \n"
          ]
        }
      ]
    },
    {
      "cell_type": "markdown",
      "source": [
        "17. Write a program that converts a list of Fahrenheit temperatures to Celsius using a `for` loop."
      ],
      "metadata": {
        "id": "6b7wubsV7495"
      }
    },
    {
      "cell_type": "code",
      "source": [
        "list_f = [ -58.0,-40.0,-22.0,-4.0,28.4,30.2]\n",
        "\n",
        "list_c =[]\n",
        "\n",
        "for x in list_f :\n",
        "  c = ((x - 32) * 5) / 9\n",
        "  list_c .append(c)\n",
        "list_c"
      ],
      "metadata": {
        "colab": {
          "base_uri": "https://localhost:8080/"
        },
        "id": "E1N_S7YJ78w9",
        "outputId": "1ed3a8c8-4b5d-48a7-efe2-86a099ededcf"
      },
      "execution_count": null,
      "outputs": [
        {
          "output_type": "execute_result",
          "data": {
            "text/plain": [
              "[-50.0, -40.0, -30.0, -20.0, -2.000000000000001, -1.0000000000000004]"
            ]
          },
          "metadata": {},
          "execution_count": 21
        }
      ]
    },
    {
      "cell_type": "markdown",
      "source": [
        "18. Create a program to print the common elements from two lists using a `for` loop."
      ],
      "metadata": {
        "id": "Z2GsIKSo9hdb"
      }
    },
    {
      "cell_type": "code",
      "source": [
        "list1 =[2,4,5,6,7,8,9,3]\n",
        "list2 =[5,3,2,2,3,4,4]\n",
        "list3=[]\n",
        "for a in list1:\n",
        "  for b in list2:\n",
        "    if a == b:\n",
        "      list3.append(a)\n",
        "print(\"common elements are \",list3)\n"
      ],
      "metadata": {
        "colab": {
          "base_uri": "https://localhost:8080/"
        },
        "id": "J72iB51w9lLw",
        "outputId": "c7bbc79d-c1dc-4981-b68b-ff8d2c36d03b"
      },
      "execution_count": null,
      "outputs": [
        {
          "output_type": "stream",
          "name": "stdout",
          "text": [
            "common elements are  [2, 2, 4, 4, 5, 3, 3]\n"
          ]
        }
      ]
    },
    {
      "cell_type": "markdown",
      "source": [
        "19. Develop a program that prints the pattern of right-angled triangles using a `for` loop. Use ‘*’ to draw the\n",
        "pattern"
      ],
      "metadata": {
        "id": "rSE96KCl-3fw"
      }
    },
    {
      "cell_type": "code",
      "source": [
        "x=int(input(\"Enter row number=\\n\"))\n",
        "for i in range(x):\n",
        "    for j in range(i+1):\n",
        "        print(\"#\",end='')\n",
        "    print(\"\")\n",
        "\n"
      ],
      "metadata": {
        "colab": {
          "base_uri": "https://localhost:8080/"
        },
        "id": "3DM4MbrJsEPo",
        "outputId": "c3795a55-a1d7-455a-d4e7-7ddfa87e5b25"
      },
      "execution_count": null,
      "outputs": [
        {
          "output_type": "stream",
          "name": "stdout",
          "text": [
            "Enter row number=\n",
            "6\n",
            "#\n",
            "##\n",
            "###\n",
            "####\n",
            "#####\n",
            "######\n"
          ]
        }
      ]
    },
    {
      "cell_type": "markdown",
      "source": [
        "20. Write a program to find the greatest common divisor (GCD) of two numbers using a `for` loop."
      ],
      "metadata": {
        "id": "KktNiTN9ADYE"
      }
    },
    {
      "cell_type": "code",
      "source": [
        "GCD = 1\n",
        "num1 = 4\n",
        "num2 = 64\n",
        "\n",
        "for i in range(1,min(num1,num2)):\n",
        "\n",
        "  if(num1 % i == 0 and num2 % i == 0):\n",
        "\n",
        "    GCD = i\n",
        "print(f\"greatest common divisor (GCD) of {num1} and {num2} is : \", GCD)"
      ],
      "metadata": {
        "id": "-ByMebFEAHLj",
        "colab": {
          "base_uri": "https://localhost:8080/"
        },
        "outputId": "381daa69-613c-4299-b557-3c85220192c8"
      },
      "execution_count": null,
      "outputs": [
        {
          "output_type": "stream",
          "name": "stdout",
          "text": [
            "greatest common divisor (GCD) of 4 and 64 is :  2\n"
          ]
        }
      ]
    },
    {
      "cell_type": "markdown",
      "source": [
        "Advanced Level:"
      ],
      "metadata": {
        "id": "SDMpj8C3KkqN"
      }
    },
    {
      "cell_type": "markdown",
      "source": [],
      "metadata": {
        "id": "aSXXsznxLKcU"
      }
    },
    {
      "cell_type": "markdown",
      "source": [
        "21. Create a program that calculates the sum of the digits of numbers in a list using a list comprehension."
      ],
      "metadata": {
        "id": "DKBlmlcuKlgq"
      }
    },
    {
      "cell_type": "code",
      "source": [
        "list1 = [12, 15, 3, 10]\n",
        "sum = 0\n",
        "\n",
        "#list comprehension.\n",
        "#[<do-this> <iteration> < condition>]\n",
        "#condition is optional\n",
        "\n",
        "_ = [sum:=sum +x for x in list1]\n",
        "sum\n"
      ],
      "metadata": {
        "colab": {
          "base_uri": "https://localhost:8080/"
        },
        "id": "wgVZTf3WK3g1",
        "outputId": "cb91a538-0130-4d47-ef3f-df9d844138bf"
      },
      "execution_count": null,
      "outputs": [
        {
          "output_type": "execute_result",
          "data": {
            "text/plain": [
              "40"
            ]
          },
          "metadata": {},
          "execution_count": 16
        }
      ]
    },
    {
      "cell_type": "markdown",
      "source": [],
      "metadata": {
        "id": "p29YtkC2w4vV"
      }
    },
    {
      "cell_type": "markdown",
      "source": [
        "22. Write a program to find the prime factors of a given number using a `for` loop and list comprehension."
      ],
      "metadata": {
        "id": "Cnf1DZFjQRWg"
      }
    },
    {
      "cell_type": "code",
      "source": [
        "#don't know\n"
      ],
      "metadata": {
        "id": "5h1dmCpqQUsb"
      },
      "execution_count": null,
      "outputs": []
    },
    {
      "cell_type": "markdown",
      "source": [
        "23.Develop a program that extracts unique elements from a list and stores them in a new list using a list comprehension"
      ],
      "metadata": {
        "id": "3flgJ2yr6-AW"
      }
    },
    {
      "cell_type": "code",
      "source": [
        "list1 = [22,22,23,4,4,4,5]\n",
        "res = [x for x in set(list1)]\n",
        "print(str(list(res)))"
      ],
      "metadata": {
        "colab": {
          "base_uri": "https://localhost:8080/"
        },
        "id": "xQMYoBOb7LqP",
        "outputId": "a1e8f6f1-aef9-485a-9b30-24e3d2019685"
      },
      "execution_count": null,
      "outputs": [
        {
          "output_type": "stream",
          "name": "stdout",
          "text": [
            "[4, 5, 22, 23]\n"
          ]
        }
      ]
    },
    {
      "cell_type": "markdown",
      "source": [
        "24. Create a program that generates a list of all palindromic numbers up to a specified limit using a list comprehension.\n"
      ],
      "metadata": {
        "id": "31OlJkT_AT8o"
      }
    },
    {
      "cell_type": "code",
      "source": [
        "a=[]\n",
        "l=int(input(\"Enter lower limit: \"))\n",
        "u=int(input(\"Enter upper limit: \"))\n",
        "a=[x for x in range(l,u+1) if str(x)==str(x)[::-1]]\n",
        "print(\"The numbers are: \",a)"
      ],
      "metadata": {
        "colab": {
          "base_uri": "https://localhost:8080/"
        },
        "id": "hzv2hkJLA7wD",
        "outputId": "ea34fdd7-5799-4729-939b-89d9576f75c7"
      },
      "execution_count": null,
      "outputs": [
        {
          "output_type": "stream",
          "name": "stdout",
          "text": [
            "Enter lower limit: 0\n",
            "Enter upper limit: 100\n",
            "The numbers are:  [0, 1, 2, 3, 4, 5, 6, 7, 8, 9, 11, 22, 33, 44, 55, 66, 77, 88, 99]\n"
          ]
        }
      ]
    },
    {
      "cell_type": "markdown",
      "source": [
        "25. Write a program to flatten a nested list using list comprehension.\n"
      ],
      "metadata": {
        "id": "EmBK8QAjBTRR"
      }
    },
    {
      "cell_type": "code",
      "source": [
        "# Original list\n",
        "lis = [[11, 22, 33, 44], [55, 66, 77], [88, 99, 100]]\n",
        "\n",
        "# iterate through the sublist using List comprehension\n",
        "flatList = [element for innerList in lis for element in innerList]\n",
        "\n",
        "# printing original list\n",
        "print('List', lis)\n",
        "# printing flat list\n",
        "print('Flat List', flatList)"
      ],
      "metadata": {
        "colab": {
          "base_uri": "https://localhost:8080/"
        },
        "id": "bbdeKXzSBfjZ",
        "outputId": "6f5552bc-4177-40b6-e84c-183ed19e9a18"
      },
      "execution_count": null,
      "outputs": [
        {
          "output_type": "stream",
          "name": "stdout",
          "text": [
            "List [[11, 22, 33, 44], [55, 66, 77], [88, 99, 100]]\n",
            "Flat List [11, 22, 33, 44, 55, 66, 77, 88, 99, 100]\n"
          ]
        }
      ]
    },
    {
      "cell_type": "markdown",
      "source": [
        "26. Develop a program that computes the sum of even and odd numbers in a list separately using list comprehension.\n"
      ],
      "metadata": {
        "id": "EuI6txzBCRfr"
      }
    },
    {
      "cell_type": "code",
      "source": [
        "list1 = [10, 21, 4, 45, 66, 93, 11]\n",
        "sum1=0\n",
        "sum2=0\n",
        "_ = [sum1:=sum1 +x for x in list1 if x%2 !=0]\n",
        "\n",
        "_ = [sum2:=sum2 +x for x in list1 if x%2 ==0]\n",
        "\n",
        "print(\"Even numbers in the list: \", sum2)\n",
        "print(\"Odd numbers in the list: \", sum1)"
      ],
      "metadata": {
        "colab": {
          "base_uri": "https://localhost:8080/"
        },
        "id": "3TzA3RZ1CSYf",
        "outputId": "e521049d-156f-4d20-b602-9ca427d37503"
      },
      "execution_count": null,
      "outputs": [
        {
          "output_type": "stream",
          "name": "stdout",
          "text": [
            "Even numbers in the list:  80\n",
            "Odd numbers in the list:  170\n"
          ]
        }
      ]
    },
    {
      "cell_type": "markdown",
      "source": [
        "\n"
      ],
      "metadata": {
        "id": "2emsdMYoVlbJ"
      }
    },
    {
      "cell_type": "code",
      "source": [
        "list1 = [12, 15, 3, 10]\n",
        "sum = 0\n",
        "\n",
        "#list comprehension.\n",
        "#[<do-this> <iteration> < condition>]\n",
        "#condition is optional\n",
        "\n",
        "_ = [sum:=sum +x for x in list1]\n",
        "sum\n"
      ],
      "metadata": {
        "colab": {
          "base_uri": "https://localhost:8080/"
        },
        "outputId": "86e2bf60-0eb1-4eeb-dacd-bfd03df69517",
        "id": "SoMdZZavDzLS"
      },
      "execution_count": null,
      "outputs": [
        {
          "output_type": "execute_result",
          "data": {
            "text/plain": [
              "40"
            ]
          },
          "metadata": {},
          "execution_count": 45
        }
      ]
    },
    {
      "cell_type": "markdown",
      "source": [
        "27. Create a program that generates a list of squares of odd numbers between 1 and 10 using list comprehension.\n"
      ],
      "metadata": {
        "id": "FC7JDjECWAFr"
      }
    },
    {
      "cell_type": "code",
      "source": [
        "\n",
        "\n",
        "list_squares_oddnumbers=[x*x for x in range(1,10) if x%2 !=0]\n",
        "\n",
        "list_squares_oddnumbers"
      ],
      "metadata": {
        "colab": {
          "base_uri": "https://localhost:8080/"
        },
        "id": "6sfIUihnWBzV",
        "outputId": "c9f25aef-90a5-482f-eb9c-b094e3b29b68"
      },
      "execution_count": 3,
      "outputs": [
        {
          "output_type": "execute_result",
          "data": {
            "text/plain": [
              "[1, 9, 25, 49, 81]"
            ]
          },
          "metadata": {},
          "execution_count": 3
        }
      ]
    },
    {
      "cell_type": "markdown",
      "source": [
        "28. Write a program that combines two lists into a dictionary using list comprehension.\n"
      ],
      "metadata": {
        "id": "D_WoluNkbmaj"
      }
    },
    {
      "cell_type": "code",
      "source": [
        "list1=[1,2,3,4,5]\n",
        "\n",
        "list2=[\"apple\",\"banana\",\"cherry\",\"avacado\",\"mango\"]\n",
        "\n",
        "res_dict={}\n",
        "\n",
        "#without list comprehension\n",
        "\"\"\"\n",
        "for key in list1:\n",
        "    for value in list2:\n",
        "       res_dict[key] = value\n",
        "\"\"\"\n",
        "\n",
        "\n",
        "res_dict = {list1[i]: list2[i] for i in range(len(list1))}\n",
        "res_dict\n"
      ],
      "metadata": {
        "colab": {
          "base_uri": "https://localhost:8080/"
        },
        "id": "0eDLr7Ltbnd8",
        "outputId": "92724c4a-7d4b-462d-e1e3-b283cf1737b8"
      },
      "execution_count": 22,
      "outputs": [
        {
          "output_type": "execute_result",
          "data": {
            "text/plain": [
              "{1: 'apple', 2: 'banana', 3: 'cherry', 4: 'avacado', 5: 'mango'}"
            ]
          },
          "metadata": {},
          "execution_count": 22
        }
      ]
    },
    {
      "cell_type": "markdown",
      "source": [
        "29. Develop a program that extracts the vowels from a string and stores them in a list using list comprehension.\n"
      ],
      "metadata": {
        "id": "y2sMp5eVfFjY"
      }
    },
    {
      "cell_type": "code",
      "source": [
        "str1=\"subhra\"\n",
        "vowels = ['a', 'e', 'i', 'o', 'u', 'A', 'E', 'I', 'O', 'U']\n",
        "list1=[]\n",
        "\n",
        "#without list comprehension\n",
        "\"\"\"\n",
        "for i in range(len(str1)):\n",
        "    if str1[i] in vowels:\n",
        "      list1.append(str1[i])\n",
        "\"\"\"\n",
        "\n",
        "#using list comprehension\n",
        "list1= [str1[i] for i in range(len(str1)) if str1[i] in vowels ]\n",
        "list1\n",
        "\n",
        "\n"
      ],
      "metadata": {
        "colab": {
          "base_uri": "https://localhost:8080/"
        },
        "id": "QLcjnZxKfHGe",
        "outputId": "00eabf19-f45e-4712-bf18-c70a5bcae9f9"
      },
      "execution_count": 21,
      "outputs": [
        {
          "output_type": "execute_result",
          "data": {
            "text/plain": [
              "['u', 'a']"
            ]
          },
          "metadata": {},
          "execution_count": 21
        }
      ]
    },
    {
      "cell_type": "markdown",
      "source": [
        "30. Create a program that removes all non-numeric characters from a list of strings using list comprehension.\n",
        "\n"
      ],
      "metadata": {
        "id": "7Xvvygb2iOV6"
      }
    },
    {
      "cell_type": "code",
      "source": [
        "\n",
        "#don't know"
      ],
      "metadata": {
        "id": "8Yr27nlPiPZ1"
      },
      "execution_count": 37,
      "outputs": []
    },
    {
      "cell_type": "markdown",
      "source": [
        "Challenge Level:\n"
      ],
      "metadata": {
        "id": "xI39twjHf2qT"
      }
    },
    {
      "cell_type": "markdown",
      "source": [
        "31. Write a program to generate a list of prime numbers using the Sieve of Eratosthenes algorithm and list comprehension.\n"
      ],
      "metadata": {
        "id": "fZIMa_-ef530"
      }
    },
    {
      "cell_type": "code",
      "source": [
        "#don't understand"
      ],
      "metadata": {
        "id": "0e0eN5Mgf8pa"
      },
      "execution_count": null,
      "outputs": []
    },
    {
      "cell_type": "markdown",
      "source": [
        "32. Create a program that generates a list of all Pythagorean triplets up to a specified limit using list comprehension.\n"
      ],
      "metadata": {
        "id": "qdRMvNeLkaA1"
      }
    },
    {
      "cell_type": "code",
      "source": [
        "\"\"\"\n",
        "A Pythagorean triplet is a set of three positive integers a, b and c\n",
        "such that a2 + b2 = c2. Given a limit, generate all Pythagorean Triples\n",
        "with values smaller than given limit.\n",
        "\n",
        "\n",
        "\n",
        "Input : limit = 20\n",
        "Output : 3 4 5\n",
        "         8 6 10\n",
        "         5 12 13\n",
        "         15 8 17\n",
        "         12 16 20\n",
        "\n",
        "         \"\"\"\n",
        "\n",
        "n = int(input('Enter the value of n: '))\n",
        "print([(a, b, c) for a in range(1, n + 1) for b in range(a, n + 1)\n",
        "       for c in range(b, n + 1) if a**2 + b**2 == c**2])\n",
        ""
      ],
      "metadata": {
        "colab": {
          "base_uri": "https://localhost:8080/"
        },
        "id": "62hIWlKCka2c",
        "outputId": "9fb68863-6d81-4063-a5b0-982dfd7dce1b"
      },
      "execution_count": 38,
      "outputs": [
        {
          "output_type": "stream",
          "name": "stdout",
          "text": [
            "Enter the value of n: 60\n",
            "[(3, 4, 5), (5, 12, 13), (6, 8, 10), (7, 24, 25), (8, 15, 17), (9, 12, 15), (9, 40, 41), (10, 24, 26), (12, 16, 20), (12, 35, 37), (14, 48, 50), (15, 20, 25), (15, 36, 39), (16, 30, 34), (18, 24, 30), (20, 21, 29), (20, 48, 52), (21, 28, 35), (24, 32, 40), (24, 45, 51), (27, 36, 45), (28, 45, 53), (30, 40, 50), (33, 44, 55), (36, 48, 60), (40, 42, 58)]\n"
          ]
        }
      ]
    },
    {
      "cell_type": "markdown",
      "source": [
        "33. Develop a program that generates a list of all possible combinations of two lists using list comprehension.\n"
      ],
      "metadata": {
        "id": "oLCGM4BClh6I"
      }
    },
    {
      "cell_type": "code",
      "source": [
        "\"\"\"\n",
        "\n",
        "List_1 = [\"a\",\"b\"]\n",
        "List_2 = [1,2]\n",
        "Unique_combination = [[('a',1),('b',2)],[('a',2),('b',1)]]\n",
        "\n",
        "\"\"\"\n",
        "\n",
        "\n",
        "\"\"\"\n",
        "    Import itertools package and initialize list_1 and list_2.\n",
        "    Create an empty list of ‘unique_combinations’ to store the resulting combinations so obtained.\n",
        "    Call itertools.permutations( ) which will return permutations of list_1 with length of list_2. Generally, the length of the shorter list is taken and if both lists are equal, use either.\n",
        "    For loop is used and zip() function is called to pair each permutation and shorter list element into the combination.\n",
        "    Then each combination is converted into a list and append to the combination list.\n",
        "\n",
        "\n",
        "\"\"\"\n",
        "#don't understand\n",
        "\n",
        "import itertools\n",
        "from itertools import permutations\n",
        "\n",
        "# initialize lists\n",
        "list_1 = [\"a\", \"b\", \"c\",\"d\"]\n",
        "list_2 = [1,4,9]\n",
        "\n",
        "# create empty list to store the\n",
        "# combinations\n",
        "unique_combinations = []\n",
        "\n",
        "# Getting all permutations of list_1\n",
        "# with length of list_2\n",
        "permut = itertools.permutations(list_1, len(list_2))\n",
        "\n",
        "# zip() is called to pair each permutation\n",
        "# and shorter list element into combination\n",
        "for comb in permut:\n",
        "    zipped = zip(comb, list_2)\n",
        "    unique_combinations.append(list(zipped))\n",
        "\n",
        "# printing unique_combination list\n",
        "print(unique_combinations)"
      ],
      "metadata": {
        "colab": {
          "base_uri": "https://localhost:8080/"
        },
        "id": "vHWX1BLhllhA",
        "outputId": "31df5ca9-4f30-4d6a-d170-a8baa89065e3"
      },
      "execution_count": 39,
      "outputs": [
        {
          "output_type": "stream",
          "name": "stdout",
          "text": [
            "[[('a', 1), ('b', 4), ('c', 9)], [('a', 1), ('b', 4), ('d', 9)], [('a', 1), ('c', 4), ('b', 9)], [('a', 1), ('c', 4), ('d', 9)], [('a', 1), ('d', 4), ('b', 9)], [('a', 1), ('d', 4), ('c', 9)], [('b', 1), ('a', 4), ('c', 9)], [('b', 1), ('a', 4), ('d', 9)], [('b', 1), ('c', 4), ('a', 9)], [('b', 1), ('c', 4), ('d', 9)], [('b', 1), ('d', 4), ('a', 9)], [('b', 1), ('d', 4), ('c', 9)], [('c', 1), ('a', 4), ('b', 9)], [('c', 1), ('a', 4), ('d', 9)], [('c', 1), ('b', 4), ('a', 9)], [('c', 1), ('b', 4), ('d', 9)], [('c', 1), ('d', 4), ('a', 9)], [('c', 1), ('d', 4), ('b', 9)], [('d', 1), ('a', 4), ('b', 9)], [('d', 1), ('a', 4), ('c', 9)], [('d', 1), ('b', 4), ('a', 9)], [('d', 1), ('b', 4), ('c', 9)], [('d', 1), ('c', 4), ('a', 9)], [('d', 1), ('c', 4), ('b', 9)]]\n"
          ]
        }
      ]
    },
    {
      "cell_type": "markdown",
      "source": [
        "34. Write a program that calculates the mean, median, and mode of a list of numbers using list comprehension.\n"
      ],
      "metadata": {
        "id": "cpYI9xUfsb3y"
      }
    },
    {
      "cell_type": "code",
      "source": [
        "#Mean\n",
        "\n",
        "\n",
        "#Median\n",
        "\n",
        "\n",
        "#Mode"
      ],
      "metadata": {
        "id": "tCUIuslWsgSL"
      },
      "execution_count": 46,
      "outputs": []
    },
    {
      "cell_type": "markdown",
      "source": [
        "35. Create a program that generates Pascal's triangle up to a specified number of rows using list comprehension.\n"
      ],
      "metadata": {
        "id": "4qa53-z0wjAL"
      }
    },
    {
      "cell_type": "code",
      "source": [],
      "metadata": {
        "id": "gq3FNC_xwiJ9"
      },
      "execution_count": null,
      "outputs": []
    },
    {
      "cell_type": "markdown",
      "source": [
        "36. Develop a program that calculates the sum of the digits of a factorial of numbers from 1 to 5 using list comprehension.\n"
      ],
      "metadata": {
        "id": "SmzUF_DjwsOM"
      }
    },
    {
      "cell_type": "code",
      "source": [],
      "metadata": {
        "id": "qKv_B6klwwET"
      },
      "execution_count": null,
      "outputs": []
    },
    {
      "cell_type": "markdown",
      "source": [
        "37. Write a program that finds the longest word in a sentence using list comprehension.\n"
      ],
      "metadata": {
        "id": "2TDv1cHCwzn6"
      }
    },
    {
      "cell_type": "code",
      "source": [],
      "metadata": {
        "id": "9K-5XT1Yw0jv"
      },
      "execution_count": null,
      "outputs": []
    },
    {
      "cell_type": "markdown",
      "source": [
        "38. Create a program that filters a list of strings to include only those with more than three vowels using list comprehension.\n"
      ],
      "metadata": {
        "id": "z0KM185Uw1Fo"
      }
    },
    {
      "cell_type": "code",
      "source": [],
      "metadata": {
        "id": "vc6hzA4hw8pO"
      },
      "execution_count": null,
      "outputs": []
    },
    {
      "cell_type": "markdown",
      "source": [
        "39. Develop a program that calculates the sum of the digits of numbers from 1 to 1000 using list"
      ],
      "metadata": {
        "id": "NcTBbnzsw33b"
      }
    },
    {
      "cell_type": "code",
      "source": [],
      "metadata": {
        "id": "ylW7X9RQw9kO"
      },
      "execution_count": null,
      "outputs": []
    },
    {
      "cell_type": "markdown",
      "source": [
        "40. Write a program that generates a list of prime palindromic numbers using list comprehension.\n",
        "\n"
      ],
      "metadata": {
        "id": "5-mmymNTw-JS"
      }
    },
    {
      "cell_type": "code",
      "source": [],
      "metadata": {
        "id": "AFNjrkQrxA-N"
      },
      "execution_count": null,
      "outputs": []
    },
    {
      "cell_type": "markdown",
      "source": [],
      "metadata": {
        "id": "Pz_mu_ujwwfS"
      }
    }
  ]
}